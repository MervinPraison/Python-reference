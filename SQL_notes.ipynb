{
 "cells": [
  {
   "cell_type": "markdown",
   "metadata": {},
   "source": [
    "# SQL notes"
   ]
  },
  {
   "cell_type": "markdown",
   "metadata": {},
   "source": [
    "# SELECT * and LIMIT"
   ]
  },
  {
   "cell_type": "code",
   "execution_count": null,
   "metadata": {},
   "outputs": [],
   "source": [
    "SELECT *\n",
    "FROM people\n",
    "LIMIT 10;"
   ]
  },
  {
   "cell_type": "code",
   "execution_count": null,
   "metadata": {},
   "outputs": [],
   "source": [
    "SELECT title, release_year, country\n",
    "FROM films;"
   ]
  },
  {
   "cell_type": "markdown",
   "metadata": {},
   "source": [
    "# SELECT COUNT(DISTINCT... \n",
    "- COUNT will not include NULL values"
   ]
  },
  {
   "cell_type": "code",
   "execution_count": null,
   "metadata": {},
   "outputs": [],
   "source": [
    "# SELECT DISTINCT - remove duplicates\n",
    "SELECT DISTINCT country \n",
    "FROM films"
   ]
  },
  {
   "cell_type": "code",
   "execution_count": null,
   "metadata": {
    "ExecuteTime": {
     "end_time": "2021-10-28T05:18:58.946027Z",
     "start_time": "2021-10-28T05:18:58.942261Z"
    }
   },
   "outputs": [],
   "source": [
    "# SELECT COUNT\n",
    "\n",
    "# number of rows\n",
    "SELECT COUNT(*)\n",
    "FROM people;\n",
    "\n",
    "# count but drop nan\n",
    "SELECT COUNT(birthdate)\n",
    "FROM people;\n",
    "\n",
    "# COUNT(DISTINCT...\n",
    "SELECT COUNT(DISTINCT birthdate)\n",
    "FROM people;\n",
    "\n"
   ]
  },
  {
   "cell_type": "markdown",
   "metadata": {},
   "source": [
    "# Filtering with WHERE\n",
    "- after the FROM statement\n",
    "- Important: in PostgreSQL (the version of SQL we're using), you must use single quotes with WHERE."
   ]
  },
  {
   "cell_type": "markdown",
   "metadata": {},
   "source": [
    "WHERE keyword allows you to filter based on both text and numeric values in a table. There are a few different comparison operators you can use:\n",
    "\n",
    "'=' equal\n",
    "\n",
    "'<>' not equal - Note that in this course we will use <> and not != for the not equal operator, as per the SQL standard.\n",
    "\n",
    "'<' less than\n",
    "\n",
    "'>' greater than\n",
    "\n",
    "'<=' less than or equal to\n",
    "\n",
    "'>=' greater than or equal to"
   ]
  },
  {
   "cell_type": "code",
   "execution_count": null,
   "metadata": {},
   "outputs": [],
   "source": [
    "SELECT title\n",
    "FROM films\n",
    "WHERE title = 'Metropolis';"
   ]
  },
  {
   "cell_type": "code",
   "execution_count": null,
   "metadata": {},
   "outputs": [],
   "source": [
    "SELECT title\n",
    "FROM films\n",
    "WHERE title = 'Metropolis';"
   ]
  },
  {
   "cell_type": "markdown",
   "metadata": {},
   "source": [
    "# WHERE AND"
   ]
  },
  {
   "cell_type": "code",
   "execution_count": null,
   "metadata": {},
   "outputs": [],
   "source": [
    "SELECT title\n",
    "FROM films\n",
    "WHERE release_year > 1994\n",
    "AND release_year < 2000;"
   ]
  },
  {
   "cell_type": "markdown",
   "metadata": {},
   "source": [
    "# WHERE OR, WHERE (x OR y) AND (a OR b)"
   ]
  },
  {
   "cell_type": "code",
   "execution_count": null,
   "metadata": {},
   "outputs": [],
   "source": [
    "SELECT title\n",
    "FROM films\n",
    "WHERE release_year = 1994\n",
    "OR release_year = 2000;"
   ]
  },
  {
   "cell_type": "code",
   "execution_count": null,
   "metadata": {},
   "outputs": [],
   "source": [
    "# using parentheses for individual clauses when using AND and OR\n",
    "SELECT title\n",
    "FROM films\n",
    "WHERE (release_year = 1994 OR release_year = 1995)\n",
    "AND (certification = 'PG' OR certification = 'R');"
   ]
  },
  {
   "cell_type": "code",
   "execution_count": null,
   "metadata": {},
   "outputs": [],
   "source": [
    "SELECT title, release_year\n",
    "FROM films\n",
    "WHERE (release_year > 1989 AND release_year < 2000) \n",
    "AND (language='French' OR language='Spanish')\n",
    "AND (gross >2000000)"
   ]
  },
  {
   "cell_type": "markdown",
   "metadata": {},
   "source": [
    "# BETWEEN\n",
    "- inclusive\n",
    "- Similar to the WHERE clause, the BETWEEN clause can be used with multiple AND and OR operators,"
   ]
  },
  {
   "cell_type": "code",
   "execution_count": null,
   "metadata": {},
   "outputs": [],
   "source": [
    "SELECT title\n",
    "FROM films\n",
    "WHERE release_year\n",
    "BETWEEN 1994 AND 2000;"
   ]
  },
  {
   "cell_type": "markdown",
   "metadata": {},
   "source": [
    "# WHERE IN\n",
    "- The IN operator allows you to specify multiple values in a WHERE clause, making it easier and quicker to specify multiple OR conditions!"
   ]
  },
  {
   "cell_type": "code",
   "execution_count": null,
   "metadata": {},
   "outputs": [],
   "source": [
    "SELECT name\n",
    "FROM kids\n",
    "WHERE age IN (2, 4, 6, 8, 10);"
   ]
  },
  {
   "cell_type": "code",
   "execution_count": null,
   "metadata": {},
   "outputs": [],
   "source": [
    "SELECT title, release_year\n",
    "FROM films\n",
    "WHERE release_year IN (1990, 2000)\n",
    "AND duration > 120"
   ]
  },
  {
   "cell_type": "markdown",
   "metadata": {},
   "source": [
    "# NULL and IS NULL, IS NOT NULL"
   ]
  },
  {
   "cell_type": "code",
   "execution_count": null,
   "metadata": {},
   "outputs": [],
   "source": [
    "# count NULL values\n",
    "SELECT COUNT(*)\n",
    "FROM people\n",
    "WHERE birthdate IS NULL;"
   ]
  },
  {
   "cell_type": "code",
   "execution_count": null,
   "metadata": {},
   "outputs": [],
   "source": [
    "SELECT name\n",
    "FROM people\n",
    "WHERE birthdate IS NOT NULL;"
   ]
  },
  {
   "cell_type": "markdown",
   "metadata": {},
   "source": [
    "# LIKE and NOT LIKE"
   ]
  },
  {
   "cell_type": "markdown",
   "metadata": {},
   "source": [
    "you'll want to search for a pattern rather than a specific text string.\n",
    "\n",
    "In SQL, the LIKE operator can be used in a WHERE clause to search for a pattern in a column. To accomplish this, you use something called a wildcard as a placeholder for some other values. There are two wildcards you can use with LIKE:\n",
    "\n",
    "The `%` wildcard will match zero, one, or many characters in text. For example, the following query matches companies like 'Data', 'DataC' 'DataCamp', 'DataMind', and so on:\n",
    "\n",
    "SELECT name\n",
    "FROM companies\n",
    "WHERE name LIKE 'Data%';\n",
    "\n",
    "The `_` wildcard will match a single character. For example, the following query matches companies like 'DataCamp', 'DataComp', and so on:\n",
    "\n",
    "SELECT name\n",
    "FROM companies\n",
    "WHERE name LIKE 'DataC_mp';\n",
    "You can also use the NOT LIKE operator to find records that don't match the pattern you specify."
   ]
  },
  {
   "cell_type": "code",
   "execution_count": null,
   "metadata": {},
   "outputs": [],
   "source": [
    "SELECT name\n",
    "FROM people\n",
    "WHERE name LIKE 'B%';"
   ]
  },
  {
   "cell_type": "markdown",
   "metadata": {},
   "source": [
    "# Aggregate functions"
   ]
  },
  {
   "cell_type": "code",
   "execution_count": null,
   "metadata": {},
   "outputs": [],
   "source": [
    "SELECT AVG(budget)\n",
    "FROM films;\n",
    "\n",
    "SELECT MAX(budget)\n",
    "FROM films;\n",
    "\n",
    "SELECT SUM(budget)\n",
    "FROM films;\n",
    "\n",
    "SELECT MIN(budget)\n",
    "FROM films;"
   ]
  },
  {
   "cell_type": "markdown",
   "metadata": {},
   "source": [
    "## Combine aggregate functions with WHERE"
   ]
  },
  {
   "cell_type": "code",
   "execution_count": null,
   "metadata": {},
   "outputs": [],
   "source": [
    "SELECT SUM(budget)\n",
    "FROM films\n",
    "WHERE release_year >= 2010;"
   ]
  },
  {
   "cell_type": "code",
   "execution_count": null,
   "metadata": {},
   "outputs": [],
   "source": [
    "# title starts with 'A'\n",
    "SELECT AVG(gross)\n",
    "FROM films\n",
    "WHERE title LIKE 'A%';"
   ]
  },
  {
   "cell_type": "code",
   "execution_count": null,
   "metadata": {},
   "outputs": [],
   "source": [
    "SELECT MAX(gross)\n",
    "FROM films\n",
    "WHERE release_year\n",
    "BETWEEN 2000 AND 2012;"
   ]
  },
  {
   "cell_type": "markdown",
   "metadata": {},
   "source": [
    "## Arithmetic\n",
    "- `+`, `-`, `*`, and `/`"
   ]
  },
  {
   "cell_type": "code",
   "execution_count": null,
   "metadata": {},
   "outputs": [],
   "source": [
    "SELECT (4 * 3);\n",
    "# 12\n",
    "\n",
    "# note division of integers, returns same type of integers\n",
    "SELECT (4 / 3);\n",
    "# 1\n",
    "\n",
    "SELECT (4.0 / 3.0) AS result;\n",
    "# 1.333"
   ]
  },
  {
   "cell_type": "markdown",
   "metadata": {},
   "source": [
    "### Make sure when dividing you use at least 1 float type"
   ]
  },
  {
   "cell_type": "code",
   "execution_count": null,
   "metadata": {},
   "outputs": [],
   "source": [
    "SELECT 45 * 100.0 / 10;"
   ]
  },
  {
   "cell_type": "markdown",
   "metadata": {},
   "source": [
    "# Aliasing with AS"
   ]
  },
  {
   "cell_type": "code",
   "execution_count": null,
   "metadata": {},
   "outputs": [],
   "source": [
    "SELECT MAX(budget) AS max_budget,\n",
    "       MAX(duration) AS max_duration\n",
    "FROM films;\n",
    "\n",
    "SELECT title,\n",
    "    (gross - budget) AS net_profit\n",
    "FROM films;\n",
    "\n",
    "SELECT AVG(duration)/60.0 AS avg_duration_hours\n",
    "FROM films;"
   ]
  },
  {
   "cell_type": "code",
   "execution_count": null,
   "metadata": {},
   "outputs": [],
   "source": [
    "# note COUNT will not include NULL values\n",
    "-- get the count(deathdate) and multiply by 100.0\n",
    "-- then divide by count(*)\n",
    "SELECT COUNT(deathdate)*100.0/COUNT(*) AS percentage_dead\n",
    "FROM people;\n",
    "\n",
    "SELECT MAX(release_year)-MIN(release_year) AS difference\n",
    "FROM films;\n",
    "\n",
    "# Use () for numerator of fraction\n",
    "SELECT (MAX(release_year)-MIN(release_year))/10.0 AS number_of_decades\n",
    "FROM films;"
   ]
  },
  {
   "cell_type": "markdown",
   "metadata": {},
   "source": [
    "# Commenting with --"
   ]
  },
  {
   "cell_type": "markdown",
   "metadata": {},
   "source": [
    "-- get the count(deathdate) and multiply by 100.0\n",
    "\n",
    "-- then divide by count(*)"
   ]
  },
  {
   "cell_type": "markdown",
   "metadata": {},
   "source": [
    "# ORDER BY\n",
    "- default ascending order\n",
    "- `DESC` for descending order\n",
    "- NOTE - ORDER BY sorts text column alphabetically A to Z by default"
   ]
  },
  {
   "cell_type": "code",
   "execution_count": null,
   "metadata": {},
   "outputs": [],
   "source": [
    "# DESC example\n",
    "SELECT title\n",
    "FROM films\n",
    "ORDER BY release_year DESC;\n",
    "\n",
    "SELECT name\n",
    "FROM people\n",
    "ORDER BY name;\n",
    "\n",
    "SELECT birthdate, name\n",
    "FROM people\n",
    "ORDER BY birthdate;\n",
    "\n",
    "SELECT title\n",
    "FROM films\n",
    "WHERE release_year IN (2000,2012)\n",
    "ORDER BY release_year;\n",
    "\n",
    "SELECT *\n",
    "FROM films\n",
    "WHERE release_year <> 2015\n",
    "ORDER BY duration;\n",
    "\n",
    "SELECT title, gross\n",
    "FROM films\n",
    "WHERE title LIKE 'M%'\n",
    "ORDER BY title;"
   ]
  },
  {
   "cell_type": "markdown",
   "metadata": {},
   "source": [
    "## ORDER BY for multiple columns"
   ]
  },
  {
   "cell_type": "code",
   "execution_count": null,
   "metadata": {
    "ExecuteTime": {
     "end_time": "2021-10-29T04:32:53.971974Z",
     "start_time": "2021-10-29T04:32:53.952327Z"
    }
   },
   "outputs": [],
   "source": [
    "SELECT birthdate, name\n",
    "FROM people\n",
    "ORDER BY birthdate, name;\n"
   ]
  },
  {
   "cell_type": "markdown",
   "metadata": {},
   "source": [
    "# GROUP BY\n",
    "- Commonly, `GROUP BY` is used with aggregate functions like `COUNT()` or `MAX()`. Note that `GROUP BY` always goes after the `FROM` clause!\n",
    "- Note also that `ORDER BY` always goes after `GROUP BY`. Let's try some exercises!"
   ]
  },
  {
   "cell_type": "code",
   "execution_count": null,
   "metadata": {},
   "outputs": [],
   "source": [
    "SELECT sex, count(*)\n",
    "FROM employees\n",
    "GROUP BY sex;"
   ]
  },
  {
   "cell_type": "code",
   "execution_count": null,
   "metadata": {},
   "outputs": [],
   "source": [
    "'''\n",
    "A word of warning: SQL will return an error if you try to SELECT \n",
    "a field that is not in your GROUP BY clause without using it to \n",
    "calculate some kind of value about the entire group.\n",
    "\n",
    "Note that you can combine GROUP BY with ORDER BY to group your \n",
    "results, calculate something about them, and then order your results. \n",
    "For example,\n",
    "'''\n",
    "\n",
    "SELECT sex, count(*)\n",
    "FROM employees\n",
    "GROUP BY sex\n",
    "ORDER BY count DESC;\n",
    "\n",
    "SELECT release_year, MIN(gross)\n",
    "FROM films\n",
    "GROUP BY release_year;\n",
    "\n",
    "SELECT language, SUM(gross)\n",
    "FROM films\n",
    "GROUP BY language;\n",
    "\n",
    "SELECT release_year, country, MAX(budget)\n",
    "FROM films\n",
    "GROUP BY release_year, country\n",
    "ORDER BY release_year, country;\n"
   ]
  },
  {
   "cell_type": "markdown",
   "metadata": {},
   "source": [
    "# HAVING\n",
    "- In SQL, aggregate functions can't be used in WHERE clauses.\n"
   ]
  },
  {
   "cell_type": "code",
   "execution_count": null,
   "metadata": {},
   "outputs": [],
   "source": [
    "# shows only those years in which more than 10 films were released\n",
    "SELECT release_year\n",
    "FROM films\n",
    "GROUP BY release_year\n",
    "HAVING COUNT(title) > 10;"
   ]
  },
  {
   "cell_type": "code",
   "execution_count": null,
   "metadata": {},
   "outputs": [],
   "source": [
    "SELECT COUNT(release_year)\n",
    "FROM films\n",
    "GROUP BY release_year\n",
    "HAVING COUNT(release_year) > 200;"
   ]
  },
  {
   "cell_type": "code",
   "execution_count": null,
   "metadata": {},
   "outputs": [],
   "source": [
    "# In how many different years were more than 200 movies released?\n",
    "SELECT release_year\n",
    "FROM films\n",
    "GROUP BY release_year\n",
    "HAVING COUNT(title) > 200;"
   ]
  },
  {
   "cell_type": "markdown",
   "metadata": {},
   "source": [
    "# Example - ORDER BY, GROUP BY, HAVING"
   ]
  },
  {
   "cell_type": "code",
   "execution_count": null,
   "metadata": {},
   "outputs": [],
   "source": [
    "SELECT release_year, AVG(budget) AS avg_budget, AVG(gross) AS avg_gross\n",
    "FROM films\n",
    "WHERE release_year > 1990\n",
    "GROUP BY release_year\n",
    "HAVING AVG(budget) > 60000000\n",
    "ORDER BY (avg_gross) DESC;"
   ]
  },
  {
   "cell_type": "code",
   "execution_count": null,
   "metadata": {},
   "outputs": [],
   "source": [
    "-- select country, average budget, SE\n",
    "SELECT country, AVG(budget) AS avg_budget,\n",
    "--     and average gross\n",
    "    AVG(gross) AS avg_gross\n",
    "-- from the films table\n",
    "FROM FILMS\n",
    "-- group by country \n",
    "GROUP BY country\n",
    "-- where the country has more than 10 titles\n",
    "HAVING COUNT(country) > 10\n",
    "-- order by country\n",
    "ORDER BY country\n",
    "-- limit to only show 5 results\n",
    "LIMIT 5;"
   ]
  },
  {
   "cell_type": "markdown",
   "metadata": {},
   "source": [
    "# JOIN\n",
    "- note jupyter notebook on SQL_joins"
   ]
  },
  {
   "cell_type": "code",
   "execution_count": null,
   "metadata": {},
   "outputs": [],
   "source": [
    "SELECT title, imdb_score\n",
    "FROM films\n",
    "JOIN reviews\n",
    "ON films.id = reviews.film_id\n",
    "WHERE title = 'To Kill a Mockingbird';"
   ]
  },
  {
   "cell_type": "code",
   "execution_count": null,
   "metadata": {},
   "outputs": [],
   "source": [
    "SELECT \tname\n",
    "FROM hit_tracks AS t\n",
    "INNER JOIN features AS f\n",
    "ON \n",
    "t.id = f.song_id\n",
    " AND \n",
    "t.dance = f.dance_level\n",
    " \n",
    "ORDER BY name\n",
    "LIMIT 5;"
   ]
  },
  {
   "cell_type": "markdown",
   "metadata": {},
   "source": [
    "# Intermediate SQL skills..."
   ]
  },
  {
   "cell_type": "markdown",
   "metadata": {},
   "source": [
    "# `CASE WHEN` statement\n",
    "Applications\n",
    "- create categorical variables\n",
    "- aggregate data into a single column with multiple filtering conditions\n",
    "- calculate counts and %\n",
    "\n",
    "`CASE` statements - create categories in a field\n",
    "- `WHEN`, `THEN`, `ELSE`, `END AS` alias"
   ]
  },
  {
   "cell_type": "code",
   "execution_count": null,
   "metadata": {},
   "outputs": [],
   "source": [
    "# identify matches played between FC Schalke 04 and FC Bayern Munich\n",
    "SELECT\n",
    "    -- Select the team long name and team API id\n",
    "    team_long_name,\n",
    "    team_api_id\n",
    "FROM teams_germany\n",
    "-- Only include FC Schalke 04 and FC Bayern Munich\n",
    "WHERE team_long_name IN ('FC Schalke 04', 'FC Bayern Munich');\n",
    "\n"
   ]
  },
  {
   "cell_type": "code",
   "execution_count": null,
   "metadata": {},
   "outputs": [],
   "source": [
    "# Create a CASE statement that identifies whether a match in \n",
    "# Germany included FC Bayern Munich, FC Schalke 04, \n",
    "# or neither as the home team\n",
    "-- Identify the home team as Bayern Munich, Schalke 04, or neither\n",
    "SELECT \n",
    "    CASE WHEN hometeam_id = 10189 THEN 'FC Schalke 04'\n",
    "         WHEN hometeam_id = 9823 THEN 'FC Bayern Munich'\n",
    "         ELSE 'Other' END AS home_team,\n",
    "    COUNT(id) AS total_matches\n",
    "FROM matches_germany\n",
    "-- Group by the CASE statement alias\n",
    "GROUP BY home_team;"
   ]
  },
  {
   "cell_type": "markdown",
   "metadata": {},
   "source": [
    "## CASE - comparing column values"
   ]
  },
  {
   "cell_type": "code",
   "execution_count": null,
   "metadata": {},
   "outputs": [],
   "source": [
    "# creating a list of matches in the 2011/2012 season where \n",
    "# Barcelona was the home team\n",
    "'''\n",
    "In 3 steps, you will build a query that identifies a match's winner, \n",
    "identifies the identity of the opponent, and finally filters \n",
    "for Barcelona as the home team.\n",
    "'''\n",
    "\n",
    "# create categories for home win, loss, or tie\n",
    "SELECT \n",
    "    -- Select the date of the match\n",
    "    date,\n",
    "    -- Identify home wins, losses, or ties\n",
    "    CASE WHEN home_goal > away_goal THEN 'Home win!'\n",
    "        WHEN home_goal < away_goal THEN 'Home loss :(' \n",
    "        ELSE 'Tie' END AS outcome\n",
    "FROM matches_spain;\n",
    "\n",
    "# Build 2nd step into query\n",
    "SELECT \n",
    "    m.date,\n",
    "    --Select the team long name column and call it 'opponent'\n",
    "    t.team_long_name AS opponent, \n",
    "    -- Complete the CASE statement with an alias\n",
    "    CASE WHEN m.home_goal > away_goal THEN 'Home win!'\n",
    "        WHEN m.home_goal < away_goal THEN 'Home loss :('\n",
    "        ELSE 'Tie' END AS outcome\n",
    "FROM matches_spain AS m\n",
    "-- Left join teams_spain onto matches_spain\n",
    "LEFT JOIN teams_spain AS t\n",
    "# this allows for identifying the opponent\n",
    "ON m.awayteam_id = t.team_api_id;\n",
    "\n",
    "# Add 3rd step\n",
    "SELECT \n",
    "    m.date,\n",
    "    t.team_long_name AS opponent,\n",
    "    -- Complete the CASE statement with an alias\n",
    "    CASE WHEN m.home_goal > m.away_goal THEN 'Barcelona win!'\n",
    "        WHEN m.home_goal < m.away_goal THEN 'Barcelona loss :('\n",
    "        ELSE 'Tie' END AS outcome \n",
    "FROM matches_spain AS m\n",
    "LEFT JOIN teams_spain AS t \n",
    "ON m.awayteam_id = t.team_api_id\n",
    "-- Filter for Barcelona as the home team\n",
    "WHERE m.hometeam_id = 8634; "
   ]
  },
  {
   "cell_type": "markdown",
   "metadata": {},
   "source": [
    "## CASE - compare 2 column values"
   ]
  },
  {
   "cell_type": "code",
   "execution_count": null,
   "metadata": {},
   "outputs": [],
   "source": [
    "-- Select matches where Barcelona was the away team\n",
    "SELECT  \n",
    "    m.date,\n",
    "    t.team_long_name AS opponent,\n",
    "    CASE WHEN m.home_goal < m.away_goal THEN 'Barcelona win!'\n",
    "        WHEN m.home_goal > m.away_goal THEN 'Barcelona loss :(' \n",
    "        ELSE 'Tie' END AS outcome\n",
    "FROM matches_spain AS m\n",
    "-- Join teams_spain to matches_spain\n",
    "LEFT JOIN teams_spain AS t \n",
    "ON m.hometeam_id = t.team_api_id\n",
    "WHERE m.awayteam_id = 8634;"
   ]
  },
  {
   "cell_type": "markdown",
   "metadata": {},
   "source": [
    "## CASE WHEN...AND (inside WHEN clause) - for multiple conditions\n",
    "- may need `WHERE` clause for specific filters"
   ]
  },
  {
   "cell_type": "code",
   "execution_count": null,
   "metadata": {},
   "outputs": [],
   "source": [
    "SELECT date, hometeam_id, awayteam_id,\n",
    "    CASE WHEN hometeam_id = 8455 AND home_goal > away_goal\n",
    "            THEN 'Chelsea home win!'\n",
    "         WHEN awayteam_id = 8455 AND home_goal < away_goal\n",
    "            THEN 'Chelsea away win!'\n",
    "         ELSE 'Loss or tie :(' END AS outcome\n",
    "FROM match\n",
    "WHERE hometeam_id = 8455 OR awayteam_id = 8455;"
   ]
  },
  {
   "cell_type": "code",
   "execution_count": null,
   "metadata": {},
   "outputs": [],
   "source": [
    "SELECT \n",
    "    date,\n",
    "    CASE WHEN hometeam_id = 8634 THEN 'FC Barcelona' \n",
    "         ELSE 'Real Madrid CF' END AS home,\n",
    "    CASE WHEN awayteam_id = 8634 THEN 'FC Barcelona' \n",
    "         ELSE 'Real Madrid CF' END AS away,\n",
    "    -- Identify all possible match outcomes\n",
    "    CASE WHEN home_goal > away_goal AND hometeam_id = 8634 THEN 'Barcelona win!'\n",
    "        WHEN home_goal > away_goal AND hometeam_id = 8633 THEN 'Real Madrid win!'\n",
    "        WHEN home_goal < away_goal AND awayteam_id = 8634 THEN 'Barcelona win!'\n",
    "        WHEN home_goal < away_goal AND awayteam_id = 8633 THEN 'Real Madrid win!'\n",
    "        ELSE 'Tie!' END AS outcome\n",
    "FROM matches_spain\n",
    "WHERE (awayteam_id = 8634 OR hometeam_id = 8634)\n",
    "      AND (awayteam_id = 8633 OR hometeam_id = 8633);"
   ]
  },
  {
   "cell_type": "markdown",
   "metadata": {},
   "source": [
    "## CASE WHEN...AND...WHERE - drop NULL\n",
    "- you can use the CASE statement as a filtering column like any other column in your database. The only difference is that you don't alias the statement in `WHERE`.\n",
    "- do not alias the CASE"
   ]
  },
  {
   "cell_type": "code",
   "execution_count": null,
   "metadata": {},
   "outputs": [],
   "source": [
    "SELECT date, hometeam_id, awayteam_id,\n",
    "    CASE WHEN hometeam_id = 8455 AND home_goal > away_goal\n",
    "            THEN 'Chelsea home win!'\n",
    "         WHEN awayteam_id = 8455 AND home_goal < away_goal\n",
    "            THEN 'Chelsea away win!'\n",
    "         ELSE 'Loss or tie :(' END AS outcome\n",
    "FROM match\n",
    "# use CASE and END IS NOT NULL\n",
    "WHERE CASE WHEN hometeam_id = 8455 AND home_goal > away_goal\n",
    "            THEN 'Chelsea home win!'\n",
    "         WHEN awayteam_id = 8455 AND home_goal < away_goal\n",
    "            THEN 'Chelsea away win!'\n",
    "         ELSE 'Loss or tie :(' END IS NOT NULL;"
   ]
  },
  {
   "cell_type": "code",
   "execution_count": null,
   "metadata": {},
   "outputs": [],
   "source": [
    "-- Select the season, date, home_goal, and away_goal columns\n",
    "SELECT \n",
    "    season,\n",
    "    date,\n",
    "    home_goal,\n",
    "    away_goal\n",
    "FROM matches_italy\n",
    "WHERE \n",
    "-- Exclude games not won by Bologna\n",
    "    CASE WHEN hometeam_id = 9857 AND home_goal > away_goal THEN 'Bologna Win'\n",
    "        WHEN awayteam_id = 9857 AND away_goal > home_goal THEN 'Bologna Win' \n",
    "        END IS NOT NULL;"
   ]
  },
  {
   "cell_type": "markdown",
   "metadata": {},
   "source": [
    "## CASE WHEN with aggregate functions\n",
    "- like COUNT, SUM, AVG"
   ]
  },
  {
   "cell_type": "markdown",
   "metadata": {},
   "source": [
    "### COUNT(CASE WHEN ...) AS alias"
   ]
  },
  {
   "cell_type": "code",
   "execution_count": null,
   "metadata": {},
   "outputs": [],
   "source": [
    "SELECT\n",
    "    season,\n",
    "    COUNT(CASE WHEN hometeam_id = 8650\n",
    "               AND home_goal > away_goal\n",
    "               THEN 54321 END) AS home_wins,\n",
    "    COUNT(CASE WHEN awayteam_id = 8650\n",
    "               AND away_goal > home_goal\n",
    "               THEN 'Some random text' END) AS away_wins\n",
    "FROM match\n",
    "GROUP BY season;"
   ]
  },
  {
   "cell_type": "markdown",
   "metadata": {},
   "source": [
    "### SUM(CASE WHEN ...) AS alias\n",
    "- In SQL, need to convert values to boolean for `SUM`\n",
    "- R/Python can sum logical values like True/False"
   ]
  },
  {
   "cell_type": "code",
   "execution_count": null,
   "metadata": {},
   "outputs": [],
   "source": [
    "# note ELSE is assumed NULL\n",
    "SELECT\n",
    "    season,\n",
    "    SUM(CASE WHEN hometeam_id = 8650\n",
    "               THEN home_goal END) AS home_goals,\n",
    "    SUM(CASE WHEN awayteam_id = 8650\n",
    "               THEN away_goal END) AS away_goals\n",
    "FROM match\n",
    "GROUP BY season;"
   ]
  },
  {
   "cell_type": "code",
   "execution_count": null,
   "metadata": {},
   "outputs": [],
   "source": [
    "# example - sum logical values, need to convert to bool\n",
    "SELECT \n",
    "    c.name AS country,\n",
    "    -- Sum the total records in each season where the home team won\n",
    "    SUM(CASE WHEN m.season = '2012/2013' AND m.home_goal > m.away_goal \n",
    "        THEN 1 ELSE 0 END) AS matches_2012_2013,\n",
    "     SUM(CASE WHEN m.season = '2013/2014' AND m.home_goal > m.away_goal \n",
    "        THEN 1 ELSE 0 END) AS matches_2013_2014,\n",
    "    SUM(CASE WHEN m.season = '2014/2015' AND m.home_goal > m.away_goal THEN 1 ELSE 0 END) AS matches_2014_2015\n",
    "FROM country AS c\n",
    "LEFT JOIN match AS m\n",
    "ON c.id = m.country_id\n",
    "-- Group by country name alias\n",
    "GROUP BY country;"
   ]
  },
  {
   "cell_type": "markdown",
   "metadata": {},
   "source": [
    "### ROUND(AVG(CASE WHEN..."
   ]
  },
  {
   "cell_type": "code",
   "execution_count": null,
   "metadata": {},
   "outputs": [],
   "source": [
    "SELECT\n",
    "    season,\n",
    "    ROUND(AVG(CASE WHEN hometeam_id = 8650\n",
    "               THEN home_goal END),2) AS home_goals,\n",
    "    ROUND(AVG(CASE WHEN awayteam_id = 8650\n",
    "               THEN away_goal END),2) AS away_goals\n",
    "FROM match\n",
    "GROUP BY season;"
   ]
  },
  {
   "cell_type": "markdown",
   "metadata": {},
   "source": [
    "### Percentages with CASE and AVG"
   ]
  },
  {
   "cell_type": "code",
   "execution_count": null,
   "metadata": {},
   "outputs": [],
   "source": [
    "SELECT\n",
    "    season,\n",
    "    AVG(CASE WHEN hometeam_id = 8455 AND home_goal > away_goal THEN 1\n",
    "             WHEN hometeam_id = 8455 AND home_goal < away_goal THEN 0\n",
    "             END) AS pct_homewins,\n",
    "    AVG(CASE WHEN awayteam_id = 8455 AND away_goal > home_goal THEN 1\n",
    "             WHEN awayteam_id = 8455 AND away_goal < home_goal THEN 0\n",
    "             END) AS pct_awaywins,\n",
    "FROM match\n",
    "GROUP BY season;"
   ]
  },
  {
   "cell_type": "code",
   "execution_count": null,
   "metadata": {},
   "outputs": [],
   "source": [
    "SELECT \n",
    "    c.name AS country,\n",
    "    -- Round the percentage of tied games to 2 decimal points\n",
    "    ROUND(AVG(CASE WHEN m.season='2013/2014' AND m.home_goal = m.away_goal THEN 1\n",
    "        WHEN m.season='2013/2014' AND m.home_goal != m.away_goal THEN 0 \n",
    "        END),2) AS pct_ties_2013_2014,\n",
    "    ROUND(AVG(CASE WHEN m.season='2014/2015' AND m.home_goal = m.away_goal THEN 1\n",
    "        WHEN m.season='2014/2015' AND m.home_goal != m.away_goal THEN 0\n",
    "        END),2) AS pct_ties_2014_2015\n",
    "FROM country AS c\n",
    "LEFT JOIN matches AS m\n",
    "ON c.id = m.country_id\n",
    "GROUP BY country;"
   ]
  },
  {
   "cell_type": "markdown",
   "metadata": {},
   "source": [
    "# Subqueries - extract and tranform data\n",
    "- subquery = nested query\n",
    "- also in SQL_joins notebook\n",
    "- subqueries find most commonly in `WHERE`, then `SELECT`, then `FROM`\n",
    "- also in `GROUP BY` clause\n",
    "\n",
    "Application example\n",
    "- comparing groups to summarized values\n",
    "- reshaping data - highest monthly avg in some group\n",
    "- combining data that can not be joined - get both home and away team names in a table to match results"
   ]
  },
  {
   "cell_type": "markdown",
   "metadata": {},
   "source": [
    "## Simple subqueries - in the `WHERE` clause"
   ]
  },
  {
   "cell_type": "code",
   "execution_count": null,
   "metadata": {},
   "outputs": [],
   "source": [
    "SELECT date, hometeam_id, awayteam_id, home_goal, away_goal\n",
    "FROM match\n",
    "WHERE season = '2012/2013'\n",
    "    AND home_goal > (SELECT AVG(home_goal)\n",
    "                     FROM match);"
   ]
  },
  {
   "cell_type": "markdown",
   "metadata": {},
   "source": [
    "## Simple subquery - filtering list with IN"
   ]
  },
  {
   "cell_type": "code",
   "execution_count": null,
   "metadata": {},
   "outputs": [],
   "source": [
    "SELECT\n",
    "    team_long_name,\n",
    "    team_short_name AS abbr\n",
    "FROM team\n",
    "WHERE\n",
    "    team_api_id IN\n",
    "    (SELECT hometeam_id\n",
    "     FROM match\n",
    "     WHERE country_id = 15722);"
   ]
  },
  {
   "cell_type": "markdown",
   "metadata": {},
   "source": [
    "## Subquery in `FROM` statement\n",
    "Applications\n",
    "- restructure and transform data\n",
    "    - transform data from long to wide format\n",
    "    - prefiltering data\n",
    "- calculate aggregates of aggregates\n",
    "    - ie. which 3 teams has the highest avg of home goals scored\n",
    "        1. calculate AVG for each team\n",
    "        1. get 3 highest of the AVG values\n",
    "\n",
    "Note\n",
    "- can create multiple subqueries in one `FROM` statement. \n",
    "    - Use alias for each subquery.\n",
    "    - Join them\n",
    "- can join a subquery to a table in `FROM`\n",
    "    - include a joining columns in both tables\n"
   ]
  },
  {
   "cell_type": "code",
   "execution_count": null,
   "metadata": {},
   "outputs": [],
   "source": [
    "SELECT team, home_avg\n",
    "FROM (SELECT\n",
    "         t.team_long_name AS team,\n",
    "         AVG(m.home_goal) AS home_avg\n",
    "      FROM match AS m\n",
    "      LEFT JOIN team AS t\n",
    "      ON m.hometeam_id = t.team_api_id\n",
    "      WHERE season = '2011/2012'\n",
    "      GROUP BY team) AS subquery\n",
    "ORDER BY home_avg DESC\n",
    "LIMIT 3;"
   ]
  },
  {
   "cell_type": "code",
   "execution_count": null,
   "metadata": {},
   "outputs": [],
   "source": [
    "SELECT\n",
    "    -- Select country, date, home, and away goals from the subquery\n",
    "    country,\n",
    "    date,\n",
    "    home_goal,\n",
    "    away_goal\n",
    "FROM \n",
    "    -- Select country name, date, home_goal, away_goal, and total goals in the subquery\n",
    "    (SELECT c.name AS country, \n",
    "            m.date, \n",
    "            m.home_goal, \n",
    "            m.away_goal,\n",
    "           (m.home_goal + m.away_goal) AS total_goals\n",
    "    FROM match AS m\n",
    "    LEFT JOIN country AS c\n",
    "    ON m.country_id = c.id) AS subquery\n",
    "-- Filter by total goals scored in the main query\n",
    "WHERE total_goals >= 10;"
   ]
  },
  {
   "cell_type": "markdown",
   "metadata": {},
   "source": [
    "## Subquery in `SELECT`\n",
    "Applications\n",
    "- return single value\n",
    "    - ie. include aggregate values to compare to individual values\n",
    "- use in math calculations\n",
    "    - ie. deviation from the avg\n",
    "\n",
    "Note\n",
    "- need to return a SINGLE value, else error\n",
    "- REQUIRED = ensure all filters in the right place\n",
    "    - properly filter both the main query and subquery (same WHERE clause in subquery and query)"
   ]
  },
  {
   "cell_type": "code",
   "execution_count": null,
   "metadata": {},
   "outputs": [],
   "source": [
    "SELECT\n",
    "    season\n",
    "    COUNT(id) AS matches,\n",
    "    (SELECT COUNT(id) FROM match) AS total_matches\n",
    "FROM match\n",
    "GROUP BY season;"
   ]
  },
  {
   "cell_type": "code",
   "execution_count": null,
   "metadata": {},
   "outputs": [],
   "source": [
    "SELECT\n",
    "    date,\n",
    "    (home_goal + away_goal) AS goals,\n",
    "    (home_goal + away_goal) - \n",
    "        (SELECT AVG(home_goal + away_goal)\n",
    "         FROM match\n",
    "         WHERE season = '2011/2012') AS diff\n",
    "FROM match\n",
    "WHERE season = '2011/2012';"
   ]
  },
  {
   "cell_type": "code",
   "execution_count": null,
   "metadata": {},
   "outputs": [],
   "source": [
    "SELECT \n",
    "    l.name AS league,\n",
    "    -- Select and round the league's total goals\n",
    "    ROUND(AVG(m.home_goal + m.away_goal), 2) AS avg_goals,\n",
    "    -- Select & round the average total goals for the season\n",
    "    (SELECT ROUND(AVG(home_goal + away_goal), 2) \n",
    "     FROM match\n",
    "     WHERE season = '2013/2014') AS overall_avg\n",
    "FROM league AS l\n",
    "LEFT JOIN match AS m\n",
    "ON l.country_id = m.country_id\n",
    "-- Filter for the 2013/2014 season\n",
    "WHERE season = '2013/2014'\n",
    "GROUP BY league;"
   ]
  },
  {
   "cell_type": "code",
   "execution_count": null,
   "metadata": {},
   "outputs": [],
   "source": [
    "# calculation subquery in SELECT example\n",
    "SELECT\n",
    "    -- Select the league name and average goals scored\n",
    "    l.name AS league,\n",
    "    ROUND(AVG(m.home_goal + m.away_goal),2) AS avg_goals,\n",
    "    -- Subtract the overall average from the league average\n",
    "    ROUND(AVG(m.home_goal + m.away_goal) - \n",
    "        (SELECT AVG(home_goal + away_goal)\n",
    "         FROM match \n",
    "         WHERE season = '2013/2014'),2) AS diff\n",
    "FROM league AS l\n",
    "LEFT JOIN match AS m\n",
    "ON l.country_id = m.country_id\n",
    "-- Only include 2013/2014 results\n",
    "WHERE season = '2013/2014'\n",
    "GROUP BY l.name;"
   ]
  },
  {
   "cell_type": "markdown",
   "metadata": {},
   "source": [
    "## Subquery best practice\n",
    "1. Format your queries\n",
    "    - line up `SELECT`, `FROM`, `WHERE`, and `GROUP BY`\n",
    "1. Annotate your queries with comments\n",
    "    - multi-line comments with `/* ... */`\n",
    "    - inline comments with `--`\n",
    "1. Indent your subquery\n",
    "1. Resources\n",
    "    - Holywell's SQL style guide\n",
    "1. Is subquery necessary\n",
    "    - requires computing power\n",
    "    - longer time for bigger database, bigger table\n",
    "1. Match filter for each subquery\n",
    "    - WHERE statement should match from subquery to query\n",
    "    "
   ]
  },
  {
   "cell_type": "markdown",
   "metadata": {},
   "source": [
    "## Subquery example - subquery each in SELECT, FROM, and WHERE clause"
   ]
  },
  {
   "cell_type": "code",
   "execution_count": null,
   "metadata": {},
   "outputs": [],
   "source": [
    "# subquery in FROM and WHERE\n",
    "SELECT \n",
    "\t-- Select the stage and average goals from the subquery\n",
    "\ts.stage,\n",
    "\tROUND(s.avg_goals,2) AS avg_goals\n",
    "FROM \n",
    "\t-- Select the stage and average goals in 2012/2013\n",
    "\t(SELECT\n",
    "\t\t stage,\n",
    "         AVG(home_goal + away_goal) AS avg_goals\n",
    "\t FROM match\n",
    "\t WHERE season = '2012/2013'\n",
    "\t GROUP BY stage) AS s\n",
    "WHERE \n",
    "\t-- Filter the main query using the subquery\n",
    "\ts.avg_goals > (SELECT AVG(home_goal + away_goal) \n",
    "                    FROM match WHERE season = '2012/2013');"
   ]
  },
  {
   "cell_type": "code",
   "execution_count": null,
   "metadata": {},
   "outputs": [],
   "source": [
    "# subquery in all 3 clauses\n",
    "SELECT \n",
    "\t-- Select the stage and average goals from s\n",
    "\ts.stage,\n",
    "    ROUND(s.avg_goals,2) AS avg_goal,\n",
    "    -- Select the overall average for 2012/2013\n",
    "    -- subquery in SELECT\n",
    "    (SELECT AVG(home_goal + away_goal) \n",
    "     FROM match \n",
    "     WHERE season = '2012/2013') AS overall_avg\n",
    "FROM \n",
    "\t-- Select the stage and average goals in 2012/2013 from match\n",
    "    -- subquery in FROM\n",
    "\t(SELECT\n",
    "\t\t stage,\n",
    "         AVG(home_goal + away_goal) AS avg_goals\n",
    "\t FROM match\n",
    "\t WHERE season = '2012/2013'\n",
    "\t GROUP BY stage) AS s\n",
    "WHERE \n",
    "\t-- Filter the main query using the subquery\n",
    "    # subquery in WHERE\n",
    "\ts.avg_goals > (SELECT AVG(home_goal + away_goal) \n",
    "                   FROM match \n",
    "                   WHERE season = '2012/2013');"
   ]
  },
  {
   "cell_type": "markdown",
   "metadata": {},
   "source": [
    "# Correlated Queries, Nested Queries, and Common Table Expressions"
   ]
  },
  {
   "cell_type": "markdown",
   "metadata": {},
   "source": [
    "# Correlated subquery\n",
    "- uses values from outer query to generate result\n",
    "- re-run for every row generated in final data set\n",
    "- used for advanced joining, filtering, and evaluating data\n",
    "\n",
    "Correlated subqueries (vs Simple subquery)\n",
    "- Dependent on the main query to execute (run independently to main query)\n",
    "- evaluated in loops (vs once in whole query)\n",
    "    - significantly slows down query runtime\n"
   ]
  },
  {
   "cell_type": "code",
   "execution_count": null,
   "metadata": {},
   "outputs": [],
   "source": [
    "# example\n",
    "SELECT\n",
    "    c.name AS country\n",
    "    (SELECT\n",
    "        AVG(home_goal + away_goal)\n",
    "     FROM match AS m\n",
    "     # correlated part\n",
    "     WHERE m.country_id = c.id)\n",
    "        AS avg_goals\n",
    "FROM country AS c\n",
    "GROUP BY country;"
   ]
  },
  {
   "cell_type": "code",
   "execution_count": null,
   "metadata": {},
   "outputs": [],
   "source": [
    "SELECT \n",
    "\t-- Select country ID, date, home, and away goals from match\n",
    "\tmain.country_id,\n",
    "    main.date,\n",
    "    main.home_goal, \n",
    "    main.away_goal\n",
    "FROM match AS main\n",
    "WHERE \n",
    "\t-- Filter the main query by the subquery\n",
    "\t(home_goal + away_goal) > \n",
    "        (SELECT AVG((sub.home_goal + sub.away_goal) * 3)\n",
    "         FROM match AS sub\n",
    "         -- Join the main query to the subquery in WHERE\n",
    "         ### correlated part\n",
    "         WHERE main.country_id = sub.country_id);"
   ]
  },
  {
   "cell_type": "markdown",
   "metadata": {},
   "source": [
    "## Correlated subquery with multiple conditions"
   ]
  },
  {
   "cell_type": "code",
   "execution_count": null,
   "metadata": {},
   "outputs": [],
   "source": [
    "'''\n",
    "In this exercise, you're going to add an additional column \n",
    "for matching to answer the question -- what was the \n",
    "highest scoring match for each country, in each season?\n",
    "'''\n",
    "SELECT \n",
    "\t-- Select country ID, date, home, and away goals from match\n",
    "\tmain.country_id,\n",
    "    main.date,\n",
    "    main.home_goal,\n",
    "    main.away_goal\n",
    "FROM match AS main\n",
    "WHERE \n",
    "\t-- Filter for matches with the highest number of goals scored\n",
    "    -- total goals = max goals\n",
    "\t(home_goal + away_goal) = \n",
    "        (SELECT MAX(sub.home_goal + sub.away_goal)\n",
    "         FROM match AS sub\n",
    "         WHERE main.country_id = sub.country_id\n",
    "               AND main.season = sub.season);"
   ]
  },
  {
   "cell_type": "markdown",
   "metadata": {},
   "source": [
    "# Nested subquery\n",
    "- can be correlated or uncorrelated, or combo of both\n"
   ]
  },
  {
   "cell_type": "code",
   "execution_count": null,
   "metadata": {},
   "outputs": [],
   "source": [
    "SELECT\n",
    "    EXTRACT(MONTH FROM date) AS MONTH\n",
    "    SUM(m.home_goal + m.away_goal) AS total_goals,\n",
    "    SUM(m.home_goal + m.away_goal) -\n",
    "    (SELECT AVG(goals)\n",
    "     FROM (SELECT\n",
    "              EXTRACT(MONTH FROM date) AS month,\n",
    "           FROM match\n",
    "           GROUP BY month) AS s) AS diff\n",
    "FROM match AS m\n",
    "GROUP BY month;"
   ]
  },
  {
   "cell_type": "code",
   "execution_count": null,
   "metadata": {},
   "outputs": [],
   "source": [
    "'''\n",
    "nested subquery to examine the highest total number of goals \n",
    "in each season, overall, and during July across all seasons.\n",
    "'''\n",
    "SELECT\n",
    "\t-- Select the season and max goals scored in a match\n",
    "\tseason,\n",
    "    MAX(home_goal + away_goal) AS max_goals,\n",
    "    -- Select the overall max goals scored in a match\n",
    "   (SELECT MAX(home_goal + away_goal) FROM match) AS overall_max_goals,\n",
    "   -- Select the max number of goals scored in any match in July\n",
    "   (SELECT MAX(home_goal + away_goal) \n",
    "    FROM match\n",
    "    WHERE id IN (\n",
    "          SELECT id FROM match WHERE EXTRACT(MONTH FROM date) = 07)) AS july_max_goals\n",
    "FROM match\n",
    "GROUP BY season;"
   ]
  },
  {
   "cell_type": "code",
   "execution_count": null,
   "metadata": {},
   "outputs": [],
   "source": [
    "SELECT\n",
    "\tc.name AS country,\n",
    "    -- Calculate the average matches per season\n",
    "\tAVG(outer_s.matches) AS avg_seasonal_high_scores\n",
    "FROM country AS c\n",
    "-- Left join outer_s to country\n",
    "LEFT JOIN (\n",
    "  SELECT country_id, season,\n",
    "         COUNT(id) AS matches\n",
    "  FROM (\n",
    "    SELECT country_id, season, id\n",
    "\tFROM match\n",
    "\tWHERE home_goal >= 5 OR away_goal >= 5) AS inner_s\n",
    "  -- Close parentheses and alias the subquery\n",
    "  GROUP BY country_id, season) AS outer_s\n",
    "ON c.id = outer_s.country_id\n",
    "GROUP BY country;"
   ]
  },
  {
   "cell_type": "markdown",
   "metadata": {},
   "source": [
    "# Common Table Expressions (CTE)\n",
    "- table is declared before the main query\n",
    "- named and referenced later in `FROM` statement\n",
    "\n",
    "CTE Advantages\n",
    "- executed once - CTE stored in memory and improves query performance\n",
    "- improve organization of queries\n",
    "- reference other CTEs (ie. 3rd CTE can reference 1st and 2nd CTE)\n",
    "- CTE can reference itself (SELF JOIN) = recursive CTE\n"
   ]
  },
  {
   "cell_type": "code",
   "execution_count": null,
   "metadata": {},
   "outputs": [],
   "source": [
    "# CTE syntax\n",
    "'''\n",
    "WITH cte_name AS(\n",
    "    SELECT ...\n",
    "    FROM ...\n",
    "    WHERE ...\n",
    "),\n",
    "-- New subquery\n",
    "cte_name2()\n",
    "\n",
    "QUERY...\n",
    "SELECT\n",
    "FROM\n",
    "INNER JOIN cte_name\n",
    "ON \n",
    "INNER JOIN cte_name2\n",
    "ON \n",
    "GROUP BY\n",
    "'''"
   ]
  },
  {
   "cell_type": "code",
   "execution_count": null,
   "metadata": {},
   "outputs": [],
   "source": [
    "WITH cte AS (\n",
    "    SELECT col1, col2\n",
    "    FROM table)\n",
    "SELECT\n",
    "    AVG(col1) AS avg_col\n",
    "FROM cte;"
   ]
  },
  {
   "cell_type": "code",
   "execution_count": null,
   "metadata": {},
   "outputs": [],
   "source": [
    "-- Set up your CTE\n",
    "WITH match_list AS (\n",
    "    SELECT \n",
    "  \t\tcountry_id, \n",
    "  \t\tid\n",
    "    FROM match\n",
    "    WHERE (home_goal + away_goal) >= 10)\n",
    "-- Select league and count of matches from the CTE\n",
    "SELECT\n",
    "    l.name AS league,\n",
    "    COUNT(match_list.id) AS matches\n",
    "FROM league AS l\n",
    "-- Join the CTE to the league table\n",
    "LEFT JOIN match_list ON l.id = match_list.country_id\n",
    "GROUP BY l.name;"
   ]
  },
  {
   "cell_type": "code",
   "execution_count": null,
   "metadata": {},
   "outputs": [],
   "source": [
    "-- Set up your CTE\n",
    "WITH match_list AS (\n",
    "  -- Select the league, date, home, and away goals\n",
    "    SELECT \n",
    "  \t\tl.name AS league, \n",
    "     \tm.date, \n",
    "  \t\tm.home_goal, \n",
    "  \t\tm.away_goal,\n",
    "       (m.home_goal + m.away_goal) AS total_goals\n",
    "    FROM match AS m\n",
    "    LEFT JOIN league as l ON m.country_id = l.id)\n",
    "-- Select the league, date, home, and away goals from the CTE\n",
    "SELECT league, date, home_goal, away_goal\n",
    "FROM match_list\n",
    "-- Filter by total goals\n",
    "WHERE total_goals >= 10;"
   ]
  },
  {
   "cell_type": "code",
   "execution_count": null,
   "metadata": {},
   "outputs": [],
   "source": [
    "# CTE with nested subquery\n",
    "-- Set up your CTE\n",
    "WITH match_list AS (\n",
    "    SELECT \n",
    "  \t\tcountry_id,\n",
    "  \t   (home_goal + away_goal) AS goals\n",
    "    FROM match\n",
    "  \t-- Create a list of match IDs to filter data in the CTE\n",
    "    WHERE id IN (\n",
    "       SELECT id\n",
    "       FROM match\n",
    "       WHERE season = '2013/2014' AND EXTRACT(MONTH FROM date) = 08))\n",
    "-- Select the league name and average of goals in the CTE\n",
    "SELECT \n",
    "\tl.name,\n",
    "  AVG(match_list.goals)\n",
    "FROM league AS l\n",
    "-- Join the CTE onto the league table\n",
    "LEFT JOIN match_list ON l.id = match_list.country_id\n",
    "GROUP BY l.name;"
   ]
  },
  {
   "cell_type": "markdown",
   "metadata": {},
   "source": [
    "# Differentiating techniques\n",
    "Joins\n",
    "- combine 2+ tables\n",
    "- simple operations/aggregations\n",
    "\n",
    "Correlated subquery - great for matching columns in multiple tables\n",
    "- match subqueries and tables\n",
    "- avoid limits of join (you can't join 2 separate columns in 1 table to a single column in another table)\n",
    "- BUT take a long time to process\n",
    "\n",
    "Multiple/Nested subquery - requires multiple steps to transform\n",
    "- multi-step transformations\n",
    "- improve accuracy and reproducibility\n",
    "\n",
    "CTE\n",
    "- organize subqueries sequentially\n",
    "- can reference other CTEs\n",
    "\n",
    "Which technique to use?\n",
    "- depends on database and question\n",
    "- use and reuse queries\n",
    "- clear and accurate results\n",
    "\n",
    "\n",
    "Following examples show 3 techniques for same query result\n"
   ]
  },
  {
   "cell_type": "code",
   "execution_count": null,
   "metadata": {},
   "outputs": [],
   "source": [
    "# Get team names with subquery\n",
    "SELECT\n",
    "\tm.date,\n",
    "    -- Get the home and away team names\n",
    "    home.hometeam,\n",
    "    away.awayteam,\n",
    "    m.home_goal,\n",
    "    m.away_goal\n",
    "FROM match AS m\n",
    "\n",
    "-- Join the home subquery to the match table\n",
    "LEFT JOIN (\n",
    "  SELECT match.id, team.team_long_name AS hometeam\n",
    "  FROM match\n",
    "  LEFT JOIN team\n",
    "  ON match.hometeam_id = team.team_api_id) AS home\n",
    "ON home.id = m.id\n",
    "\n",
    "-- Join the away subquery to the match table\n",
    "LEFT JOIN (\n",
    "  SELECT match.id, team.team_long_name AS awayteam\n",
    "  FROM match\n",
    "  LEFT JOIN team\n",
    "  -- Get the away team ID in the subquery\n",
    "  ON match.awayteam_id = team.team_api_id) AS away\n",
    "ON away.id = m.id;"
   ]
  },
  {
   "cell_type": "code",
   "execution_count": null,
   "metadata": {},
   "outputs": [],
   "source": [
    "# get team names with correlated subquery\n",
    "SELECT\n",
    "    m.date,\n",
    "    (SELECT team_long_name\n",
    "     FROM team AS t\n",
    "     WHERE t.team_api_id = m.hometeam_id) AS hometeam,\n",
    "    -- Connect the team to the match table\n",
    "    (SELECT team_long_name\n",
    "     FROM team AS t\n",
    "     WHERE t.team_api_id = m.awayteam_id) AS awayteam,\n",
    "    -- Select home and away goals\n",
    "     home_goal,\n",
    "     away_goal\n",
    "FROM match AS m;"
   ]
  },
  {
   "cell_type": "code",
   "execution_count": null,
   "metadata": {
    "ExecuteTime": {
     "end_time": "2021-11-01T04:34:15.083396Z",
     "start_time": "2021-11-01T04:34:15.068543Z"
    }
   },
   "outputs": [],
   "source": [
    "# get team names with CTE\n",
    "WITH home AS (\n",
    "  SELECT m.id, m.date, \n",
    "  \t\t t.team_long_name AS hometeam, m.home_goal\n",
    "  FROM match AS m\n",
    "  LEFT JOIN team AS t \n",
    "  ON m.hometeam_id = t.team_api_id),\n",
    "-- Declare and set up the away CTE\n",
    "away AS (\n",
    "  SELECT m.id, m.date, \n",
    "  \t\t t.team_long_name AS awayteam, m.away_goal\n",
    "  FROM match AS m\n",
    "  LEFT JOIN team AS t \n",
    "  ON m.awayteam_id = t.team_api_id)\n",
    "-- Select date, home_goal, and away_goal\n",
    "SELECT \n",
    "\thome.date,\n",
    "    home.hometeam,\n",
    "    away.awayteam,\n",
    "    home.home_goal,\n",
    "    away.away_goal\n",
    "-- Join away and home on the id column\n",
    "FROM home\n",
    "INNER JOIN away\n",
    "ON home.id = away.id;"
   ]
  },
  {
   "cell_type": "markdown",
   "metadata": {},
   "source": [
    "# Window Functions - `OVER` clause\n",
    "- how to pass aggregate functions along a dataset\n",
    "    - similar to subquery in SELECT\n",
    "- calculate running totals and partitioned averages\n",
    "- window = perform calculations on an already generated result set\n",
    "- Aggregate calculations - ie. running totals, rankings, moving averages\n",
    "- Unlike a subquery in SELECT, your window function will apply the filter that you include in your WHERE clause.\n",
    "\n",
    "Order of process\n",
    "- window function processed after every part of query except `ORDER BY`\n",
    "    - so it uses the result set (instead of database)\n",
    "- available in: PostgreSQL, Oracle, MySQL, SQL Server...\n",
    "    - BUT NOT SQLite"
   ]
  },
  {
   "cell_type": "markdown",
   "metadata": {},
   "source": [
    "## `OVER` clause"
   ]
  },
  {
   "cell_type": "code",
   "execution_count": null,
   "metadata": {},
   "outputs": [],
   "source": [
    "SELECT\n",
    "    date\n",
    "    (home_goal + away_goal) AS goals,\n",
    "    AVG(home_goal + away_goal) OVER() AS overall_avg\n",
    "FROM match\n",
    "WHERE season = '2011/2012';"
   ]
  },
  {
   "cell_type": "code",
   "execution_count": null,
   "metadata": {},
   "outputs": [],
   "source": [
    "SELECT \n",
    "\t-- Select the id, country name, season, home, and away goals\n",
    "\tm.id, \n",
    "    c.name AS country, \n",
    "    m.season,\n",
    "\tm.home_goal,\n",
    "\tm.away_goal,\n",
    "    -- Use a window to include the aggregate average in each row\n",
    "\tAVG(m.home_goal + m.away_goal) OVER() AS overall_avg\n",
    "FROM match AS m\n",
    "LEFT JOIN country AS c ON m.country_id = c.id;"
   ]
  },
  {
   "cell_type": "markdown",
   "metadata": {},
   "source": [
    "## Generate a `RANK` - `RANK() OVER(ORDER BY...) AS...`\n",
    "- default order is smallest to largest value"
   ]
  },
  {
   "cell_type": "code",
   "execution_count": null,
   "metadata": {
    "code_folding": []
   },
   "outputs": [],
   "source": [
    "# DESC rank\n",
    "SELECT\n",
    "    date\n",
    "    (home_goal + away_goal) AS goals,\n",
    "    RANK() OVER(ORDER BY home_goal + away_goal DESC) AS goals_rank\n",
    "FROM match\n",
    "WHERE season = '2011/2012';"
   ]
  },
  {
   "cell_type": "code",
   "execution_count": null,
   "metadata": {},
   "outputs": [],
   "source": [
    "# ascending rank\n",
    "SELECT \n",
    "\t-- Select the league name and average goals scored\n",
    "\tl.name AS league,\n",
    "    AVG(m.home_goal + m.away_goal) AS avg_goals,\n",
    "    -- Rank each league according to the average goals\n",
    "    RANK() OVER(ORDER BY AVG(m.home_goal + m.away_goal)) AS league_rank\n",
    "FROM league AS l\n",
    "LEFT JOIN match AS m \n",
    "ON l.id = m.country_id\n",
    "WHERE m.season = '2011/2012'\n",
    "GROUP BY l.name\n",
    "-- Order the query by the rank you created\n",
    "ORDER BY league_rank;"
   ]
  },
  {
   "cell_type": "code",
   "execution_count": null,
   "metadata": {},
   "outputs": [],
   "source": [
    "# DESC rank example\n",
    "SELECT \n",
    "\t-- Select the league name and average goals scored\n",
    "\tl.name AS league,\n",
    "    AVG(m.home_goal + m.away_goal) AS avg_goals,\n",
    "    -- Rank leagues in descending order by average goals\n",
    "    RANK() OVER(ORDER BY AVG(m.home_goal + m.away_goal) DESC) AS league_rank\n",
    "FROM league AS l\n",
    "LEFT JOIN match AS m \n",
    "ON l.id = m.country_id\n",
    "WHERE m.season = '2011/2012'\n",
    "GROUP BY l.name\n",
    "-- Order the query by the rank you created\n",
    "ORDER BY league_rank;"
   ]
  },
  {
   "cell_type": "markdown",
   "metadata": {},
   "source": [
    "# Window Partitions - `OVER(PARTITION BY column_to_apply)`\n",
    "- calculate separate values for different categories\n",
    "- calculate different calculations in the same column\n",
    "\n",
    "Considerations\n",
    "- can partition data by 1 or more columns\n",
    "- can partition aggregate calculations, ranks, etc\n",
    "\n",
    "PARTITION BY multiple colums\n",
    "- You can even calculate the information you want to use to partition your data! For example, you can calculate average goals scored by season and by country, or by the calendar year (taken from the date column)."
   ]
  },
  {
   "cell_type": "code",
   "execution_count": null,
   "metadata": {},
   "outputs": [],
   "source": [
    "SELECT\n",
    "    date,\n",
    "    (home_goal + away_goal) AS goals,\n",
    "    AVG(home_goal) OVER(PARTITION BY season) AS season_avg\n",
    "FROM match;"
   ]
  },
  {
   "cell_type": "code",
   "execution_count": null,
   "metadata": {},
   "outputs": [],
   "source": [
    "SELECT\n",
    "\tdate,\n",
    "\tseason,\n",
    "\thome_goal,\n",
    "\taway_goal,\n",
    "\tCASE WHEN hometeam_id = 8673 THEN 'home' \n",
    "\t\t ELSE 'away' END AS warsaw_location,\n",
    "    -- Calculate the average goals scored partitioned by season\n",
    "    AVG(home_goal) OVER(PARTITION BY season) AS season_homeavg,\n",
    "    AVG(away_goal) OVER(PARTITION BY season) AS season_awayavg\n",
    "FROM match\n",
    "-- Filter the data set for Legia Warszawa matches only\n",
    "WHERE \n",
    "\thometeam_id = 8673 \n",
    "    OR awayteam_id = 8673\n",
    "ORDER BY (home_goal + away_goal) DESC;"
   ]
  },
  {
   "cell_type": "markdown",
   "metadata": {},
   "source": [
    "## Partition by Multiple Columns"
   ]
  },
  {
   "cell_type": "code",
   "execution_count": null,
   "metadata": {},
   "outputs": [],
   "source": [
    "SELECT\n",
    "    c.name\n",
    "    m.season,\n",
    "    (home_goal + away_goal) AS goals,\n",
    "    AVG(home_goal + away_goal)\n",
    "        OVER(PARTITION BY m.season, c.name) AS season_ctry_avg\n",
    "FROM country AS c\n",
    "LEFT JOIN match AS m\n",
    "ON c.id = m.country_id;"
   ]
  },
  {
   "cell_type": "code",
   "execution_count": null,
   "metadata": {},
   "outputs": [],
   "source": [
    "SELECT \n",
    "\tdate,\n",
    "\tseason,\n",
    "\thome_goal,\n",
    "\taway_goal,\n",
    "\tCASE WHEN hometeam_id = 8673 THEN 'home' \n",
    "         ELSE 'away' END AS warsaw_location,\n",
    "\t-- Calculate average goals partitioned by season and month\n",
    "    AVG(home_goal) OVER(PARTITION BY season, \n",
    "         \tEXTRACT(MONTH FROM date)) AS season_mo_home,\n",
    "    AVG(away_goal) OVER(PARTITION BY season, \n",
    "            EXTRACT(MONTH FROM date)) AS season_mo_away\n",
    "FROM match\n",
    "WHERE \n",
    "\thometeam_id = 8673\n",
    "    OR awayteam_id = 8673\n",
    "ORDER BY (home_goal + away_goal) DESC;"
   ]
  },
  {
   "cell_type": "markdown",
   "metadata": {},
   "source": [
    "# Sliding Windows - think running totals\n",
    "- calculate changes with each row in the data set\n",
    "- sliding windows = perform calculations relative to the current row\n",
    "- ie. can be used to calculate running totals, sums, avg, etc\n",
    "- can be partitioned by one or more columns\n",
    "\n",
    "Syntax\n",
    "- some calculation like\n",
    "    - `SUM(data) OVER(ORDER BY ROWS...) AS alias\n",
    "- `ROWS BETWEEN <start> AND <finish> # slice of rows\n",
    "- keywords for start and finish parameters\n",
    "    - `PRECEDING` # rows before current row\n",
    "        - ie. `1 PRECEDING` # 1 row before\n",
    "    - `FOLLOWING` # rows after current row\n",
    "    - `UNBOUNDED PRECEDING` # every row since the beginning\n",
    "    - `UNBOUNDED FOLLOWING`\n",
    "    - `CURRENT ROW` # stop at current row\n"
   ]
  },
  {
   "cell_type": "code",
   "execution_count": null,
   "metadata": {},
   "outputs": [],
   "source": [
    "'''\n",
    "Complete the window function by:\n",
    "Assessing the running total of home goals scored by FC Utrecht.\n",
    "Assessing the running average of home goals scored.\n",
    "Ordering both the running average and running total by date.\n",
    "'''\n",
    "SELECT \n",
    "\tdate,\n",
    "\thome_goal,\n",
    "\taway_goal,\n",
    "    -- Create a running total and running average of home goals\n",
    "    SUM(home_goal) OVER(ORDER BY date \n",
    "         ROWS BETWEEN UNBOUNDED PRECEDING AND CURRENT ROW) AS running_total,\n",
    "    AVG(home_goal) OVER(ORDER BY date \n",
    "         ROWS BETWEEN UNBOUNDED PRECEDING AND CURRENT ROW) AS running_avg\n",
    "FROM match\n",
    "WHERE \n",
    "\thometeam_id = 9908 \n",
    "\tAND season = '2011/2012';"
   ]
  },
  {
   "cell_type": "code",
   "execution_count": null,
   "metadata": {},
   "outputs": [],
   "source": [
    "'''\n",
    "modify the query from the previous exercise by sorting \n",
    "the data set in reverse order and calculating a \n",
    "backward running total from the CURRENT ROW to the \n",
    "end of the data set (earliest record).\n",
    "'''\n",
    "SELECT \n",
    "\t-- Select the date, home goal, and away goals\n",
    "\tdate,\n",
    "    home_goal,\n",
    "    away_goal,\n",
    "    -- Create a running total and running average of home goals\n",
    "    SUM(home_goal) OVER(ORDER BY date DESC\n",
    "         ROWS BETWEEN CURRENT ROW AND UNBOUNDED FOLLOWING) AS running_total,\n",
    "    AVG(home_goal) OVER(ORDER BY date DESC\n",
    "         ROWS BETWEEN CURRENT ROW AND UNBOUNDED FOLLOWING) AS running_avg\n",
    "FROM match\n",
    "WHERE \n",
    "\tawayteam_id = 9908 \n",
    "    AND season = '2011/2012';"
   ]
  },
  {
   "cell_type": "markdown",
   "metadata": {},
   "source": [
    "# Final exercise\n",
    "Steps to construct the query\n",
    "- get team names with CTEs\n",
    "- get match outcome with `CASE` statements\n",
    "- determine how badly they lost with a window function\n",
    "\n",
    "Data source - European Soccer Database"
   ]
  },
  {
   "cell_type": "markdown",
   "metadata": {},
   "source": [
    "## Identify home team in a match for CTE\n",
    "- first task is to create the first query that filters for matches where Manchester United played as the home team. This will become a common table expression in a later exercise."
   ]
  },
  {
   "cell_type": "code",
   "execution_count": null,
   "metadata": {},
   "outputs": [],
   "source": [
    "SELECT \n",
    "\tm.id, \n",
    "    t.team_long_name,\n",
    "    -- Identify matches as home/away wins or ties\n",
    "\tCASE WHEN m.home_goal > m.away_goal THEN 'MU Win'\n",
    "\t\tWHEN m.home_goal < m.away_goal THEN 'MU Loss'\n",
    "        ELSE 'Tie' END AS outcome\n",
    "FROM match AS m\n",
    "-- Left join team on the home team ID and team API id\n",
    "LEFT JOIN team AS t \n",
    "ON m.hometeam_id = t.team_api_id\n",
    "WHERE \n",
    "\t-- Filter for 2014/2015 and Manchester United as the home team\n",
    "\tm.season = '2014/2015'\n",
    "\tAND t.team_long_name = 'Manchester United';"
   ]
  },
  {
   "cell_type": "markdown",
   "metadata": {},
   "source": [
    "## Identify away team CTE\n",
    "- use reverse logic\n",
    "- primary difference in this query is that you will be joining the tables on awayteam_id, and reversing the match outcomes in the CASE statement.\n",
    "- When altering CASE statement logic in your own work, you can reverse either the logical condition (i.e., home_goal > away_goal) or the outcome in THEN -- just make sure you only reverse one of the two!"
   ]
  },
  {
   "cell_type": "code",
   "execution_count": null,
   "metadata": {},
   "outputs": [],
   "source": [
    "SELECT \n",
    "\tm.id, \n",
    "    t.team_long_name,\n",
    "    -- Identify matches as home/away wins or ties\n",
    "\tCASE WHEN m.home_goal > m.away_goal THEN 'MU Loss'\n",
    "\t\tWHEN m.home_goal < m.away_goal THEN 'MU Win'\n",
    "        ELSE 'Tie' END AS outcome\n",
    "-- Join team table to the match table\n",
    "FROM match AS m\n",
    "LEFT JOIN team AS t \n",
    "ON m.awayteam_id = t.team_api_id\n",
    "WHERE \n",
    "\t-- Filter for 2014/2015 and Manchester United as the away team\n",
    "\tm.season = '2014/2015'\n",
    "\tAND t.team_long_name = 'Manchester United';"
   ]
  },
  {
   "cell_type": "markdown",
   "metadata": {},
   "source": [
    "## Putting 2 CTEs together\n",
    "Now that you've created the two subqueries identifying the home and away team opponents, it's time to rearrange your query with the `home` and `away` subqueries as Common Table Expressions (CTEs). You'll notice that the main query includes the phrase, `SELECT DISTINCT`. Without identifying only `DISTINCT` matches, you will return a duplicate record for each game played.\n",
    "\n",
    "Continue building the query to extract all matches played by Manchester United in the 2014/2015 season."
   ]
  },
  {
   "cell_type": "code",
   "execution_count": null,
   "metadata": {},
   "outputs": [],
   "source": [
    "-- Set up the home team CTE\n",
    "WITH home AS (\n",
    "  SELECT m.id, t.team_long_name,\n",
    "\t  CASE WHEN m.home_goal > m.away_goal THEN 'MU Win'\n",
    "\t\t   WHEN m.home_goal < m.away_goal THEN 'MU Loss' \n",
    "  \t\t   ELSE 'Tie' END AS outcome\n",
    "  FROM match AS m\n",
    "  LEFT JOIN team AS t ON m.hometeam_id = t.team_api_id),\n",
    "-- Set up the away team CTE\n",
    "away AS (\n",
    "  SELECT m.id, t.team_long_name,\n",
    "\t  CASE WHEN m.home_goal > m.away_goal THEN 'MU Win'\n",
    "\t\t   WHEN m.home_goal < m.away_goal THEN 'MU Loss' \n",
    "  \t\t   ELSE 'Tie' END AS outcome\n",
    "  FROM match AS m\n",
    "  LEFT JOIN team AS t ON m.awayteam_id = t.team_api_id)\n",
    "-- Select team names, the date and goals\n",
    "SELECT DISTINCT\n",
    "    m.date,\n",
    "    home.team_long_name AS home_team,\n",
    "    away.team_long_name AS away_team,\n",
    "    m.home_goal,\n",
    "    m.away_goal\n",
    "-- Join the CTEs onto the match table\n",
    "FROM match AS m\n",
    "LEFT JOIN home ON m.id = home.id\n",
    "LEFT JOIN away ON m.id = away.id\n",
    "WHERE m.season = '2014/2015'\n",
    "      AND (home.team_long_name = 'Manchester United' \n",
    "           OR away.team_long_name = 'Manchester United');"
   ]
  },
  {
   "cell_type": "markdown",
   "metadata": {},
   "source": [
    "## Add a window function\n",
    "- one final component of the question left -- how badly did Manchester United lose in each match?\n",
    "- In order to determine this, let's add a window function to the main query that ranks matches by the absolute value of the difference between home_goal and away_goal. This allows us to directly compare the difference in scores without having to consider whether Manchester United played as the home or away team!"
   ]
  },
  {
   "cell_type": "code",
   "execution_count": null,
   "metadata": {},
   "outputs": [],
   "source": [
    "-- Set up the home team CTE\n",
    "WITH home AS (\n",
    "  SELECT m.id, t.team_long_name,\n",
    "\t  CASE WHEN m.home_goal > m.away_goal THEN 'MU Win'\n",
    "\t\t   WHEN m.home_goal < m.away_goal THEN 'MU Loss' \n",
    "  \t\t   ELSE 'Tie' END AS outcome\n",
    "  FROM match AS m\n",
    "  LEFT JOIN team AS t ON m.hometeam_id = t.team_api_id),\n",
    "-- Set up the away team CTE\n",
    "away AS (\n",
    "  SELECT m.id, t.team_long_name,\n",
    "\t  CASE WHEN m.home_goal > m.away_goal THEN 'MU Loss'\n",
    "\t\t   WHEN m.home_goal < m.away_goal THEN 'MU Win' \n",
    "  \t\t   ELSE 'Tie' END AS outcome\n",
    "  FROM match AS m\n",
    "  LEFT JOIN team AS t ON m.awayteam_id = t.team_api_id)\n",
    "-- Select columns and and rank the matches by date\n",
    "SELECT DISTINCT\n",
    "    m.date,\n",
    "    home.team_long_name AS home_team,\n",
    "    away.team_long_name AS away_team,\n",
    "    m.home_goal, m.away_goal,\n",
    "    RANK() OVER(ORDER BY ABS(home_goal - away_goal) DESC) as match_rank\n",
    "-- Join the CTEs onto the match table\n",
    "FROM match AS m\n",
    "LEFT JOIN home ON m.id = home.id\n",
    "LEFT JOIN AWAY ON m.id = away.id\n",
    "WHERE m.season = '2014/2015'\n",
    "\t  AND ((home.team_long_name = 'Manchester United' \n",
    "            AND home.outcome = 'MU Loss')\n",
    "\t  OR (away.team_long_name = 'Manchester United' \n",
    "          AND away.outcome = 'MU Loss'));"
   ]
  },
  {
   "cell_type": "code",
   "execution_count": null,
   "metadata": {},
   "outputs": [],
   "source": []
  },
  {
   "cell_type": "code",
   "execution_count": null,
   "metadata": {},
   "outputs": [],
   "source": []
  }
 ],
 "metadata": {
  "kernelspec": {
   "display_name": "Python 3",
   "language": "python",
   "name": "python3"
  },
  "language_info": {
   "codemirror_mode": {
    "name": "ipython",
    "version": 3
   },
   "file_extension": ".py",
   "mimetype": "text/x-python",
   "name": "python",
   "nbconvert_exporter": "python",
   "pygments_lexer": "ipython3",
   "version": "3.7.0"
  },
  "toc": {
   "base_numbering": 1,
   "nav_menu": {},
   "number_sections": true,
   "sideBar": true,
   "skip_h1_title": false,
   "title_cell": "Table of Contents",
   "title_sidebar": "Contents",
   "toc_cell": false,
   "toc_position": {},
   "toc_section_display": true,
   "toc_window_display": false
  },
  "varInspector": {
   "cols": {
    "lenName": 16,
    "lenType": 16,
    "lenVar": 40
   },
   "kernels_config": {
    "python": {
     "delete_cmd_postfix": "",
     "delete_cmd_prefix": "del ",
     "library": "var_list.py",
     "varRefreshCmd": "print(var_dic_list())"
    },
    "r": {
     "delete_cmd_postfix": ") ",
     "delete_cmd_prefix": "rm(",
     "library": "var_list.r",
     "varRefreshCmd": "cat(var_dic_list()) "
    }
   },
   "types_to_exclude": [
    "module",
    "function",
    "builtin_function_or_method",
    "instance",
    "_Feature"
   ],
   "window_display": false
  }
 },
 "nbformat": 4,
 "nbformat_minor": 2
}
