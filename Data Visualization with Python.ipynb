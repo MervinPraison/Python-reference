{
 "cells": [
  {
   "cell_type": "markdown",
   "metadata": {},
   "source": [
    "# Data Visualization with Python\n",
    "- Basic plotting with Matplotlib\n",
    "- Plotting 2D arrays\n",
    "- Statistical plots with Seaborn\n",
    "- Analyzing time series and images"
   ]
  },
  {
   "cell_type": "markdown",
   "metadata": {},
   "source": [
    "# 1. Basic plotting with Matplotlib"
   ]
  },
  {
   "cell_type": "markdown",
   "metadata": {},
   "source": [
    "## 1.1 Plotting multiple graphs\n",
    "Strategies\n",
    "- plotting many graphs on common axes\n",
    "- creating axes within a figure\n",
    "- creating subplots within a figure"
   ]
  },
  {
   "cell_type": "markdown",
   "metadata": {},
   "source": [
    "### 1.1.a Graphs on common axes\n",
    "- args can be np.arrays, lists, pd.series"
   ]
  },
  {
   "cell_type": "code",
   "execution_count": null,
   "metadata": {},
   "outputs": [],
   "source": [
    "import matplotlib.pyplot as plt\n",
    "plt.plot(t, temperature, 'r')\n",
    "# appears on same axes\n",
    "plt.xlabel('Date')\n",
    "plt.title('Temperature & Dew Point')\n",
    "plt.show()"
   ]
  },
  {
   "cell_type": "markdown",
   "metadata": {},
   "source": [
    "### 1.1.b Multiple axes using axes()\n",
    "axes() command\n",
    "- syntax: axes([x_lo, y_lo, width, height])\n",
    "- units between 0 and 1 (figure dimensions)\n",
    "\n",
    "Requires manually setting coordinates of axes"
   ]
  },
  {
   "cell_type": "code",
   "execution_count": null,
   "metadata": {
    "ExecuteTime": {
     "end_time": "2018-10-18T02:09:40.184520Z",
     "start_time": "2018-10-18T02:09:40.088717Z"
    }
   },
   "outputs": [],
   "source": [
    "plt.axes([0.05,0.05,0.425,0.9])\n",
    "plt.plot(t, temperature, 'r')\n",
    "plt.xlabel('Date')\n",
    "plt.title('Temperature')\n",
    "\n",
    "plt.axes([0.05,0.05,0.425,0.9])\n",
    "plt.plot(t, dewpoint, 'b')\n",
    "plt.xlabel('Date')\n",
    "plt.title('Dew Point')\n",
    "\n",
    "plt.show()"
   ]
  },
  {
   "cell_type": "markdown",
   "metadata": {},
   "source": [
    "### 1.1.c Using subplot()\n",
    "- advantage of over axes: automatic layout\n",
    "    - grid of axes, vertical stacking of axes\n",
    "- syntax: subplot(nrows, ncols, nsubplot)\n",
    "- subplot ordering:\n",
    "    - row-wise from top left\n",
    "    - indexed from 1"
   ]
  },
  {
   "cell_type": "code",
   "execution_count": null,
   "metadata": {},
   "outputs": [],
   "source": [
    "plt.subplot(2,1,1)\n",
    "plt.axes([0.05,0.05,0.425,0.9])\n",
    "plt.plot(t, temperature, 'r')\n",
    "plt.xlabel('Date')\n",
    "plt.title('Temperature')\n",
    "\n",
    "plt.subplot(2,1,2)\n",
    "plt.axes([0.05,0.05,0.425,0.9])\n",
    "plt.plot(t, dewpoint, 'b')\n",
    "plt.xlabel('Date')\n",
    "plt.title('Dew Point')\n",
    "\n",
    "plt.tight_layout()\n",
    "plt.show()"
   ]
  },
  {
   "cell_type": "markdown",
   "metadata": {},
   "source": [
    "### 1.1.d Examples"
   ]
  },
  {
   "cell_type": "markdown",
   "metadata": {},
   "source": [
    "Multiple plots on single axis\n",
    "\n",
    "- It is time now to put together some of what you have learned and combine line plots on a common set of axes. The data set here comes from records of undergraduate degrees awarded to women in a variety of fields from 1970 to 2011. You can compare trends in degrees most easily by viewing two curves on the same set of axes.\n",
    "\n",
    "- Here, three NumPy arrays have been pre-loaded for you: year (enumerating years from 1970 to 2011 inclusive), physical_sciences (representing the percentage of Physical Sciences degrees awarded to women each in corresponding year), and computer_science (representing the percentage of Computer Science degrees awarded to women in each corresponding year).\n",
    "\n",
    "- You will issue two plt.plot() commands to draw line plots of different colors on the same set of axes. Here, year represents the x-axis, while physical_sciences and computer_science are the y-axes."
   ]
  },
  {
   "cell_type": "code",
   "execution_count": null,
   "metadata": {},
   "outputs": [],
   "source": [
    "# Import matplotlib.pyplot\n",
    "import matplotlib.pyplot as plt\n",
    "\n",
    "# Plot in blue the % of degrees awarded to women in the Physical Sciences\n",
    "plt.plot(year, physical_sciences, color='blue')\n",
    "\n",
    "# Plot in red the % of degrees awarded to women in Computer Science\n",
    "plt.plot(year, computer_science, color='red')\n",
    "\n",
    "# Display the plot\n",
    "plt.show()"
   ]
  },
  {
   "cell_type": "markdown",
   "metadata": {},
   "source": [
    "Using axes()\n",
    "- Rather than overlaying line plots on common axes, you may prefer to plot different line plots on distinct axes. The command plt.axes() is one way to do this (but it requires specifying coordinates relative to the size of the figure).\n",
    "\n",
    "- Here, you have the same three arrays year, physical_sciences, and computer_science representing percentages of degrees awarded to women over a range of years. You will use plt.axes() to create separate sets of axes in which you will draw each line plot.\n",
    "\n",
    "- In calling plt.axes([xlo, ylo, width, height]), a set of axes is created and made active with lower corner at coordinates (xlo, ylo) of the specified width and height. Note that these coordinates can be passed to plt.axes() in the form of a list or a tuple.\n",
    "\n",
    "- The coordinates and lengths are values between 0 and 1 representing lengths relative to the dimensions of the figure. After issuing a plt.axes() command, plots generated are put in that set of axes."
   ]
  },
  {
   "cell_type": "code",
   "execution_count": null,
   "metadata": {},
   "outputs": [],
   "source": [
    "# Create plot axes for the first line plot\n",
    "plt.axes([0.05,0.05,0.425,0.9])\n",
    "\n",
    "# Plot in blue the % of degrees awarded to women in the Physical Sciences\n",
    "plt.plot(year, physical_sciences, color='blue')\n",
    "\n",
    "# Create plot axes for the second line plot\n",
    "plt.axes([0.525,0.05,0.425,0.9])\n",
    "\n",
    "# Plot in red the % of degrees awarded to women in Computer Science\n",
    "plt.plot(year, computer_science, color='red')\n",
    "\n",
    "# Display the plot\n",
    "plt.show()\n"
   ]
  },
  {
   "cell_type": "markdown",
   "metadata": {},
   "source": [
    "Using subplot() - part 1\n",
    "- The command plt.axes() requires a lot of effort to use well because the coordinates of the axes need to be set manually. A better alternative is to use plt.subplot() to determine the layout automatically.\n",
    "\n",
    "- In this exercise, you will continue working with the same arrays from the previous exercises: year, physical_sciences, and computer_science. Rather than using plt.axes() to explicitly lay out the axes, you will use plt.subplot(m, n, k) to make the subplot grid of dimensions m by n and to make the kth subplot active (subplots are numbered starting from 1 row-wise from the top left corner of the subplot grid)."
   ]
  },
  {
   "cell_type": "code",
   "execution_count": null,
   "metadata": {},
   "outputs": [],
   "source": [
    "# Create a figure with 1x2 subplot and make the left subplot active\n",
    "plt.subplot(1,2,1)\n",
    "\n",
    "# Plot in blue the % of degrees awarded to women in the Physical Sciences\n",
    "plt.plot(year, physical_sciences, color='blue')\n",
    "plt.title('Physical Sciences')\n",
    "\n",
    "# Make the right subplot active in the current 1x2 subplot grid\n",
    "plt.subplot(1,2,2)\n",
    "\n",
    "# Plot in red the % of degrees awarded to women in Computer Science\n",
    "plt.plot(year, computer_science, color='red')\n",
    "plt.title('Computer Science')\n",
    "\n",
    "# Use plt.tight_layout() to improve the spacing between subplots\n",
    "plt.tight_layout()\n",
    "plt.show()"
   ]
  },
  {
   "cell_type": "markdown",
   "metadata": {},
   "source": [
    "Using subplot() - part 2\n",
    "- Now you have some familiarity with plt.subplot(), you can use it to plot more plots in larger grids of subplots of the same figure.\n",
    "\n",
    "- Here, you will make a 2×2 grid of subplots and plot the percentage of degrees awarded to women in Physical Sciences (using physical_sciences), in Computer Science (using computer_science), in Health Professions (using health), and in Education (using education)."
   ]
  },
  {
   "cell_type": "code",
   "execution_count": null,
   "metadata": {},
   "outputs": [],
   "source": [
    "# Create a figure with 2x2 subplot layout and make the top left subplot \n",
    "# active\n",
    "plt.subplot(2,2,1)\n",
    "\n",
    "# Plot in blue the % of degrees awarded to women in the Physical Sciences\n",
    "plt.plot(year, physical_sciences, color='blue')\n",
    "plt.title('Physical Sciences')\n",
    "\n",
    "# Make the top right subplot active in the current 2x2 subplot grid \n",
    "plt.subplot(2,2,2)\n",
    "\n",
    "# Plot in red the % of degrees awarded to women in Computer Science\n",
    "plt.plot(year, computer_science, color='red')\n",
    "plt.title('Computer Science')\n",
    "\n",
    "# Make the bottom left subplot active in the current 2x2 subplot grid\n",
    "plt.subplot(2,2,3)\n",
    "\n",
    "# Plot in green the % of degrees awarded to women in Health Professions\n",
    "plt.plot(year, health, color='green')\n",
    "plt.title('Health Professions')\n",
    "\n",
    "# Make the bottom right subplot active in the current 2x2 subplot grid\n",
    "plt.subplot(2,2,4)\n",
    "\n",
    "# Plot in yellow the % of degrees awarded to women in Education\n",
    "plt.plot(year, education, color='yellow')\n",
    "plt.title('Education')\n",
    "\n",
    "# Improve the spacing between subplots and display them\n",
    "plt.tight_layout()\n",
    "plt.show()"
   ]
  },
  {
   "cell_type": "markdown",
   "metadata": {},
   "source": [
    "## 1.2 Customizing axes\n",
    "Controlling axis extents\n",
    "- axis([xmin,xmax,ymin,ymax]) sets axis extents\n",
    "- control over indivisual axis extents\n",
    "    - xlim([xmin,xmax])\n",
    "    - ylim([ymin,ymax])\n",
    "- can use tuples, lists for extents\n",
    "    - ie. xlim(-2,3)) works\n",
    "    - ie. xlim([-2,3]) works also\n",
    "- other axis() options\n",
    "    - axis('off') - turns off axis lines, labels\n",
    "    - axis('equal') - equal scaling on x, y axes\n",
    "    - axis('square') - forces squre plot\n",
    "    - axis('tight') - sets xlim(), ylim() to show all data"
   ]
  },
  {
   "cell_type": "code",
   "execution_count": null,
   "metadata": {},
   "outputs": [],
   "source": [
    "# Example: GDP over time\n",
    "import matplotlib.pyplot as plt\n",
    "plt.plot(yr, gdp)\n",
    "plt.xlabel('Year')\n",
    "plt.ylabel('Billions of Dollars')\n",
    "plt.title('US Gross Domestic Product')\n",
    "plt.show()"
   ]
  },
  {
   "cell_type": "code",
   "execution_count": null,
   "metadata": {},
   "outputs": [],
   "source": [
    "# zoom in using xlim() and ylim())\n",
    "plt.plot(yr, gdp)\n",
    "plt.xlabel('Year')\n",
    "plt.ylabel('Billions of Dollars')\n",
    "plt.title('US Gross Domestic Product')\n",
    "# xlim() and ylim())\n",
    "plt.xlim((1947, 1957))\n",
    "plt.ylim((0, 1000))\n",
    "plt.show()"
   ]
  },
  {
   "cell_type": "code",
   "execution_count": null,
   "metadata": {},
   "outputs": [],
   "source": [
    "# zoom in using single call\n",
    "plt.plot(yr, gdp)\n",
    "plt.xlabel('Year')\n",
    "plt.ylabel('Billions of Dollars')\n",
    "plt.title('US Gross Domestic Product')\n",
    "# single call\n",
    "plt.axis((1947, 1957, 0, 600))\n",
    "plt.show()"
   ]
  },
  {
   "cell_type": "code",
   "execution_count": null,
   "metadata": {},
   "outputs": [],
   "source": [
    "# example: using axis('equal')\n",
    "plt.subplot(2,1,1)\n",
    "plt.plot(x, y, color='red')\n",
    "plt.title('default axis')\n",
    "plt.subplot(2,1,2)\n",
    "plt.plot(x, y, color='red')\n",
    "# axis('equal')\n",
    "plt.axis('equal')\n",
    "plt.title('axis equal')\n",
    "plt.tight_layout()\n",
    "plt.show()"
   ]
  },
  {
   "cell_type": "markdown",
   "metadata": {},
   "source": [
    "### 1.2.a Using xlim(), ylim()\n",
    "In this exercise, you will work with the matplotlib.pyplot interface to quickly set the x- and y-limits of your plots.\n",
    "\n",
    "You will now create the same figure as in the previous exercise using plt.plot(), this time setting the axis extents using plt.xlim() and plt.ylim(). These commands allow you to either zoom or expand the plot or to set the axis ranges to include important values (such as the origin).\n",
    "\n",
    "In this exercise, as before, the percentage of women graduates in Computer Science and in the Physical Sciences are held in the variables computer_science and physical_sciences respectively over year.\n",
    "\n",
    "After creating the plot, you will use plt.savefig() to export the image produced to a file."
   ]
  },
  {
   "cell_type": "code",
   "execution_count": null,
   "metadata": {},
   "outputs": [],
   "source": [
    "# Plot the % of degrees awarded to women in Computer Science and the \n",
    "# Physical Sciences\n",
    "plt.plot(year,computer_science, color='red') \n",
    "plt.plot(year, physical_sciences, color='blue')\n",
    "\n",
    "# Add the axis labels\n",
    "plt.xlabel('Year')\n",
    "plt.ylabel('Degrees awarded to women (%)')\n",
    "\n",
    "# Set the x-axis range\n",
    "plt.xlim((1990,2010))\n",
    "\n",
    "# Set the y-axis range\n",
    "plt.ylim((0,50))\n",
    "\n",
    "# Add a title and display the plot\n",
    "plt.title('Degrees awarded to women (1990-2010)\\nComputer Science \\\n",
    "          (red)\\nPhysical Sciences (blue)')\n",
    "plt.show()\n",
    "\n",
    "# Save the image as 'xlim_and_ylim.png'\n",
    "plt.savefig('xlim_and_ylim.png')\n"
   ]
  },
  {
   "cell_type": "markdown",
   "metadata": {},
   "source": [
    "### 1.2.b Using axis()\n",
    "Using plt.xlim() and plt.ylim() are useful for setting the axis limits individually. In this exercise, you will see how you can pass a 4-tuple to plt.axis() to set limits for both axes at once. For example, plt.axis((1980,1990,0,75)) would set the extent of the x-axis to the period between 1980 and 1990, and would set the y-axis extent from 0 to 75% degrees award.\n",
    "\n",
    "Once again, the percentage of women graduates in Computer Science and in the Physical Sciences are held in the variables computer_science and physical_sciences where each value was measured at the corresponding year held in the year variable."
   ]
  },
  {
   "cell_type": "code",
   "execution_count": null,
   "metadata": {},
   "outputs": [],
   "source": [
    "# Plot in blue the % of degrees awarded to women in Computer Science\n",
    "plt.plot(year,computer_science, color='blue')\n",
    "\n",
    "# Plot in red the % of degrees awarded to women in the Physical Sciences\n",
    "plt.plot(year, physical_sciences,color='red')\n",
    "\n",
    "# Set the x-axis and y-axis limits\n",
    "plt.axis((1990,2010,0,50))\n",
    "\n",
    "# Show the figure\n",
    "plt.show()\n",
    "\n",
    "# Save the figure as 'axis_limits.png'\n",
    "plt.savefig('axis_limits.png')\n"
   ]
  },
  {
   "cell_type": "markdown",
   "metadata": {},
   "source": [
    "## 1.3 Legends, annotations, and styles"
   ]
  },
  {
   "cell_type": "markdown",
   "metadata": {},
   "source": [
    "### 1.3.a Using legend()\n",
    "Legends\n",
    "- provide labels for overlaid points and curves\n",
    "\n",
    "Legend locations\n",
    "- 'upper left', 'upper center', 'upper right'\n",
    "- 'center left', 'center', 'center right'\n",
    "- 'lower left', 'lower center', 'lower right'\n",
    "- 'best', 'right'"
   ]
  },
  {
   "cell_type": "code",
   "execution_count": null,
   "metadata": {
    "ExecuteTime": {
     "start_time": "2018-10-20T03:06:09.238Z"
    }
   },
   "outputs": [],
   "source": [
    "# Example\n",
    "import matplolib.pyplot as plt\n",
    "plt.scatter(setosa_len, setosa_wid,\n",
    "           marker='o', color='red', label='setosa')\n",
    "plt.scatter(versicolor_len, versicolor_wid,\n",
    "           marker='o', color='green', label='versicolor')\n",
    "plt.scatter(virginica_len, virginica_wid,\n",
    "           marker='o', color='blue', label='virginica')\n",
    "# create legend\n",
    "plt.legend(loc='upper right')\n",
    "plt.title('Iris data')\n",
    "plt.xlabel('sepal length (cm)')\n",
    "plt.ylabel('sepal width (cm)')\n",
    "plt.show()"
   ]
  },
  {
   "cell_type": "markdown",
   "metadata": {},
   "source": [
    "#### Using legend()\n",
    "Legends are useful for distinguishing between multiple datasets displayed on common axes. The relevant data are created using specific line colors or markers in various plot commands. Using the keyword argument label in the plotting function associates a string to use in a legend.\n",
    "\n",
    "For example, here, you will plot enrollment of women in the Physical Sciences and in Computer Science over time. You can label each curve by passing a label argument to the plotting call, and request a legend using plt.legend(). Specifying the keyword argument loc determines where the legend will be placed."
   ]
  },
  {
   "cell_type": "code",
   "execution_count": null,
   "metadata": {},
   "outputs": [],
   "source": [
    "# Specify the label 'Computer Science'\n",
    "plt.plot(year, computer_science, color='red', label='Computer Science') \n",
    "\n",
    "# Specify the label 'Physical Sciences' \n",
    "plt.plot(year, physical_sciences, color='blue', label='Physical Sciences')\n",
    "\n",
    "# Add a legend at the lower center\n",
    "plt.legend(loc='lower center')\n",
    "\n",
    "# Add axis labels and title\n",
    "plt.xlabel('Year')\n",
    "plt.ylabel('Enrollment (%)')\n",
    "plt.title('Undergraduate enrollment of women')\n",
    "plt.show()\n"
   ]
  },
  {
   "cell_type": "markdown",
   "metadata": {},
   "source": [
    "### 1.3.b Using annotate()\n",
    "Plot annotations\n",
    "- text labels and arrows using annotate() method\n",
    "- flexible specification of coordinates\n",
    "- keyword arrowprops: dict of arrow properties\n",
    "    - width\n",
    "    - color\n",
    "    - etc.\n",
    "    \n",
    "Options for annotate()\n",
    "- s - text of label\n",
    "- xy - coordinates to annotate\n",
    "- xytext - coordinates of label\n",
    "- arrowprops - controls drawing of arrow, specified by dictionary with arrow's properties\n"
   ]
  },
  {
   "cell_type": "code",
   "execution_count": null,
   "metadata": {},
   "outputs": [],
   "source": [
    "# Example: using annotate() for text\n",
    "plt.annotate('setosa', xy=(5.0, 3.5))\n",
    "plt.annotate('versicolor', xy=(7.25, 3.5))\n",
    "plt.annotate('virginica', xy=(5.0, 2.0))\n",
    "plt.show()"
   ]
  },
  {
   "cell_type": "code",
   "execution_count": null,
   "metadata": {},
   "outputs": [],
   "source": [
    "# Example: using annotate() for arrows (from text labels to \n",
    "# annotated data)\n",
    "plt.annotate('setosa', xy=(5.0, 3.5),\n",
    "            xytext=(4.25, 4.0), arrowprops={'color':'red'})\n",
    "plt.annotate('versicolor', xy=(7.2, 3.6),\n",
    "            xytext=(6.5, 4.0), arrowprops={'color':'blue'})\n",
    "plt.annotate('virginica', xy=(5.05, 1.95),\n",
    "            xytext=(5.5, 1.75), arrowprops={'color':'green'})\n",
    "plt.show()"
   ]
  },
  {
   "cell_type": "markdown",
   "metadata": {},
   "source": [
    "#### Using annotate()\n",
    "It is often useful to annotate a simple plot to provide context. This makes the plot more readable and can highlight specific aspects of the data. Annotations like text and arrows can be used to emphasize specific observations.\n",
    "\n",
    "Here, you will once again plot enrollment of women in the Physical Sciences and Computer science over time. The legend is set up as before. Additionally, you will mark the inflection point when enrollment of women in Computer Science reached a peak and started declining using plt.annotate().\n",
    "\n",
    "To enable an arrow, set arrowprops=dict(facecolor='black'). The arrow will point to the location given by xy and the text will appear at the location given by xytext.\n",
    "\n",
    "Annotate the plot with an arrow at the point of peak women enrolling in Computer Science.\n",
    "- Label the arrow 'Maximum'. The parameter for this is s, but you don't have to specify it.\n",
    "- Pass in the arguments to xy and xytext as tuples.\n",
    "- For xy, use the yr_max and cs_max that you computed.\n",
    "- For xytext, use (yr_max+5, cs_max+5) to specify the displacement of the - label from the tip of the arrow.\n",
    "- Draw the arrow by specifying the keyword argument arrowprops=dict(facecolor='black'). The single letter shortcut for 'black' is 'k'."
   ]
  },
  {
   "cell_type": "code",
   "execution_count": null,
   "metadata": {},
   "outputs": [],
   "source": [
    "# Plot with legend as before\n",
    "plt.plot(year, computer_science, color='red', label='Computer Science') \n",
    "plt.plot(year, physical_sciences, color='blue', \n",
    "         label='Physical Sciences')\n",
    "plt.legend(loc='lower right')\n",
    "\n",
    "# Compute the maximum enrollment of women in Computer Science: cs_max\n",
    "cs_max = computer_science.max()\n",
    "\n",
    "# Calculate the year in which there was maximum enrollment of women in \n",
    "# Computer Science: yr_max\n",
    "yr_max = year[computer_science.argmax()]\n",
    "\n",
    "# Add a black arrow annotation\n",
    "plt.annotate('Maximum',xy=(yr_max,cs_max),\n",
    "xytext=(yr_max + 5,cs_max + 5),\n",
    "arrowprops={'facecolor':'black'})\n",
    "\n",
    "# Add axis labels and title\n",
    "plt.xlabel('Year')\n",
    "plt.ylabel('Enrollment (%)')\n",
    "plt.title('Undergraduate enrollment of women')\n",
    "plt.show()\n"
   ]
  },
  {
   "cell_type": "markdown",
   "metadata": {},
   "source": [
    "### 1.3.c Modifying plot styles\n",
    "- style sheets in Matplotlib\n",
    "- defaults for lines, points, backgrounds, etc.\n",
    "- switch styles globally with plt.style.use()\n",
    "- plt.style.available: list of styles"
   ]
  },
  {
   "cell_type": "code",
   "execution_count": null,
   "metadata": {},
   "outputs": [],
   "source": [
    "# example: ggplot style\n",
    "import matplotlib.pyplot as plt\n",
    "plt.style.use('ggplot')"
   ]
  },
  {
   "cell_type": "code",
   "execution_count": null,
   "metadata": {},
   "outputs": [],
   "source": [
    "# example: fivethirtyeight style\n",
    "import matplotlib.pyplot as plt\n",
    "plt.style.use('fivethirtyeight')"
   ]
  },
  {
   "cell_type": "markdown",
   "metadata": {},
   "source": [
    "#### Modifying styles\n",
    "Matplotlib comes with a number of different stylesheets to customize the overall look of different plots. To activate a particular stylesheet you can simply call plt.style.use() with the name of the style sheet you want. To list all the available style sheets you can execute: print(plt.style.available)."
   ]
  },
  {
   "cell_type": "code",
   "execution_count": null,
   "metadata": {},
   "outputs": [],
   "source": [
    "# Import matplotlib.pyplot\n",
    "import matplotlib.pyplot as plt\n",
    "\n",
    "# Set the style to 'ggplot'\n",
    "plt.style.use('ggplot')\n",
    "\n",
    "# Create a figure with 2x2 subplot layout\n",
    "plt.subplot(2, 2, 1) \n",
    "\n",
    "# Plot the enrollment % of women in the Physical Sciences\n",
    "plt.plot(year, physical_sciences, color='blue')\n",
    "plt.title('Physical Sciences')\n",
    "\n",
    "# Plot the enrollment % of women in Computer Science\n",
    "plt.subplot(2, 2, 2)\n",
    "plt.plot(year, computer_science, color='red')\n",
    "plt.title('Computer Science')\n",
    "\n",
    "# Add annotation\n",
    "cs_max = computer_science.max()\n",
    "yr_max = year[computer_science.argmax()]\n",
    "plt.annotate('Maximum', xy=(yr_max, cs_max), \n",
    "             xytext=(yr_max-1, cs_max-10), \n",
    "             arrowprops=dict(facecolor='black'))\n",
    "\n",
    "# Plot the enrollmment % of women in Health professions\n",
    "plt.subplot(2, 2, 3)\n",
    "plt.plot(year, health, color='green')\n",
    "plt.title('Health Professions')\n",
    "\n",
    "# Plot the enrollment % of women in Education\n",
    "plt.subplot(2, 2, 4)\n",
    "plt.plot(year, education, color='yellow')\n",
    "plt.title('Education')\n",
    "\n",
    "# Improve spacing between subplots and display them\n",
    "plt.tight_layout()\n",
    "plt.show()"
   ]
  },
  {
   "cell_type": "markdown",
   "metadata": {},
   "source": [
    "# 2. Plotting 2D arrays"
   ]
  },
  {
   "cell_type": "code",
   "execution_count": null,
   "metadata": {},
   "outputs": [],
   "source": []
  },
  {
   "cell_type": "code",
   "execution_count": null,
   "metadata": {},
   "outputs": [],
   "source": []
  },
  {
   "cell_type": "code",
   "execution_count": null,
   "metadata": {},
   "outputs": [],
   "source": []
  },
  {
   "cell_type": "code",
   "execution_count": null,
   "metadata": {},
   "outputs": [],
   "source": []
  },
  {
   "cell_type": "code",
   "execution_count": null,
   "metadata": {},
   "outputs": [],
   "source": []
  },
  {
   "cell_type": "code",
   "execution_count": null,
   "metadata": {},
   "outputs": [],
   "source": []
  },
  {
   "cell_type": "code",
   "execution_count": null,
   "metadata": {},
   "outputs": [],
   "source": []
  },
  {
   "cell_type": "code",
   "execution_count": null,
   "metadata": {},
   "outputs": [],
   "source": []
  },
  {
   "cell_type": "code",
   "execution_count": null,
   "metadata": {},
   "outputs": [],
   "source": []
  },
  {
   "cell_type": "code",
   "execution_count": null,
   "metadata": {},
   "outputs": [],
   "source": []
  },
  {
   "cell_type": "code",
   "execution_count": null,
   "metadata": {},
   "outputs": [],
   "source": []
  },
  {
   "cell_type": "code",
   "execution_count": null,
   "metadata": {},
   "outputs": [],
   "source": []
  },
  {
   "cell_type": "code",
   "execution_count": null,
   "metadata": {},
   "outputs": [],
   "source": []
  },
  {
   "cell_type": "code",
   "execution_count": null,
   "metadata": {},
   "outputs": [],
   "source": []
  },
  {
   "cell_type": "code",
   "execution_count": null,
   "metadata": {},
   "outputs": [],
   "source": []
  },
  {
   "cell_type": "code",
   "execution_count": null,
   "metadata": {},
   "outputs": [],
   "source": []
  },
  {
   "cell_type": "code",
   "execution_count": null,
   "metadata": {},
   "outputs": [],
   "source": []
  },
  {
   "cell_type": "markdown",
   "metadata": {},
   "source": [
    "# 3. Statistical plots with Seaborn"
   ]
  },
  {
   "cell_type": "code",
   "execution_count": null,
   "metadata": {},
   "outputs": [],
   "source": []
  },
  {
   "cell_type": "code",
   "execution_count": null,
   "metadata": {},
   "outputs": [],
   "source": []
  },
  {
   "cell_type": "code",
   "execution_count": null,
   "metadata": {},
   "outputs": [],
   "source": []
  },
  {
   "cell_type": "code",
   "execution_count": null,
   "metadata": {},
   "outputs": [],
   "source": []
  },
  {
   "cell_type": "code",
   "execution_count": null,
   "metadata": {},
   "outputs": [],
   "source": []
  },
  {
   "cell_type": "code",
   "execution_count": null,
   "metadata": {},
   "outputs": [],
   "source": []
  },
  {
   "cell_type": "code",
   "execution_count": null,
   "metadata": {},
   "outputs": [],
   "source": []
  },
  {
   "cell_type": "code",
   "execution_count": null,
   "metadata": {},
   "outputs": [],
   "source": []
  },
  {
   "cell_type": "code",
   "execution_count": null,
   "metadata": {},
   "outputs": [],
   "source": []
  },
  {
   "cell_type": "code",
   "execution_count": null,
   "metadata": {},
   "outputs": [],
   "source": []
  },
  {
   "cell_type": "code",
   "execution_count": null,
   "metadata": {},
   "outputs": [],
   "source": []
  },
  {
   "cell_type": "code",
   "execution_count": null,
   "metadata": {},
   "outputs": [],
   "source": []
  },
  {
   "cell_type": "code",
   "execution_count": null,
   "metadata": {},
   "outputs": [],
   "source": []
  },
  {
   "cell_type": "code",
   "execution_count": null,
   "metadata": {},
   "outputs": [],
   "source": []
  },
  {
   "cell_type": "code",
   "execution_count": null,
   "metadata": {},
   "outputs": [],
   "source": []
  },
  {
   "cell_type": "code",
   "execution_count": null,
   "metadata": {},
   "outputs": [],
   "source": []
  },
  {
   "cell_type": "code",
   "execution_count": null,
   "metadata": {},
   "outputs": [],
   "source": []
  },
  {
   "cell_type": "markdown",
   "metadata": {},
   "source": [
    "# 4. Analyzing time series and images"
   ]
  },
  {
   "cell_type": "code",
   "execution_count": null,
   "metadata": {},
   "outputs": [],
   "source": []
  },
  {
   "cell_type": "code",
   "execution_count": null,
   "metadata": {},
   "outputs": [],
   "source": []
  },
  {
   "cell_type": "code",
   "execution_count": null,
   "metadata": {},
   "outputs": [],
   "source": []
  },
  {
   "cell_type": "code",
   "execution_count": null,
   "metadata": {},
   "outputs": [],
   "source": []
  },
  {
   "cell_type": "code",
   "execution_count": null,
   "metadata": {},
   "outputs": [],
   "source": []
  },
  {
   "cell_type": "code",
   "execution_count": null,
   "metadata": {},
   "outputs": [],
   "source": []
  },
  {
   "cell_type": "code",
   "execution_count": null,
   "metadata": {},
   "outputs": [],
   "source": []
  },
  {
   "cell_type": "code",
   "execution_count": null,
   "metadata": {},
   "outputs": [],
   "source": []
  },
  {
   "cell_type": "code",
   "execution_count": null,
   "metadata": {},
   "outputs": [],
   "source": []
  },
  {
   "cell_type": "code",
   "execution_count": null,
   "metadata": {},
   "outputs": [],
   "source": []
  },
  {
   "cell_type": "code",
   "execution_count": null,
   "metadata": {},
   "outputs": [],
   "source": []
  },
  {
   "cell_type": "code",
   "execution_count": null,
   "metadata": {},
   "outputs": [],
   "source": []
  },
  {
   "cell_type": "code",
   "execution_count": null,
   "metadata": {},
   "outputs": [],
   "source": []
  },
  {
   "cell_type": "code",
   "execution_count": null,
   "metadata": {},
   "outputs": [],
   "source": []
  },
  {
   "cell_type": "code",
   "execution_count": null,
   "metadata": {},
   "outputs": [],
   "source": []
  },
  {
   "cell_type": "code",
   "execution_count": null,
   "metadata": {},
   "outputs": [],
   "source": []
  },
  {
   "cell_type": "code",
   "execution_count": null,
   "metadata": {},
   "outputs": [],
   "source": []
  },
  {
   "cell_type": "code",
   "execution_count": null,
   "metadata": {},
   "outputs": [],
   "source": []
  },
  {
   "cell_type": "code",
   "execution_count": null,
   "metadata": {},
   "outputs": [],
   "source": []
  }
 ],
 "metadata": {
  "kernelspec": {
   "display_name": "Python 3",
   "language": "python",
   "name": "python3"
  },
  "language_info": {
   "codemirror_mode": {
    "name": "ipython",
    "version": 3
   },
   "file_extension": ".py",
   "mimetype": "text/x-python",
   "name": "python",
   "nbconvert_exporter": "python",
   "pygments_lexer": "ipython3",
   "version": "3.6.6"
  }
 },
 "nbformat": 4,
 "nbformat_minor": 2
}
