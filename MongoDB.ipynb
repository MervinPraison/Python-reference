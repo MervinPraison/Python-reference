{
 "cells": [
  {
   "cell_type": "markdown",
   "metadata": {},
   "source": [
    "# MongoDB"
   ]
  },
  {
   "cell_type": "markdown",
   "metadata": {},
   "source": [
    "Install notes\n",
    "- https://docs.mongodb.com/manual/tutorial/install-mongodb-on-os-x/\n",
    "- https://www.datacamp.com/community/tutorials/introduction-mongodb-python\n"
   ]
  },
  {
   "cell_type": "code",
   "execution_count": 127,
   "metadata": {},
   "outputs": [],
   "source": [
    "import pymongo"
   ]
  },
  {
   "cell_type": "code",
   "execution_count": 128,
   "metadata": {},
   "outputs": [],
   "source": [
    "# Create a Mongo client to establish a connection\n",
    "from pymongo import MongoClient\n",
    "client = MongoClient()"
   ]
  },
  {
   "cell_type": "code",
   "execution_count": null,
   "metadata": {},
   "outputs": [],
   "source": [
    "# Will connect to a default host and port, but otherwise\n",
    "# client = MongoClient(\"localhost\", 27017)"
   ]
  },
  {
   "cell_type": "code",
   "execution_count": 82,
   "metadata": {},
   "outputs": [],
   "source": [
    "# create a database\n",
    "db = client['datacampdb']"
   ]
  },
  {
   "cell_type": "code",
   "execution_count": 83,
   "metadata": {},
   "outputs": [],
   "source": [
    "# Data is stored/represented in JSON-style\n",
    "# PyMongo use dictionaries to represent documents\n",
    "\n",
    "# example: PyMongo document\n",
    "article = {\"author\": \"Derrick Mwiti\",\n",
    "            \"about\": \"Introduction to MongoDB and Python\",\n",
    "            \"tags\":\n",
    "                [\"mongodb\", \"python\", \"pymongo\"]}"
   ]
  },
  {
   "cell_type": "code",
   "execution_count": 85,
   "metadata": {},
   "outputs": [],
   "source": [
    "# Insert a document into a collection using insert_one()\n",
    "# Recall a collection is like a RDBMS table, document is like a row\n",
    "articles = db.articles\n",
    "result = articles.insert_one(article)"
   ]
  },
  {
   "cell_type": "code",
   "execution_count": 86,
   "metadata": {},
   "outputs": [
    {
     "name": "stdout",
     "output_type": "stream",
     "text": [
      "First article key is: 5becf64289a1e30d2343d4e8\n"
     ]
    }
   ],
   "source": [
    "# Print the document ID. This is unique to the document inserted.\n",
    "print(\"First article key is: {}\".format(result.inserted_id))"
   ]
  },
  {
   "cell_type": "code",
   "execution_count": 104,
   "metadata": {},
   "outputs": [
    {
     "data": {
      "text/plain": [
       "[]"
      ]
     },
     "execution_count": 104,
     "metadata": {},
     "output_type": "execute_result"
    }
   ],
   "source": [
    "# Confirm that the articles collection is created. Should have been created\n",
    "# after inserting the first document.\n",
    "db.list_collection_names()\n",
    "\n",
    "# should see 'user' too... where is it?"
   ]
  },
  {
   "cell_type": "code",
   "execution_count": null,
   "metadata": {},
   "outputs": [],
   "source": [
    "\n",
    "\n",
    "\n",
    "\n",
    "\n",
    "\n",
    "\n"
   ]
  },
  {
   "cell_type": "code",
   "execution_count": 88,
   "metadata": {},
   "outputs": [
    {
     "name": "stdout",
     "output_type": "stream",
     "text": [
      "The new article IDs are [ObjectId('5becf6fc89a1e30d2343d4e9'), ObjectId('5becf6fc89a1e30d2343d4ea')]\n"
     ]
    }
   ],
   "source": [
    "# Insert multiple documents using insert_many()\n",
    "article1 = {\"author\": \"Emmanuel Kens\",\n",
    "            \"about\": \"Knn and Python\",\n",
    "            \"tags\":\n",
    "                [\"Knn\",\"pymongo\"]}\n",
    "article2 = {\"author\": \"Daniel Kimeli\",\n",
    "            \"about\": \"Web Development and Python\",\n",
    "            \"tags\":\n",
    "                [\"web\", \"design\", \"HTML\"]}\n",
    "new_articles = articles.insert_many([article1, article2])\n",
    "print(\"The new article IDs are {}\".format(new_articles.inserted_ids))\n"
   ]
  },
  {
   "cell_type": "code",
   "execution_count": 89,
   "metadata": {},
   "outputs": [
    {
     "name": "stdout",
     "output_type": "stream",
     "text": [
      "{'_id': ObjectId('5bda737e89a1e30d2343d4e4'), 'author': 'John David', 'about': 'Introduction to MongoDB and Python', 'tags': ['mongodb', 'python', 'pymongo']}\n"
     ]
    }
   ],
   "source": [
    "# Retrieve a single document with find_one()\n",
    "print(articles.find_one())"
   ]
  },
  {
   "cell_type": "code",
   "execution_count": 90,
   "metadata": {},
   "outputs": [
    {
     "name": "stdout",
     "output_type": "stream",
     "text": [
      "{'_id': ObjectId('5bda737e89a1e30d2343d4e4'), 'author': 'John David', 'about': 'Introduction to MongoDB and Python', 'tags': ['mongodb', 'python', 'pymongo']}\n",
      "{'_id': ObjectId('5bda738489a1e30d2343d4e5'), 'author': 'Emmanuel Kens', 'about': 'Knn and Python', 'tags': ['Knn', 'pymongo']}\n",
      "{'_id': ObjectId('5bda738489a1e30d2343d4e6'), 'author': 'Daniel Kimeli', 'about': 'Web Development and Python', 'tags': ['web', 'design', 'HTML']}\n",
      "{'_id': ObjectId('5becf64289a1e30d2343d4e8'), 'author': 'Derrick Mwiti', 'about': 'Introduction to MongoDB and Python', 'tags': ['mongodb', 'python', 'pymongo']}\n",
      "{'_id': ObjectId('5becf6fc89a1e30d2343d4e9'), 'author': 'Emmanuel Kens', 'about': 'Knn and Python', 'tags': ['Knn', 'pymongo']}\n",
      "{'_id': ObjectId('5becf6fc89a1e30d2343d4ea'), 'author': 'Daniel Kimeli', 'about': 'Web Development and Python', 'tags': ['web', 'design', 'HTML']}\n"
     ]
    }
   ],
   "source": [
    "# Find all documents in a Collection using find method\n",
    "for article in articles.find():\n",
    "  print(article)"
   ]
  },
  {
   "cell_type": "code",
   "execution_count": 91,
   "metadata": {},
   "outputs": [],
   "source": [
    "# For building web apps, usually get document IDs from URL, but first need\n",
    "# to convert the string ID to an ObjectID\n",
    "from bson.objectid import ObjectId\n",
    "def get(post_id):\n",
    "    document = client.db.collection.find_one({'_id': ObjectId(post_id)})\n"
   ]
  },
  {
   "cell_type": "code",
   "execution_count": 92,
   "metadata": {},
   "outputs": [
    {
     "name": "stdout",
     "output_type": "stream",
     "text": [
      "{'author': 'John David', 'about': 'Introduction to MongoDB and Python'}\n",
      "{'author': 'Emmanuel Kens', 'about': 'Knn and Python'}\n",
      "{'author': 'Daniel Kimeli', 'about': 'Web Development and Python'}\n",
      "{'author': 'Derrick Mwiti', 'about': 'Introduction to MongoDB and Python'}\n",
      "{'author': 'Emmanuel Kens', 'about': 'Knn and Python'}\n",
      "{'author': 'Daniel Kimeli', 'about': 'Web Development and Python'}\n"
     ]
    }
   ],
   "source": [
    "# Return some fields only\n",
    "# _id: 0 - id not fetched\n",
    "# author: 1 - fetch\n",
    "# about: 1 - fetch\n",
    "# Note, ignoring the _id field, only allowed to specify 0 for one field.\n",
    "for article in articles.find({},{ \"_id\": 0, \"author\": 1, \"about\": 1}):\n",
    "  print(article)"
   ]
  },
  {
   "cell_type": "code",
   "execution_count": 93,
   "metadata": {},
   "outputs": [
    {
     "name": "stdout",
     "output_type": "stream",
     "text": [
      "{'_id': ObjectId('5bda737e89a1e30d2343d4e4'), 'author': 'John David', 'about': 'Introduction to MongoDB and Python', 'tags': ['mongodb', 'python', 'pymongo']}\n",
      "{'_id': ObjectId('5bda738489a1e30d2343d4e5'), 'author': 'Emmanuel Kens', 'about': 'Knn and Python', 'tags': ['Knn', 'pymongo']}\n",
      "{'_id': ObjectId('5becf6fc89a1e30d2343d4e9'), 'author': 'Emmanuel Kens', 'about': 'Knn and Python', 'tags': ['Knn', 'pymongo']}\n",
      "{'_id': ObjectId('5becf64289a1e30d2343d4e8'), 'author': 'Derrick Mwiti', 'about': 'Introduction to MongoDB and Python', 'tags': ['mongodb', 'python', 'pymongo']}\n",
      "{'_id': ObjectId('5bda738489a1e30d2343d4e6'), 'author': 'Daniel Kimeli', 'about': 'Web Development and Python', 'tags': ['web', 'design', 'HTML']}\n",
      "{'_id': ObjectId('5becf6fc89a1e30d2343d4ea'), 'author': 'Daniel Kimeli', 'about': 'Web Development and Python', 'tags': ['web', 'design', 'HTML']}\n"
     ]
    }
   ],
   "source": [
    "# Sort results (ascending or descending) using sort()\n",
    "# default ascending\n",
    "# 1 - ascending, -1 - descending\n",
    "\n",
    "# example: descending sort\n",
    "doc = articles.find().sort(\"author\", -1)\n",
    "\n",
    "for x in doc:\n",
    "  print(x)\n",
    "\n"
   ]
  },
  {
   "cell_type": "code",
   "execution_count": 94,
   "metadata": {},
   "outputs": [
    {
     "name": "stdout",
     "output_type": "stream",
     "text": [
      "{'_id': ObjectId('5bda737e89a1e30d2343d4e4'), 'author': 'John David', 'about': 'Introduction to MongoDB and Python', 'tags': ['mongodb', 'python', 'pymongo']}\n",
      "{'_id': ObjectId('5bda738489a1e30d2343d4e5'), 'author': 'Emmanuel Kens', 'about': 'Knn and Python', 'tags': ['Knn', 'pymongo']}\n",
      "{'_id': ObjectId('5bda738489a1e30d2343d4e6'), 'author': 'Daniel Kimeli', 'about': 'Web Development and Python', 'tags': ['web', 'design', 'HTML']}\n",
      "{'_id': ObjectId('5becf64289a1e30d2343d4e8'), 'author': 'John David', 'about': 'Introduction to MongoDB and Python', 'tags': ['mongodb', 'python', 'pymongo']}\n",
      "{'_id': ObjectId('5becf6fc89a1e30d2343d4e9'), 'author': 'Emmanuel Kens', 'about': 'Knn and Python', 'tags': ['Knn', 'pymongo']}\n",
      "{'_id': ObjectId('5becf6fc89a1e30d2343d4ea'), 'author': 'Daniel Kimeli', 'about': 'Web Development and Python', 'tags': ['web', 'design', 'HTML']}\n"
     ]
    }
   ],
   "source": [
    "# Update a document using update_one()\n",
    "# If more than one document found, only update the first one.\n",
    "\n",
    "# Example: update author name and article written by Derrick\n",
    "query = { \"author\": \"Derrick Mwiti\" }\n",
    "new_author = { \"$set\": { \"author\": \"John David\" } }\n",
    "\n",
    "articles.update_one(query, new_author)\n",
    "\n",
    "for article in articles.find():\n",
    "  print(article)"
   ]
  },
  {
   "cell_type": "code",
   "execution_count": 95,
   "metadata": {},
   "outputs": [
    {
     "name": "stdout",
     "output_type": "stream",
     "text": [
      "{'_id': ObjectId('5bda737e89a1e30d2343d4e4'), 'author': 'John David', 'about': 'Introduction to MongoDB and Python', 'tags': ['mongodb', 'python', 'pymongo']}\n"
     ]
    }
   ],
   "source": [
    "# Limit the result using limit\n",
    "\n",
    "# Example: limit result to 1 record\n",
    "limited_result = articles.find().limit(1)\n",
    "for x in limited_result:\n",
    "    print(x)"
   ]
  },
  {
   "cell_type": "code",
   "execution_count": null,
   "metadata": {},
   "outputs": [],
   "source": [
    "#############\n",
    "\n",
    "\n"
   ]
  },
  {
   "cell_type": "code",
   "execution_count": 96,
   "metadata": {},
   "outputs": [
    {
     "data": {
      "text/plain": [
       "<pymongo.results.DeleteResult at 0x10d25ac48>"
      ]
     },
     "execution_count": 96,
     "metadata": {},
     "output_type": "execute_result"
    }
   ],
   "source": [
    "# MongoDB Delete Document using delete_one()\n",
    "# Example: delete article with id 5ba4cbe42e8ca029163417ce\n",
    "db.articles.delete_one({\"_id\":ObjectId(\"5bda737e89a1e30d2343d4e4\")})"
   ]
  },
  {
   "cell_type": "code",
   "execution_count": 97,
   "metadata": {},
   "outputs": [
    {
     "name": "stdout",
     "output_type": "stream",
     "text": [
      "5  articles deleted.\n"
     ]
    }
   ],
   "source": [
    "# Delete many documents using delete_many()\n",
    "# Empty query object will delete all documents\n",
    "delete_articles = articles.delete_many({})\n",
    "print(delete_articles.deleted_count, \" articles deleted.\")\n"
   ]
  },
  {
   "cell_type": "code",
   "execution_count": 98,
   "metadata": {},
   "outputs": [],
   "source": [
    "# Drop a collection using drop()\n",
    "articles.drop()"
   ]
  },
  {
   "cell_type": "code",
   "execution_count": 99,
   "metadata": {},
   "outputs": [
    {
     "data": {
      "text/plain": [
       "[]"
      ]
     },
     "execution_count": 99,
     "metadata": {},
     "output_type": "execute_result"
    }
   ],
   "source": [
    "# Confirm that collection has been deleted when we call list_collection_names.\n",
    "# Expect an empty list\n",
    "db.list_collection_names()"
   ]
  },
  {
   "cell_type": "markdown",
   "metadata": {},
   "source": [
    "MongoDB object document mapper (ODM)\n",
    "- SQL has an object relational mapper (ORM) mappers that provides an abstraction when working with SQL. \n",
    "MongoDB has similar called a object document mapper(ODM). \n",
    "- MongoEngine is a library that provides a high-level abstraction on top of PyMongo.\n",
    "\n",
    "Examples of other MongoDB ODMs include [ming](https://ming.readthedocs.io/en/latest/), [minimongo](https://github.com/slacy/minimongo) and, [mongokit](https://github.com/namlook/mongokit).\n",
    "\n",
    "Install mongoengine using:\n",
    "- conda install -c conda-forge mongoengine "
   ]
  },
  {
   "cell_type": "code",
   "execution_count": 115,
   "metadata": {},
   "outputs": [
    {
     "data": {
      "text/plain": [
       "MongoClient(host=['localhost:27017'], document_class=dict, tz_aware=False, connect=True, read_preference=Primary())"
      ]
     },
     "execution_count": 115,
     "metadata": {},
     "output_type": "execute_result"
    }
   ],
   "source": [
    "# After importing mongo engine, \n",
    "# use connect() with args for database, port, host to connect with MongoDB\n",
    "from mongoengine import *\n",
    "connect('datacampdb', host='localhost', port=27017)\n"
   ]
  },
  {
   "cell_type": "markdown",
   "metadata": {},
   "source": [
    "# Defining our Documents\n",
    "- Example: Develop a social site that allows users to post messages.\n",
    "- Need a users and comments document.\n",
    "- Define user fields and data types"
   ]
  },
  {
   "cell_type": "code",
   "execution_count": 129,
   "metadata": {},
   "outputs": [],
   "source": [
    "# Create the document by sub-classing the Document class from mongoengine\n",
    "# Arg: required=True requires a user needs to specify the field\n",
    "class User(Document):\n",
    "    email = StringField(required=True)\n",
    "    first_name = StringField(max_length=30)\n",
    "    last_name = StringField(max_length=30)\n",
    "    \n"
   ]
  },
  {
   "cell_type": "code",
   "execution_count": 118,
   "metadata": {},
   "outputs": [],
   "source": [
    "# Create a posts document and reference the users document. \n",
    "# The ReferenceField enables us to make reference from one document to \n",
    "# another in mongoengine.\n",
    "class Post(Document):\n",
    "    title = StringField(max_length=120, required=True)\n",
    "    author = ReferenceField(User)"
   ]
  },
  {
   "cell_type": "code",
   "execution_count": null,
   "metadata": {},
   "outputs": [],
   "source": [
    "# try different options\n"
   ]
  },
  {
   "cell_type": "code",
   "execution_count": 130,
   "metadata": {},
   "outputs": [
    {
     "ename": "AttributeError",
     "evalue": "'User' object has no attribute '_is_document'",
     "output_type": "error",
     "traceback": [
      "\u001b[0;31m---------------------------------------------------------------------------\u001b[0m",
      "\u001b[0;31mAttributeError\u001b[0m                            Traceback (most recent call last)",
      "\u001b[0;32m<ipython-input-130-dcff541ee05e>\u001b[0m in \u001b[0;36m<module>\u001b[0;34m()\u001b[0m\n\u001b[1;32m      3\u001b[0m user = User(email=\"connect@derrickmwiti.com\", \n\u001b[1;32m      4\u001b[0m             \u001b[0mfirst_name\u001b[0m\u001b[0;34m=\u001b[0m\u001b[0;34m\"Derrick\"\u001b[0m\u001b[0;34m,\u001b[0m\u001b[0;34m\u001b[0m\u001b[0m\n\u001b[0;32m----> 5\u001b[0;31m             last_name=\"Mwiti\")\n\u001b[0m\u001b[1;32m      6\u001b[0m \u001b[0muser\u001b[0m\u001b[0;34m.\u001b[0m\u001b[0msave\u001b[0m\u001b[0;34m(\u001b[0m\u001b[0;34m)\u001b[0m\u001b[0;34m\u001b[0m\u001b[0m\n",
      "\u001b[0;32m/anaconda3/lib/python3.6/site-packages/mongoengine/base/document.py\u001b[0m in \u001b[0;36m__init__\u001b[0;34m(self, *args, **values)\u001b[0m\n\u001b[1;32m     42\u001b[0m         \u001b[0;34m:\u001b[0m\u001b[0mparam\u001b[0m \u001b[0mvalues\u001b[0m\u001b[0;34m:\u001b[0m \u001b[0mA\u001b[0m \u001b[0mdictionary\u001b[0m \u001b[0mof\u001b[0m \u001b[0mvalues\u001b[0m \u001b[0;32mfor\u001b[0m \u001b[0mthe\u001b[0m \u001b[0mdocument\u001b[0m\u001b[0;34m\u001b[0m\u001b[0m\n\u001b[1;32m     43\u001b[0m         \"\"\"\n\u001b[0;32m---> 44\u001b[0;31m         \u001b[0mself\u001b[0m\u001b[0;34m.\u001b[0m\u001b[0m_initialised\u001b[0m \u001b[0;34m=\u001b[0m \u001b[0;32mFalse\u001b[0m\u001b[0;34m\u001b[0m\u001b[0m\n\u001b[0m\u001b[1;32m     45\u001b[0m         \u001b[0mself\u001b[0m\u001b[0;34m.\u001b[0m\u001b[0m_created\u001b[0m \u001b[0;34m=\u001b[0m \u001b[0;32mTrue\u001b[0m\u001b[0;34m\u001b[0m\u001b[0m\n\u001b[1;32m     46\u001b[0m         \u001b[0;32mif\u001b[0m \u001b[0margs\u001b[0m\u001b[0;34m:\u001b[0m\u001b[0;34m\u001b[0m\u001b[0m\n",
      "\u001b[0;32m/anaconda3/lib/python3.6/site-packages/mongoengine/base/document.py\u001b[0m in \u001b[0;36m__setattr__\u001b[0;34m(self, name, value)\u001b[0m\n\u001b[1;32m    167\u001b[0m \u001b[0;34m\u001b[0m\u001b[0m\n\u001b[1;32m    168\u001b[0m         if (\n\u001b[0;32m--> 169\u001b[0;31m             \u001b[0mself\u001b[0m\u001b[0;34m.\u001b[0m\u001b[0m_is_document\u001b[0m \u001b[0;32mand\u001b[0m\u001b[0;34m\u001b[0m\u001b[0m\n\u001b[0m\u001b[1;32m    170\u001b[0m             \u001b[0;32mnot\u001b[0m \u001b[0mself__created\u001b[0m \u001b[0;32mand\u001b[0m\u001b[0;34m\u001b[0m\u001b[0m\n\u001b[1;32m    171\u001b[0m             \u001b[0mname\u001b[0m \u001b[0;32min\u001b[0m \u001b[0mself\u001b[0m\u001b[0;34m.\u001b[0m\u001b[0m_meta\u001b[0m\u001b[0;34m.\u001b[0m\u001b[0mget\u001b[0m\u001b[0;34m(\u001b[0m\u001b[0;34m'shard_key'\u001b[0m\u001b[0;34m,\u001b[0m \u001b[0mtuple\u001b[0m\u001b[0;34m(\u001b[0m\u001b[0;34m)\u001b[0m\u001b[0;34m)\u001b[0m \u001b[0;32mand\u001b[0m\u001b[0;34m\u001b[0m\u001b[0m\n",
      "\u001b[0;31mAttributeError\u001b[0m: 'User' object has no attribute '_is_document'"
     ]
    }
   ],
   "source": [
    "# Saving Documents using save()\n",
    "# If document doesn't exist, it will be created in the database.\n",
    "user = User(email=\"connect@derrickmwiti.com\", \n",
    "            first_name=\"Derrick\", \n",
    "            last_name=\"Mwiti\")\n",
    "user.save()"
   ]
  },
  {
   "cell_type": "code",
   "execution_count": 46,
   "metadata": {},
   "outputs": [
    {
     "ename": "NameError",
     "evalue": "name 'user' is not defined",
     "output_type": "error",
     "traceback": [
      "\u001b[0;31m---------------------------------------------------------------------------\u001b[0m",
      "\u001b[0;31mNameError\u001b[0m                                 Traceback (most recent call last)",
      "\u001b[0;32m<ipython-input-46-4d0412973825>\u001b[0m in \u001b[0;36m<module>\u001b[0;34m()\u001b[0m\n\u001b[1;32m      1\u001b[0m \u001b[0;31m# Accessing what we just created.\u001b[0m\u001b[0;34m\u001b[0m\u001b[0;34m\u001b[0m\u001b[0m\n\u001b[0;32m----> 2\u001b[0;31m \u001b[0mprint\u001b[0m\u001b[0;34m(\u001b[0m\u001b[0muser\u001b[0m\u001b[0;34m.\u001b[0m\u001b[0mid\u001b[0m\u001b[0;34m,\u001b[0m \u001b[0muser\u001b[0m\u001b[0;34m.\u001b[0m\u001b[0memail\u001b[0m\u001b[0;34m,\u001b[0m \u001b[0muser\u001b[0m\u001b[0;34m.\u001b[0m\u001b[0mfirst_name\u001b[0m\u001b[0;34m,\u001b[0m \u001b[0muser\u001b[0m\u001b[0;34m.\u001b[0m\u001b[0mlast_name\u001b[0m\u001b[0;34m)\u001b[0m\u001b[0;34m\u001b[0m\u001b[0m\n\u001b[0m",
      "\u001b[0;31mNameError\u001b[0m: name 'user' is not defined"
     ]
    }
   ],
   "source": [
    "# Accessing what we just created.\n",
    "print(user.id, user.email, user.first_name, user.last_name)"
   ]
  },
  {
   "cell_type": "markdown",
   "metadata": {},
   "source": [
    "# More resources for MongoDB methods\n",
    "- [PyMongo](http://api.mongodb.com/python/current/#about-this-documentation)\n",
    "- [MongoDB](https://docs.mongodb.com/)\n",
    "- [MongoEngine](http://mongoengine.org/)"
   ]
  }
 ],
 "metadata": {
  "kernelspec": {
   "display_name": "Python 3",
   "language": "python",
   "name": "python3"
  },
  "language_info": {
   "codemirror_mode": {
    "name": "ipython",
    "version": 3
   },
   "file_extension": ".py",
   "mimetype": "text/x-python",
   "name": "python",
   "nbconvert_exporter": "python",
   "pygments_lexer": "ipython3",
   "version": "3.6.6"
  }
 },
 "nbformat": 4,
 "nbformat_minor": 2
}
