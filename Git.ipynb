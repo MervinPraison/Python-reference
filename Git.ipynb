{
 "cells": [
  {
   "cell_type": "markdown",
   "metadata": {},
   "source": [
    "# Git version control"
   ]
  },
  {
   "cell_type": "markdown",
   "metadata": {},
   "source": [
    "repository = files and directories"
   ]
  },
  {
   "cell_type": "markdown",
   "metadata": {},
   "source": [
    "Git stores all of its extra information in a directory called .git located in the root directory of the repository. Git expects this information to be laid out in a very precise way, so you should never edit or delete anything in .git."
   ]
  },
  {
   "cell_type": "markdown",
   "metadata": {},
   "source": [
    "Example:\n",
    "home directory: /home/repl \n",
    "contains a repository: dental\n",
    "which has a sub-directory: data\n",
    "\n",
    "Where is information about the history of the files in /home/repl/dental/data stored? The root directory.\n",
    "/home/repl/dental/.git"
   ]
  },
  {
   "cell_type": "markdown",
   "metadata": {},
   "source": [
    "# git status\n",
    "- check status of repository (repo)\n",
    "- shows which files are changed since last save\n",
    "- shows what files are in staging area before permanently committed"
   ]
  },
  {
   "cell_type": "markdown",
   "metadata": {},
   "source": [
    "# git diff filename\n",
    "- compare file current vs saved"
   ]
  },
  {
   "cell_type": "markdown",
   "metadata": {},
   "source": [
    "# git diff\n",
    "- without any filenames will show you all the changes in your repository"
   ]
  },
  {
   "cell_type": "markdown",
   "metadata": {},
   "source": [
    "# git diff directory\n",
    "- show you the changes to the files in some directory"
   ]
  },
  {
   "cell_type": "markdown",
   "metadata": {},
   "source": [
    "# What is diff?\n",
    "A diff is a formatted display of the differences between two sets of files. Git displays diffs like this:\n",
    "\n",
    "diff --git a/report.txt b/report.txt\n",
    "index e713b17..4c0742a 100644\n",
    "--- a/report.txt\n",
    "+++ b/report.txt\n",
    "@@ -1,4 +1,4 @@\n",
    "-# Seasonal Dental Surgeries 2017-18\n",
    "+# Seasonal Dental Surgeries (2017) 2017-18\n",
    "\n",
    " TODO: write executive summary.\n",
    " \n",
    " \n",
    "This shows:\n",
    "\n",
    "The command used to produce the output (in this case, diff --git). In it, a and b are placeholders meaning \"the first version\" and \"the second version\".\n",
    "An index line showing keys into Git's internal database of changes. We will explore these in the next chapter.\n",
    "--- a/report.txt and +++ b/report.txt, which indicate that lines being removed are prefixed with -, while lines being added are prefixed with +.\n",
    "A line starting with @@ that tells where the changes are being made. Here, the line shows that lines 1-4 are being removed and replaced with new lines.\n",
    "A line-by-line listing of the changes with - showing deletions and + showing additions. (We have also configured Git to show deletions in red and additions in green.) Lines that haven't changed are sometimes shown before and after the ones that have in order to give context; when they appear, they don't have either + or - in front of them.\n",
    "Desktop programming tools like RStudio can turn diffs like this into a more readable side-by-side display of changes; you can also use standalone tools like DiffMerge or WinMerge."
   ]
  },
  {
   "cell_type": "markdown",
   "metadata": {},
   "source": [
    "# How to commit changes...\n",
    "commit changes to a Git repository in two steps:\n",
    "1. Add one or more files to the staging area.\n",
    "## git add filename\n",
    "## git diff -r HEAD data/northern.csv\n",
    "View changes in file that's staged\n",
    "2. Commit everything in the staging area.\n",
    "## git commit\n",
    "3. Enter a log message\n",
    "## git commit -m \"Program appears to have become self-aware.\"\n"
   ]
  },
  {
   "cell_type": "markdown",
   "metadata": {},
   "source": [
    "# git diff -r HEAD path/to/file\n",
    "- compare a file's current state to the changes in the staging area\n",
    "- r flag means \"compare to a particular revision\"\n",
    "- HEAD is a shortcut meaning \"the most recent commit\"\n",
    "- the path to the file is the relative to where you are (for example, the path from the root directory of the repository)\n",
    "\n",
    "example: git diff -r HEAD data/northern.csv"
   ]
  },
  {
   "cell_type": "markdown",
   "metadata": {},
   "source": [
    "# Edit a file\n",
    "## nano filename\n",
    "- it will open filename for editing (or create it if it doesn't already exist)\n",
    "- arrow keys - move around\n",
    "- backspace - delete characters\n",
    "- Ctrl-K: delete a line.\n",
    "- Ctrl-U: un-delete a line.\n",
    "- Ctrl-O: save the file ('O' stands for 'output').\n",
    "- Ctrl-X: exit the editor.\n",
    "Example: write some lines, Ctrl-O, Enter, Ctrl-X, Enter"
   ]
  },
  {
   "cell_type": "markdown",
   "metadata": {},
   "source": [
    "# View a repo history\n",
    "## git log\n",
    "example:\n",
    "commit 0430705487381195993bac9c21512ccfb511056d\n",
    "Author: Rep Loop <repl@datacamp.com>\n",
    "Date:   Wed Sep 20 13:42:26 2017 +0000\n",
    "\n",
    "    Added year to report title.\n",
    "\n",
    "- The commit line ID is a 'hash'.\n",
    "- Press the space bar to go down a page or the 'q' key to quit.\n",
    "- First entry will be at the bottom. Don't forget to get to the bottom with the space bar.\n",
    "\n",
    "Keys to make a good log message.\n",
    "- "
   ]
  },
  {
   "cell_type": "markdown",
   "metadata": {},
   "source": [
    "# View a specific file's history\n",
    "## git log path\n",
    "example: git log data/southern.csv\n"
   ]
  },
  {
   "cell_type": "markdown",
   "metadata": {},
   "source": [
    "# View a specific commit\n",
    "## git show"
   ]
  },
  {
   "cell_type": "code",
   "execution_count": null,
   "metadata": {},
   "outputs": [],
   "source": [
    "# example\n",
    "git show 043070\n"
   ]
  },
  {
   "cell_type": "markdown",
   "metadata": {},
   "source": [
    "commit 0430705487381195993bac9c21512ccfb511056d\n",
    "Author: Rep Loop <repl@datacamp.com>\n",
    "Date:   Wed Sep 20 13:42:26 2017 +0000\n",
    "\n",
    "    Added year to report title.\n",
    "\n",
    "diff --git a/report.txt b/report.txt\n",
    "index e713b17..4c0742a 100644\n",
    "--- a/report.txt\n",
    "+++ b/report.txt\n",
    "@@ -1,4 +1,4 @@\n",
    "-# Seasonal Dental Surgeries 2017-18\n",
    "+# Seasonal Dental Surgeries (2017) 2017-18\n",
    "\n",
    " TODO: write executive summary.\n",
    " \n",
    " \n",
    " The first part is the same as the log entry shown by git log. The second part shows the changes; as with git diff, lines that the change removed are prefixed with -, while lines that it added are prefixed with +."
   ]
  },
  {
   "cell_type": "markdown",
   "metadata": {},
   "source": [
    "# Git's relative path\n",
    "## HEAD~1\n",
    "HEAD, which we saw in the previous chapter, always refers to the most recent commit. The label HEAD~1 then refers to the commit before it, while HEAD~2 refers to the commit before that, and so on.\n"
   ]
  },
  {
   "cell_type": "code",
   "execution_count": null,
   "metadata": {},
   "outputs": [],
   "source": [
    "git diff -r HEAD data/northern.csv"
   ]
  },
  {
   "cell_type": "code",
   "execution_count": null,
   "metadata": {},
   "outputs": [],
   "source": []
  },
  {
   "cell_type": "code",
   "execution_count": null,
   "metadata": {},
   "outputs": [],
   "source": []
  },
  {
   "cell_type": "code",
   "execution_count": null,
   "metadata": {},
   "outputs": [],
   "source": []
  },
  {
   "cell_type": "code",
   "execution_count": null,
   "metadata": {},
   "outputs": [],
   "source": []
  }
 ],
 "metadata": {
  "kernelspec": {
   "display_name": "Python 3",
   "language": "python",
   "name": "python3"
  },
  "language_info": {
   "codemirror_mode": {
    "name": "ipython",
    "version": 3
   },
   "file_extension": ".py",
   "mimetype": "text/x-python",
   "name": "python",
   "nbconvert_exporter": "python",
   "pygments_lexer": "ipython3",
   "version": "3.6.4"
  }
 },
 "nbformat": 4,
 "nbformat_minor": 2
}
