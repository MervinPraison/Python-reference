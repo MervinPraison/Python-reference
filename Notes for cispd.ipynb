{
 "cells": [
  {
   "cell_type": "markdown",
   "metadata": {},
   "source": [
    "# Start/Stop timestamp table construction"
   ]
  },
  {
   "cell_type": "code",
   "execution_count": null,
   "metadata": {},
   "outputs": [],
   "source": [
    "# import all sheets in excel file\n",
    "df = pd.read_excel(filename, sheets=None)\n"
   ]
  },
  {
   "cell_type": "code",
   "execution_count": null,
   "metadata": {},
   "outputs": [],
   "source": [
    "print(xl.keys())\n",
    "\n",
    "# Print the head of the first sheet (using its name, NOT its index)\n",
    "print(xl['1900'].head())"
   ]
  },
  {
   "cell_type": "markdown",
   "metadata": {},
   "source": [
    "# Use this..."
   ]
  },
  {
   "cell_type": "code",
   "execution_count": null,
   "metadata": {},
   "outputs": [],
   "source": [
    "filename = \n",
    "xl = pd.read_excel(filename, sheets=None)"
   ]
  },
  {
   "cell_type": "code",
   "execution_count": null,
   "metadata": {},
   "outputs": [],
   "source": [
    "print(xl.keys())"
   ]
  },
  {
   "cell_type": "code",
   "execution_count": null,
   "metadata": {},
   "outputs": [],
   "source": [
    "empty dataframe or use series or list?\n",
    "startlist = []\n",
    "stoplist = []\n",
    "\n",
    "# loop through keys which is each sheet, extract first and last timestamp\n",
    "for k in xl.keys:\n",
    "    # is the value a dataframe?\n",
    "    # if so...\n",
    "    start = k.timestamps[0]\n",
    "    stop = k.timestamps[-1]\n",
    "    startlist.append(start)\n",
    "    stoplist.append(start)\n",
    "    "
   ]
  },
  {
   "cell_type": "code",
   "execution_count": null,
   "metadata": {},
   "outputs": [],
   "source": [
    "# check # rows of df to check against for start and stop lists\n",
    "df.shape()\n",
    "\n",
    "# check dimensions of startlist and stoplist\n",
    "print('length of startlist: %f' %len(startlist) \\n)\n",
    "print('length of stoplist: %f' %len(stoplist) \\n)"
   ]
  },
  {
   "cell_type": "code",
   "execution_count": null,
   "metadata": {},
   "outputs": [],
   "source": [
    "# add start and stop lists as columns to final dataframe\n"
   ]
  },
  {
   "cell_type": "markdown",
   "metadata": {},
   "source": [
    "# Manipulate strings\n",
    "- refer to past cispd code"
   ]
  },
  {
   "cell_type": "markdown",
   "metadata": {},
   "source": [
    "# Figure walking down nested folders and extracting names"
   ]
  },
  {
   "cell_type": "code",
   "execution_count": 1,
   "metadata": {
    "ExecuteTime": {
     "end_time": "2018-09-26T01:39:18.216303Z",
     "start_time": "2018-09-26T01:39:18.195888Z"
    }
   },
   "outputs": [],
   "source": [
    "import os"
   ]
  },
  {
   "cell_type": "code",
   "execution_count": 19,
   "metadata": {
    "ExecuteTime": {
     "end_time": "2018-09-26T02:03:59.546850Z",
     "start_time": "2018-09-26T02:03:59.544602Z"
    }
   },
   "outputs": [],
   "source": [
    "# path = r'//FS2.smpp.local\\RTO\\CIS-PD Study\\MJFF Curation\\TaskAcc'\n",
    "path = '/Users/joe/Desktop/main'"
   ]
  },
  {
   "cell_type": "code",
   "execution_count": 40,
   "metadata": {
    "ExecuteTime": {
     "end_time": "2018-09-26T02:14:02.341743Z",
     "start_time": "2018-09-26T02:14:02.324797Z"
    },
    "code_folding": []
   },
   "outputs": [
    {
     "name": "stdout",
     "output_type": "stream",
     "text": [
      "./Desktop/folder/1004\n",
      "./Desktop/folder/1004/leg\n",
      "./Desktop/folder/1004/arm\n",
      "./Desktop/folder/1004/leg/wxyz789\n",
      "./Desktop/folder/1004/leg/abcd456\n",
      "./Desktop/folder/1004/arm/wxyz456\n",
      "./Desktop/folder/1004/arm/abcd123\n"
     ]
    }
   ],
   "source": [
    "path = './Desktop/folder'\n",
    "\n",
    "# df = pd.DataFrame(columns = 'subjid')\n",
    "# series = pd.Series()\n",
    "list = []\n",
    "\n",
    "for root, dirs, files in os.walk(path, topdown=True):\n",
    "#     print(dirs)\n",
    "   for name in dirs:\n",
    "      print(os.path.join(root, name))\n",
    "    \n",
    "#     for name in dirs:\n",
    "#         print(dirs)\n",
    "#     for filenames in files:\n",
    "#         if filenames.endswith('.csv'):\n",
    "#             p = pathlib.Path(os.path.join(root, filenames))\n",
    "#             name = str(p.relative_to(path)).split(\"\\\\\")[0]\n",
    "# #             series = series.append(name)\n",
    "#             list.append([name])\n",
    "\n",
    "# check session name\n",
    "#colnames = ['subjid', 'session', 'activity']\n",
    "# list\n",
    "#df = pd.DataFrame(np.column_stack([list, list, list]),columns=colnames)\n",
    "# df = pd.DataFrame({'subjid':list, 'session':list, 'activity':list})\n",
    "\n",
    "# use list (has file names), open file and extract start and stop timestamps\n",
    "# make 2 columns and add to df"
   ]
  },
  {
   "cell_type": "code",
   "execution_count": 28,
   "metadata": {
    "ExecuteTime": {
     "end_time": "2018-09-26T02:09:51.320094Z",
     "start_time": "2018-09-26T02:09:51.317031Z"
    }
   },
   "outputs": [],
   "source": [
    "rootDir = './Desktop/main'\n",
    "for dirName, subdirList, fileList in os.walk(rootDir):\n",
    "    print('Found directory: %s' % dirName)"
   ]
  },
  {
   "cell_type": "code",
   "execution_count": 47,
   "metadata": {
    "ExecuteTime": {
     "end_time": "2018-09-26T02:18:39.059538Z",
     "start_time": "2018-09-26T02:18:39.056777Z"
    }
   },
   "outputs": [],
   "source": [
    "subfolders = [f.path for f in os.scandir(path) if f.is_dir() ]    "
   ]
  },
  {
   "cell_type": "code",
   "execution_count": 48,
   "metadata": {
    "ExecuteTime": {
     "end_time": "2018-09-26T02:18:41.470985Z",
     "start_time": "2018-09-26T02:18:41.467297Z"
    }
   },
   "outputs": [
    {
     "data": {
      "text/plain": [
       "['./Desktop/folder/1004']"
      ]
     },
     "execution_count": 48,
     "metadata": {},
     "output_type": "execute_result"
    }
   ],
   "source": [
    "subfolders"
   ]
  },
  {
   "cell_type": "code",
   "execution_count": 49,
   "metadata": {
    "ExecuteTime": {
     "end_time": "2018-09-26T02:19:45.767231Z",
     "start_time": "2018-09-26T02:19:45.763280Z"
    }
   },
   "outputs": [
    {
     "data": {
      "text/plain": [
       "['1004', '.DS_Store']"
      ]
     },
     "execution_count": 49,
     "metadata": {},
     "output_type": "execute_result"
    }
   ],
   "source": []
  },
  {
   "cell_type": "code",
   "execution_count": null,
   "metadata": {},
   "outputs": [],
   "source": []
  },
  {
   "cell_type": "code",
   "execution_count": null,
   "metadata": {},
   "outputs": [],
   "source": []
  }
 ],
 "metadata": {
  "kernelspec": {
   "display_name": "Python 3",
   "language": "python",
   "name": "python3"
  },
  "language_info": {
   "codemirror_mode": {
    "name": "ipython",
    "version": 3
   },
   "file_extension": ".py",
   "mimetype": "text/x-python",
   "name": "python",
   "nbconvert_exporter": "python",
   "pygments_lexer": "ipython3",
   "version": "3.6.6"
  }
 },
 "nbformat": 4,
 "nbformat_minor": 2
}
