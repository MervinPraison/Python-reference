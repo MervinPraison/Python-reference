{
 "cells": [
  {
   "cell_type": "code",
   "execution_count": null,
   "metadata": {
    "ExecuteTime": {
     "end_time": "2021-11-03T03:14:46.837548Z",
     "start_time": "2021-11-03T03:14:46.834122Z"
    }
   },
   "outputs": [],
   "source": [
    "SELECT COUNT(DISTINCT field)\n",
    "FROM table\n",
    "WHERE title = 'Metro'\n",
    "    AND year = 2015\n",
    "    AND birthdate IS NOT NULL # NULL\n",
    "    AND name LIKE 'B%'; # NOT LIKE\n",
    "LIMIT 10;"
   ]
  },
  {
   "cell_type": "code",
   "execution_count": null,
   "metadata": {},
   "outputs": [],
   "source": [
    "# BETWEEN _ AND _\n",
    "SELECT title\n",
    "FROM films\n",
    "WHERE release_year\n",
    "BETWEEN 1994 AND 2000;"
   ]
  },
  {
   "cell_type": "code",
   "execution_count": null,
   "metadata": {},
   "outputs": [],
   "source": [
    "# WHERE _ IN ()\n",
    "SELECT name\n",
    "FROM kids\n",
    "WHERE age IN (2, 4, 6, 8, 10);"
   ]
  },
  {
   "cell_type": "code",
   "execution_count": null,
   "metadata": {},
   "outputs": [],
   "source": [
    "# aggregate functions\n",
    "SELECT AVG(budget),\n",
    "    MAX(budget),\n",
    "    SUM(budget),\n",
    "    MIN(budget)\n",
    "FROM films;"
   ]
  },
  {
   "cell_type": "code",
   "execution_count": null,
   "metadata": {},
   "outputs": [],
   "source": [
    "# arithmetic\n",
    "SELECT (4 * 3);\n",
    "# 12\n",
    "\n",
    "# note division of integers, returns same type of integers\n",
    "SELECT (4 / 3);\n",
    "# 1\n",
    "\n",
    "SELECT (4.0 / 3.0) AS result; # float type for division else rounded int\n",
    "# 1.333"
   ]
  },
  {
   "cell_type": "code",
   "execution_count": null,
   "metadata": {},
   "outputs": [],
   "source": [
    "# comment\n",
    "-- some text\n",
    "/* some lines of text */"
   ]
  },
  {
   "cell_type": "code",
   "execution_count": null,
   "metadata": {},
   "outputs": [],
   "source": [
    "# ORDER BY with DESC example\n",
    "SELECT title\n",
    "FROM films\n",
    "ORDER BY release_year, title DESC;"
   ]
  },
  {
   "cell_type": "code",
   "execution_count": null,
   "metadata": {},
   "outputs": [],
   "source": [
    "# GROUP BY\n",
    "SELECT sex, COUNT(*)\n",
    "FROM employees\n",
    "GROUP BY sex\n",
    "ORDER BY count DESC;"
   ]
  },
  {
   "cell_type": "code",
   "execution_count": null,
   "metadata": {},
   "outputs": [],
   "source": [
    "# HAVING - option for aggregate condition since WHERE clause can't do\n",
    "# shows only those years in which more than 10 films were released\n",
    "SELECT release_year\n",
    "FROM films\n",
    "GROUP BY release_year\n",
    "HAVING COUNT(title) > 10;"
   ]
  },
  {
   "cell_type": "code",
   "execution_count": null,
   "metadata": {},
   "outputs": [],
   "source": [
    "# Ex - ORDER BY, GROUP BY, HAVING\n",
    "SELECT release_year, AVG(budget) AS avg_budget, AVG(gross) AS avg_gross\n",
    "FROM films\n",
    "WHERE release_year > 1990\n",
    "GROUP BY release_year\n",
    "HAVING AVG(budget) > 60000000\n",
    "ORDER BY (avg_gross) DESC;"
   ]
  },
  {
   "cell_type": "code",
   "execution_count": null,
   "metadata": {},
   "outputs": [],
   "source": [
    "# JOIN\n",
    "SELECT \tname\n",
    "FROM hit_tracks AS t\n",
    "INNER JOIN features AS f\n",
    "ON \n",
    "t.id = f.song_id\n",
    " AND \n",
    "t.dance = f.dance_level\n",
    "ORDER BY name\n",
    "LIMIT 5;\n",
    "\n",
    "# JOIN via USING(same_col_name)\n",
    "-- Select fields\n",
    "SELECT c.name AS country, c.continent, l.name AS language, l.official\n",
    "  -- From countries (alias as c)\n",
    "  FROM countries AS c\n",
    "  -- Join to languages (as l)\n",
    "  INNER JOIN languages as l\n",
    "    -- Match using code\n",
    "    USING (code);"
   ]
  },
  {
   "cell_type": "code",
   "execution_count": null,
   "metadata": {},
   "outputs": [],
   "source": [
    "# INTO - create a table in the query\n",
    "SELECT country_code, size,\n",
    "    CASE WHEN size > 50000000 THEN 'large'\n",
    "        WHEN size > 1000000 THEN 'medium'\n",
    "        ELSE 'small' END\n",
    "        AS popsize_group\n",
    "-- Into table\n",
    "INTO pop_plus\n",
    "FROM populations\n",
    "WHERE year = 2015;\n",
    "\n",
    "# display results of new table\n",
    "-- Select all columns of pop_plus\n",
    "SELECT *\n",
    "FROM pop_plus;"
   ]
  },
  {
   "cell_type": "code",
   "execution_count": null,
   "metadata": {},
   "outputs": [],
   "source": [
    "# CASE WHEN THEN ELSE END AS - create categorical variables\n",
    "SELECT \n",
    "    CASE WHEN hometeam_id = 10189 THEN 'FC Schalke 04'\n",
    "         WHEN hometeam_id = 9823 THEN 'FC Bayern Munich'\n",
    "         ELSE 'Other' END AS home_team,\n",
    "    COUNT(id) AS total_matches\n",
    "FROM matches_germany\n",
    "-- Group by the CASE statement alias\n",
    "GROUP BY home_team;"
   ]
  },
  {
   "cell_type": "code",
   "execution_count": null,
   "metadata": {},
   "outputs": [],
   "source": [
    "# CASE WHEN - comparing column values\n",
    "SELECT \n",
    "    m.date,\n",
    "    t.team_long_name AS opponent,\n",
    "    -- Complete the CASE statement with an alias\n",
    "    CASE WHEN m.home_goal > m.away_goal THEN 'Barcelona win!'\n",
    "        WHEN m.home_goal < m.away_goal THEN 'Barcelona loss :('\n",
    "        ELSE 'Tie' END AS outcome \n",
    "FROM matches_spain AS m\n",
    "LEFT JOIN teams_spain AS t \n",
    "ON m.awayteam_id = t.team_api_id\n",
    "-- Filter for Barcelona as the home team\n",
    "WHERE m.hometeam_id = 8634; \n",
    "\n",
    "\n",
    "SELECT date, hometeam_id, awayteam_id,\n",
    "    CASE WHEN hometeam_id = 8455 AND home_goal > away_goal\n",
    "            THEN 'Chelsea home win!'\n",
    "         WHEN awayteam_id = 8455 AND home_goal < away_goal\n",
    "            THEN 'Chelsea away win!'\n",
    "         ELSE 'Loss or tie :(' END AS outcome\n",
    "FROM match\n",
    "# use CASE and END IS NOT NULL\n",
    "WHERE CASE WHEN hometeam_id = 8455 AND home_goal > away_goal\n",
    "            THEN 'Chelsea home win!'\n",
    "         WHEN awayteam_id = 8455 AND home_goal < away_goal\n",
    "            THEN 'Chelsea away win!'\n",
    "         ELSE 'Loss or tie :(' END IS NOT NULL;"
   ]
  },
  {
   "cell_type": "code",
   "execution_count": null,
   "metadata": {},
   "outputs": [],
   "source": [
    "# CASE WHEN with aggregate fxn\n",
    "# note ELSE is assumed NULL\n",
    "SELECT\n",
    "    season,\n",
    "    SUM(CASE WHEN hometeam_id = 8650\n",
    "               THEN home_goal END) AS home_goals,\n",
    "    SUM(CASE WHEN awayteam_id = 8650\n",
    "               THEN away_goal END) AS away_goals\n",
    "FROM match\n",
    "GROUP BY season;\n",
    "\n",
    "# example - sum logical values, need to convert to bool\n",
    "SELECT \n",
    "    c.name AS country,\n",
    "    -- Sum the total records in each season where the home team won\n",
    "    SUM(CASE WHEN m.season = '2012/2013' AND m.home_goal > m.away_goal \n",
    "        THEN 1 ELSE 0 END) AS matches_2012_2013,\n",
    "     SUM(CASE WHEN m.season = '2013/2014' AND m.home_goal > m.away_goal \n",
    "        THEN 1 ELSE 0 END) AS matches_2013_2014,\n",
    "    SUM(CASE WHEN m.season = '2014/2015' AND m.home_goal > m.away_goal THEN 1 ELSE 0 END) AS matches_2014_2015\n",
    "FROM country AS c\n",
    "LEFT JOIN match AS m\n",
    "ON c.id = m.country_id\n",
    "-- Group by country name alias\n",
    "GROUP BY country;"
   ]
  },
  {
   "cell_type": "code",
   "execution_count": null,
   "metadata": {},
   "outputs": [],
   "source": [
    "# ROUND(..., 2) AS alias\n",
    "SELECT\n",
    "    season,\n",
    "    ROUND(AVG(CASE WHEN hometeam_id = 8650\n",
    "               THEN home_goal END),2) AS home_goals,\n",
    "    ROUND(AVG(CASE WHEN awayteam_id = 8650\n",
    "               THEN away_goal END),2) AS away_goals\n",
    "FROM match\n",
    "GROUP BY season;"
   ]
  },
  {
   "cell_type": "code",
   "execution_count": null,
   "metadata": {},
   "outputs": [],
   "source": [
    "# Calculate percentages with CASE and AVG using boolean values\n",
    "SELECT\n",
    "    season,\n",
    "    AVG(CASE WHEN hometeam_id = 8455 AND home_goal > away_goal THEN 1\n",
    "             WHEN hometeam_id = 8455 AND home_goal < away_goal THEN 0\n",
    "             END) AS pct_homewins,\n",
    "    AVG(CASE WHEN awayteam_id = 8455 AND away_goal > home_goal THEN 1\n",
    "             WHEN awayteam_id = 8455 AND away_goal < home_goal THEN 0\n",
    "             END) AS pct_awaywins,\n",
    "FROM match\n",
    "GROUP BY season;"
   ]
  },
  {
   "cell_type": "code",
   "execution_count": null,
   "metadata": {},
   "outputs": [],
   "source": [
    "# subqueries\n",
    "# *** remember to match filter for each subquery and query on WHERE\n",
    "SELECT\n",
    "    team_long_name,\n",
    "    team_short_name AS abbr\n",
    "FROM team\n",
    "WHERE\n",
    "    team_api_id IN\n",
    "    (SELECT hometeam_id\n",
    "     FROM match\n",
    "     WHERE country_id = 15722);\n",
    "    \n",
    "# in FROM - transform data\n",
    "SELECT team, home_avg\n",
    "FROM (SELECT\n",
    "         t.team_long_name AS team,\n",
    "         AVG(m.home_goal) AS home_avg\n",
    "      FROM match AS m\n",
    "      LEFT JOIN team AS t\n",
    "      ON m.hometeam_id = t.team_api_id\n",
    "      WHERE season = '2011/2012'\n",
    "      GROUP BY team) AS subquery\n",
    "ORDER BY home_avg DESC\n",
    "LIMIT 3;\n",
    "\n",
    "# in SELECT - single value or aggregate\n",
    "SELECT\n",
    "    date,\n",
    "    (home_goal + away_goal) AS goals,\n",
    "    (home_goal + away_goal) - \n",
    "        (SELECT AVG(home_goal + away_goal)\n",
    "         FROM match\n",
    "         WHERE season = '2011/2012') AS diff\n",
    "FROM match\n",
    "WHERE season = '2011/2012';\n",
    "\n",
    "# DON\"T FORGET! match the filter in WHERE\n",
    "# subquery in FROM and WHERE\n",
    "SELECT \n",
    "    -- Select the stage and average goals from the subquery\n",
    "    s.stage,\n",
    "    ROUND(s.avg_goals,2) AS avg_goals\n",
    "FROM \n",
    "    -- Select the stage and average goals in 2012/2013\n",
    "    (SELECT\n",
    "         stage,\n",
    "         AVG(home_goal + away_goal) AS avg_goals\n",
    "    FROM match\n",
    "    WHERE season = '2012/2013'\n",
    "    GROUP BY stage) AS s\n",
    "WHERE \n",
    "    -- Filter the main query using the subquery\n",
    "    s.avg_goals > (SELECT AVG(home_goal + away_goal) \n",
    "                    FROM match WHERE season = '2012/2013');"
   ]
  },
  {
   "cell_type": "code",
   "execution_count": null,
   "metadata": {},
   "outputs": [],
   "source": [
    "# correlated subquery - uses values from outer query to generate result\n",
    "SELECT\n",
    "    c.name AS country\n",
    "    (SELECT\n",
    "        AVG(home_goal + away_goal)\n",
    "     FROM match AS m\n",
    "     # correlated part\n",
    "     WHERE m.country_id = c.id)\n",
    "        AS avg_goals\n",
    "FROM country AS c\n",
    "GROUP BY country;\n",
    "\n",
    "SELECT \n",
    "\t-- Select country ID, date, home, and away goals from match\n",
    "\tmain.country_id,\n",
    "    main.date,\n",
    "    main.home_goal,\n",
    "    main.away_goal\n",
    "FROM match AS main\n",
    "WHERE \n",
    "\t-- Filter for matches with the highest number of goals scored\n",
    "    -- total goals = max goals\n",
    "\t(home_goal + away_goal) = \n",
    "        (SELECT MAX(sub.home_goal + sub.away_goal)\n",
    "         FROM match AS sub\n",
    "         WHERE main.country_id = sub.country_id\n",
    "               AND main.season = sub.season);"
   ]
  },
  {
   "cell_type": "code",
   "execution_count": null,
   "metadata": {},
   "outputs": [],
   "source": [
    "# nested subquery - can be correlated or uncorrelated or both\n",
    "SELECT\n",
    "    EXTRACT(MONTH FROM date) AS MONTH\n",
    "    SUM(m.home_goal + m.away_goal) AS total_goals,\n",
    "    SUM(m.home_goal + m.away_goal) -\n",
    "    (SELECT AVG(goals)\n",
    "     FROM (SELECT\n",
    "              EXTRACT(MONTH FROM date) AS month,\n",
    "           FROM match\n",
    "           GROUP BY month) AS s) AS diff\n",
    "FROM match AS m\n",
    "GROUP BY month;"
   ]
  },
  {
   "cell_type": "code",
   "execution_count": null,
   "metadata": {},
   "outputs": [],
   "source": [
    "# CTE = Common Table Expressions\n",
    "'''\n",
    "WITH cte_name AS(\n",
    "    SELECT ...\n",
    "    FROM ...\n",
    "    WHERE ...\n",
    "),\n",
    "-- New subquery\n",
    "cte_name2()\n",
    "\n",
    "QUERY...\n",
    "SELECT\n",
    "FROM\n",
    "INNER JOIN cte_name\n",
    "ON \n",
    "INNER JOIN cte_name2\n",
    "ON \n",
    "GROUP BY\n",
    "'''\n",
    "\n",
    "-- Set up your CTE\n",
    "WITH match_list AS (\n",
    "  -- Select the league, date, home, and away goals\n",
    "    SELECT \n",
    "        l.name AS league, \n",
    "        m.date, \n",
    "        m.home_goal, \n",
    "        m.away_goal,\n",
    "       (m.home_goal + m.away_goal) AS total_goals\n",
    "    FROM match AS m\n",
    "    LEFT JOIN league as l ON m.country_id = l.id)\n",
    "-- Select the league, date, home, and away goals from the CTE\n",
    "SELECT league, date, home_goal, away_goal\n",
    "FROM match_list\n",
    "-- Filter by total goals\n",
    "WHERE total_goals >= 10;"
   ]
  },
  {
   "cell_type": "code",
   "execution_count": null,
   "metadata": {},
   "outputs": [],
   "source": [
    "# window functions - OVER clause (think like create an AVG column)\n",
    "SELECT \n",
    "    -- Select the id, country name, season, home, and away goals\n",
    "    m.id, \n",
    "    c.name AS country, \n",
    "    m.season,\n",
    "    m.home_goal,\n",
    "    m.away_goal,\n",
    "    -- Use a window to include the aggregate average in each row\n",
    "    AVG(m.home_goal + m.away_goal) OVER() AS overall_avg\n",
    "FROM match AS m\n",
    "LEFT JOIN country AS c ON m.country_id = c.id;"
   ]
  },
  {
   "cell_type": "code",
   "execution_count": null,
   "metadata": {},
   "outputs": [],
   "source": [
    "# RANK - default ascending (smallest to largest value)\n",
    "# DESC rank\n",
    "SELECT\n",
    "    date\n",
    "    (home_goal + away_goal) AS goals,\n",
    "    RANK() OVER(ORDER BY home_goal + away_goal DESC) AS goals_rank\n",
    "FROM match\n",
    "WHERE season = '2011/2012';"
   ]
  },
  {
   "cell_type": "code",
   "execution_count": null,
   "metadata": {},
   "outputs": [],
   "source": [
    "# window partitions - separate values for different categories\n",
    "# ie. avg goals by season and by country\n",
    "SELECT\n",
    "    date,\n",
    "    season,\n",
    "    home_goal,\n",
    "    away_goal,\n",
    "    CASE WHEN hometeam_id = 8673 THEN 'home' \n",
    "        ELSE 'away' END AS warsaw_location,\n",
    "    -- Calculate the average goals scored partitioned by season\n",
    "    AVG(home_goal) OVER(PARTITION BY season) AS season_homeavg,\n",
    "    AVG(away_goal) OVER(PARTITION BY season) AS season_awayavg\n",
    "FROM match\n",
    "-- Filter the data set for Legia Warszawa matches only\n",
    "WHERE \n",
    "    hometeam_id = 8673 \n",
    "    OR awayteam_id = 8673\n",
    "ORDER BY (home_goal + away_goal) DESC;\n",
    "\n",
    "# partition by multiple columns\n",
    "# also EXTRACT(MONTH FROM date)"
   ]
  },
  {
   "cell_type": "code",
   "execution_count": null,
   "metadata": {},
   "outputs": [],
   "source": [
    "# sliding windows - think running totals\n",
    "'''\n",
    "Syntax\n",
    "- some calculation like\n",
    "    - `SUM(data) OVER(ORDER BY ROWS...) AS alias\n",
    "- `ROWS BETWEEN <start> AND <finish> # slice of rows\n",
    "- keywords for start and finish parameters\n",
    "    - `PRECEDING` # rows before current row\n",
    "        - ie. `1 PRECEDING` # 1 row before\n",
    "    - `FOLLOWING` # rows after current row\n",
    "    - `UNBOUNDED PRECEDING` # every row since the beginning\n",
    "    - `UNBOUNDED FOLLOWING`\n",
    "    - `CURRENT ROW` # stop at current row\n",
    "'''\n",
    "'''\n",
    "Complete the window function by:\n",
    "Assessing the running total of home goals scored by FC Utrecht.\n",
    "Assessing the running average of home goals scored.\n",
    "Ordering both the running average and running total by date.\n",
    "'''\n",
    "SELECT \n",
    "    date,\n",
    "    home_goal,\n",
    "    away_goal,\n",
    "    -- Create a running total and running average of home goals\n",
    "    SUM(home_goal) OVER(ORDER BY date \n",
    "         ROWS BETWEEN UNBOUNDED PRECEDING AND CURRENT ROW) AS running_total,\n",
    "    AVG(home_goal) OVER(ORDER BY date \n",
    "         ROWS BETWEEN UNBOUNDED PRECEDING AND CURRENT ROW) AS running_avg\n",
    "FROM match\n",
    "WHERE \n",
    "    hometeam_id = 9908 \n",
    "    AND season = '2011/2012';"
   ]
  },
  {
   "cell_type": "code",
   "execution_count": null,
   "metadata": {},
   "outputs": [],
   "source": []
  },
  {
   "cell_type": "code",
   "execution_count": null,
   "metadata": {},
   "outputs": [],
   "source": []
  }
 ],
 "metadata": {
  "kernelspec": {
   "display_name": "Python 3",
   "language": "python",
   "name": "python3"
  },
  "language_info": {
   "codemirror_mode": {
    "name": "ipython",
    "version": 3
   },
   "file_extension": ".py",
   "mimetype": "text/x-python",
   "name": "python",
   "nbconvert_exporter": "python",
   "pygments_lexer": "ipython3",
   "version": "3.7.0"
  },
  "toc": {
   "base_numbering": 1,
   "nav_menu": {},
   "number_sections": true,
   "sideBar": true,
   "skip_h1_title": false,
   "title_cell": "Table of Contents",
   "title_sidebar": "Contents",
   "toc_cell": false,
   "toc_position": {},
   "toc_section_display": true,
   "toc_window_display": false
  },
  "varInspector": {
   "cols": {
    "lenName": 16,
    "lenType": 16,
    "lenVar": 40
   },
   "kernels_config": {
    "python": {
     "delete_cmd_postfix": "",
     "delete_cmd_prefix": "del ",
     "library": "var_list.py",
     "varRefreshCmd": "print(var_dic_list())"
    },
    "r": {
     "delete_cmd_postfix": ") ",
     "delete_cmd_prefix": "rm(",
     "library": "var_list.r",
     "varRefreshCmd": "cat(var_dic_list()) "
    }
   },
   "types_to_exclude": [
    "module",
    "function",
    "builtin_function_or_method",
    "instance",
    "_Feature"
   ],
   "window_display": false
  }
 },
 "nbformat": 4,
 "nbformat_minor": 2
}
