{
 "cells": [
  {
   "cell_type": "markdown",
   "metadata": {},
   "source": [
    "# Introduction to Relational Databases in Python\n",
    "- learn the basics of using SQL with Python\n",
    "- Python SQL toolkit SQLAlchemy provides an accessible and intuitive way to query, build & write to SQLite, MySQL and Postgresql databases (among many others)\n",
    "\n",
    "Outline:\n",
    "1. Basics of Relational Databases\n",
    "2. Applying Filtering, Ordering, and Grouping to Queries\n",
    "3. Advanced SQLAlchemy Queries\n",
    "4. Creating and Manipulating your own Databases\n",
    "5. Project: Putting it all together"
   ]
  },
  {
   "cell_type": "markdown",
   "metadata": {},
   "source": [
    "# 1. Basics of Relational Databases"
   ]
  },
  {
   "cell_type": "markdown",
   "metadata": {},
   "source": [
    "- relational databases are made up of tables\n",
    "- Table consist of columns and rows\n",
    "- Tables can be related (thus \"Relational\" databases)\n"
   ]
  },
  {
   "cell_type": "markdown",
   "metadata": {},
   "source": [
    "SQLAlchemy\n",
    "- 2 main pieces\n",
    "    1. Core (Relational Model focused)\n",
    "    2. ORM (User Data Model focused)\n",
    "\n",
    "Many types of databases - SQLAlchemy can connect to\n",
    "- SQLite\n",
    "- PostgreSQL\n",
    "- MySQL\n",
    "- MS SQL\n",
    "- Oracle\n",
    "- Many more\n",
    "\n",
    "Connecting to a database\n",
    "- Engine - common interface to the db from SQLAlchemy\n",
    "- Connection string: all the details required to find the database (and login if necessary)\n",
    "\n",
    "Note on connection strings\n",
    "- example: 'sqlite:///census_nyc.sqlite'\n",
    "    - Driver+Dialect: sqlite:///\n",
    "    - Filename: census_nyc.sqlite\n",
    "    "
   ]
  },
  {
   "cell_type": "markdown",
   "metadata": {},
   "source": [
    "## 1.1 Connecting to a DB - sqlalchemy"
   ]
  },
  {
   "cell_type": "code",
   "execution_count": null,
   "metadata": {},
   "outputs": [],
   "source": [
    "from sqlalchemy import create_engine\n",
    "engine = create_engine('sqlite:///census_nyc.sqlite')\n",
    "connection = engine.connect()\n"
   ]
  },
  {
   "cell_type": "markdown",
   "metadata": {},
   "source": [
    "## 1.2 What's in the database?\n",
    "- before querying your db, check what's in it\n",
    "    - what the tables are"
   ]
  },
  {
   "cell_type": "code",
   "execution_count": null,
   "metadata": {},
   "outputs": [],
   "source": [
    "from sqlalchemy import create_engine\n",
    "engine = create_engine('sqlite:///census_nyc.sqlite')\n",
    "\n",
    "# check table\n",
    "print(engine.table_names())\n",
    "# ['census', 'state_fact']"
   ]
  },
  {
   "cell_type": "markdown",
   "metadata": {},
   "source": [
    "## 1.3 Reflection\n",
    "- access the table\n",
    "- Reflection reads db and builds SQLAlchemy Table objects"
   ]
  },
  {
   "cell_type": "code",
   "execution_count": null,
   "metadata": {},
   "outputs": [],
   "source": [
    "from sqlalchemy import MetaData, Table\n",
    "metadata = MetaData()\n",
    "census = Table('census', metadata, autoload=True, \n",
    "               autoload_with=engine)\n",
    "\n",
    "# view column names and data types\n",
    "print(repr(census))"
   ]
  },
  {
   "cell_type": "markdown",
   "metadata": {},
   "source": [
    "## 1.4 Examples"
   ]
  },
  {
   "cell_type": "markdown",
   "metadata": {},
   "source": [
    "### 1.4.1 Example: Engines and Connection Strings\n",
    "Alright, it's time to create your first engine! An engine is just a common interface to a database, and the information it requires to connect to one is contained in a connection string, such as sqlite:///census_nyc.sqlite. Here, sqlite is the database driver, while census_nyc.sqlite is a SQLite file contained in the local directory.\n",
    "\n",
    "You can learn a lot more about connection strings in the SQLAlchemy documentation. http://docs.sqlalchemy.org/en/latest/core/engines.html#database-urls\n",
    "\n",
    "Your job in this exercise is to create an engine that connects to a local SQLite file named census.sqlite. Then, print the names of the tables it contains using the .table_names() method. Note that when you just want to print the table names, you do not need to use engine.\n",
    "\n",
    "- Using the create_engine() function, create an engine for a local file named census.sqlite with sqlite as the driver. Be sure to enclose the connection string within quotation marks.\n",
    "- Print the output from the .table_names() method on the engine."
   ]
  },
  {
   "cell_type": "code",
   "execution_count": null,
   "metadata": {},
   "outputs": [],
   "source": [
    "# Import create_engine\n",
    "from sqlalchemy import create_engine\n",
    "\n",
    "# Create an engine that connects to the census.sqlite file: engine\n",
    "engine = create_engine('sqlite:///census.sqlite')\n",
    "\n",
    "# Print table names\n",
    "print(engine.table_names())\n",
    "\n",
    "# output: this database has 2 tables\n",
    "['census', 'state_fact']"
   ]
  },
  {
   "cell_type": "markdown",
   "metadata": {},
   "source": [
    "### 1.4.2 Example: Autoloading Tables from a Database using Reflection\n",
    "SQLAlchemy can be used to automatically load tables from a database using something called reflection. Reflection is the process of reading the database and building the metadata based on that information. It's the opposite of creating a Table by hand and is very useful for working with existing databases. To perform reflection, you need to import the Table object from the SQLAlchemy package. Then, you use this Table object to read your table from the engine and autoload the columns. Using the Table object in this manner is a lot like passing arguments to a function. For example, to autoload the columns with the engine, you have to specify the keyword arguments autoload=True and autoload_with=engine to Table().\n",
    "\n",
    "In this exercise, your job is to reflect the census table available on your engine into a variable called census. The metadata has already been loaded for you using MetaData() and is available in the variable metadata.\n",
    "\n",
    "- Reflect the census table by using the Table object with the arguments:\n",
    "    - The name of the table as a string ('census').\n",
    "    - The metadata, contained in the variable metadata.\n",
    "    - autoload=True\n",
    "    - The engine to autoload with - in this case, engine.\n",
    "- Print the details of census using the repr() function."
   ]
  },
  {
   "cell_type": "code",
   "execution_count": null,
   "metadata": {},
   "outputs": [],
   "source": [
    "# Import Table\n",
    "from sqlalchemy import Table\n",
    "\n",
    "# Reflect census table from the engine: census\n",
    "census = Table('census', metadata, autoload=True, \n",
    "               autoload_with=engine)\n",
    "\n",
    "# Print census table metadata\n",
    "print(repr(census))\n",
    "\n",
    "# output\n",
    "Table('census', MetaData(bind=None), \n",
    "      Column('state', VARCHAR(length=30), table=<census>), \n",
    "      Column('sex', VARCHAR(length=1), table=<census>), \n",
    "      Column('age', INTEGER(), table=<census>), \n",
    "      Column('pop2000', INTEGER(), table=<census>), \n",
    "      Column('pop2008', INTEGER(), table=<census>), \n",
    "      schema=None)\n"
   ]
  },
  {
   "cell_type": "markdown",
   "metadata": {},
   "source": [
    "### 1.4.3 Example: Viewing Table Details\n",
    "- example.columns.keys()\n",
    "- metadata.tables['example']\n",
    "    - similar to repr()\n",
    "\n",
    "Great job reflecting the census table! Now you can begin to learn more about the columns and structure of your table. It is important to get an understanding of your database by examining the column names. This can be done by using the .columns attribute and accessing the .keys() method. For example, census.columns.keys() would return a list of column names of the census table.\n",
    "\n",
    "Following this, we can use the metadata container to find out more details about the reflected table such as the columns and their types. For example, table objects are stored in the metadata.tables dictionary, so you can get the metadata of your census table with metadata.tables['census']. This is similar to your use of the repr() function on the census table from the previous exercise."
   ]
  },
  {
   "cell_type": "code",
   "execution_count": null,
   "metadata": {},
   "outputs": [],
   "source": [
    "# Reflect the census table from the engine: census\n",
    "census = Table('census', metadata, autoload=True, \n",
    "               autoload_with=engine)\n",
    "\n",
    "# Print the column names\n",
    "print(census.columns.keys())\n",
    "\n",
    "# Print full table metadata\n",
    "print(repr(metadata.tables['census']))\n",
    "\n",
    "# output\n",
    "['state', 'sex', 'age', 'pop2000', 'pop2008']\n",
    "Table('census', MetaData(bind=None), \n",
    "      Column('state', VARCHAR(length=30), table=<census>), \n",
    "      Column('sex', VARCHAR(length=1), table=<census>), \n",
    "      Column('age', INTEGER(), table=<census>), \n",
    "      Column('pop2000', INTEGER(), table=<census>), \n",
    "      Column('pop2008', INTEGER(), table=<census>), \n",
    "      schema=None)\n"
   ]
  },
  {
   "cell_type": "markdown",
   "metadata": {},
   "source": [
    "## 1.5 Intro to SQL\n",
    "SQL statements\n",
    "- Select, Insert, Update, Delete data\n",
    "- Create and Alter data and columns\n",
    "\n",
    "Basic SQL querying\n",
    "- SELECT column_name FROM table_name\n",
    "- SELECT pop2008 FROM People\n",
    "- SELECT * FROM People\n",
    "    - asterisks selects everything\n"
   ]
  },
  {
   "cell_type": "markdown",
   "metadata": {},
   "source": [
    "### 1.5.1 Basic SQL querying"
   ]
  },
  {
   "cell_type": "code",
   "execution_count": null,
   "metadata": {},
   "outputs": [],
   "source": [
    "from sqlalchemy import create_engine\n",
    "engine = create_engine('sqlite:///census_nyc.sqlite')\n",
    "connection = engine.connect()\n",
    "stmt = 'SELECT * FROM people'\n",
    "# ResultProxy\n",
    "result_proxy = connection.execute(stmt)\n",
    "# ResultSet\n",
    "results = result_proxy.fetchall()\n"
   ]
  },
  {
   "cell_type": "markdown",
   "metadata": {},
   "source": [
    "### 1.5.2 ResultProxy vs ResultSet\n",
    "- ResultProxy from execute statement\n",
    "- get a ResultSet from fetch method"
   ]
  },
  {
   "cell_type": "markdown",
   "metadata": {},
   "source": [
    "### 1.5.3 Handling ResultSets"
   ]
  },
  {
   "cell_type": "code",
   "execution_count": null,
   "metadata": {
    "ExecuteTime": {
     "end_time": "2018-09-27T02:59:13.272816Z",
     "start_time": "2018-09-27T02:59:13.137279Z"
    }
   },
   "outputs": [],
   "source": [
    "first_row = results[0]\n",
    "print(first_row)\n",
    "# column names\n",
    "print(first_row.keys())\n",
    "# print value\n",
    "print(first_row.state)"
   ]
  },
  {
   "cell_type": "markdown",
   "metadata": {},
   "source": [
    "## 1.6 SQLAlchemy to Build Queries\n",
    "- provides pythonic way to build SQL statements\n",
    "- hides differences b/n backend db types"
   ]
  },
  {
   "cell_type": "markdown",
   "metadata": {},
   "source": [
    "### 1.6.1 SQLAlchemy querying"
   ]
  },
  {
   "cell_type": "code",
   "execution_count": null,
   "metadata": {},
   "outputs": [],
   "source": [
    "from sqlalchemy import Table, MetaData\n",
    "metadata = MetaData()\n",
    "census = Table('census', metadata, autoload=True, \n",
    "               autoload_with=engine)\n",
    "stmt = select([census])\n",
    "results = connection.execute(stmt).fetchall()\n"
   ]
  },
  {
   "cell_type": "markdown",
   "metadata": {},
   "source": [
    "### 1.6.2 SQLAlchemy Select Statement\n",
    "- requires a list of one or more Tables or Columns\n",
    "- using a table will select all the columns in it"
   ]
  },
  {
   "cell_type": "code",
   "execution_count": null,
   "metadata": {},
   "outputs": [],
   "source": [
    "stmt = select([census])"
   ]
  },
  {
   "cell_type": "code",
   "execution_count": null,
   "metadata": {},
   "outputs": [],
   "source": [
    "# check statement with print\n",
    "print(stmt)\n",
    "# out: 'SELECT * from CENSUS'"
   ]
  },
  {
   "cell_type": "markdown",
   "metadata": {},
   "source": [
    "### 1.6.3 Example: Selecting data from a Table: raw SQL\n",
    "Using what we just learned about SQL and applying the .execute() method on our connection, we can leverage a raw SQL query to query all the records in our census table. The object returned by the .execute() method is a ResultProxy. On this ResultProxy, we can then use the .fetchall() method to get our results - that is, the ResultSet.\n",
    "\n",
    "In this exercise, you'll use a traditional SQL query. In the next exercise, you'll move to SQLAlchemy and begin to understand its advantages. Go for it!\n",
    "\n",
    "- Build a SQL statement to query all the columns from census and store it in stmt. Note that your SQL statement must be a string.\n",
    "- Use the .execute() and .fetchall() methods on connection and store the result in results. Remember that .execute() comes before .fetchall() and that stmt needs to be passed to .execute()."
   ]
  },
  {
   "cell_type": "code",
   "execution_count": null,
   "metadata": {},
   "outputs": [],
   "source": [
    "# Build select statement for census table: stmt\n",
    "stmt = 'SELECT * from census'\n",
    "\n",
    "# Execute the statement and fetch the results: results\n",
    "results = connection.execute(stmt).fetchall()\n",
    "\n",
    "# Print results\n",
    "print(results)"
   ]
  },
  {
   "cell_type": "markdown",
   "metadata": {},
   "source": [
    "### 1.6.4 Example: Selecting data from a Table with SQLAlchemy\n",
    "Excellent work so far! It's now time to build your first select statement using SQLAlchemy. SQLAlchemy provides a nice \"Pythonic\" way of interacting with databases. So rather than dealing with the differences between specific dialects of traditional SQL such as MySQL or PostgreSQL, you can leverage the Pythonic framework of SQLAlchemy to streamline your workflow and more efficiently query your data. For this reason, it is worth learning even if you may already be familiar with traditional SQL.\n",
    "\n",
    "In this exercise, you'll once again build a statement to query all records from the census table. This time, however, you'll make use of the select() function of the sqlalchemy module. This function requires a list of tables or columns as the only required argument.\n",
    "\n",
    "Table and MetaData have already been imported. The metadata is available as metadata and the connection to the database as connection."
   ]
  },
  {
   "cell_type": "code",
   "execution_count": null,
   "metadata": {},
   "outputs": [],
   "source": [
    "# Import select\n",
    "from sqlalchemy import select\n",
    "\n",
    "# Reflect census table via engine: census\n",
    "census = Table('census', metadata, autoload=True, autoload_with=engine)\n",
    "\n",
    "# Build select statement for census table: stmt\n",
    "stmt = select([census])\n",
    "\n",
    "# Print the emitted statement to see the SQL emitted\n",
    "print(stmt)\n",
    "\n",
    "# Execute the statement and print the results\n",
    "print(connection.execute(stmt).fetchall())\n"
   ]
  },
  {
   "cell_type": "markdown",
   "metadata": {},
   "source": [
    "### 1.6.5 Example: Handling a ResultSet\n",
    "Recall the differences between a ResultProxy and a ResultSet:\n",
    "\n",
    "ResultProxy: The object returned by the .execute() method. It can be used in a variety of ways to get the data returned by the query.\n",
    "ResultSet: The actual data asked for in the query when using a fetch method such as .fetchall() on a ResultProxy.\n",
    "This separation between the ResultSet and ResultProxy allows us to fetch as much or as little data as we desire.\n",
    "\n",
    "Once we have a ResultSet, we can use Python to access all the data within it by column name and by list style indexes. For example, you can get the first row of the results by using results[0]. With that first row then assigned to a variable first_row, you can get data from the first column by either using first_row[0] or by column name such as first_row['column_name']. You'll now practice exactly this using the ResultSet you obtained from the census table in the previous exercise. It is stored in the variable results. Enjoy!"
   ]
  },
  {
   "cell_type": "code",
   "execution_count": null,
   "metadata": {},
   "outputs": [],
   "source": [
    "# Get the first row of the results by using an index: first_row\n",
    "first_row = results[0]\n",
    "\n",
    "# Print the first row of the results\n",
    "print(first_row)\n",
    "\n",
    "# Print the first column of the first row by using an index\n",
    "print(first_row[0])\n",
    "\n",
    "# Print the 'state' column of the first row by using its name\n",
    "print(first_row['state'])\n"
   ]
  },
  {
   "cell_type": "markdown",
   "metadata": {},
   "source": [
    "# 2. Applying Filtering, Ordering, and Grouping to Queries"
   ]
  },
  {
   "cell_type": "markdown",
   "metadata": {},
   "source": [
    "## 2.1 Where Clauses\n",
    "- restrict data returned by a query based on boolean conditions\n",
    "- compare a column against a value or another column\n",
    "- often used comparisons:\n",
    "    - ==, <=, >=, !=\n"
   ]
  },
  {
   "cell_type": "code",
   "execution_count": null,
   "metadata": {},
   "outputs": [],
   "source": [
    "stmt = select([census])\n",
    "stmt = stmt.where(census.columns.state == 'California')\n",
    "results = connection.execute(stmt).fetchall()\n",
    "for result in results:\n",
    "    print(result.state, result.age)\n",
    "\n"
   ]
  },
  {
   "cell_type": "markdown",
   "metadata": {},
   "source": [
    "## 2.2 Expressions\n",
    "- provide more complex conditions than simple operators\n",
    "- examples\n",
    "    - in_() - matches columns value against a list\n",
    "    - like() - matches columns value against a partial value with wildcard\n",
    "    - between() - check if columns values is between 2 values\n",
    "- many more in documentation\n",
    "- available as method on a Column\n",
    "    "
   ]
  },
  {
   "cell_type": "markdown",
   "metadata": {},
   "source": [
    "### 2.2.1 Example: use expressions to filter states with 'new'"
   ]
  },
  {
   "cell_type": "code",
   "execution_count": null,
   "metadata": {},
   "outputs": [],
   "source": [
    "stmt = select([census])\n",
    "# use where and startswith\n",
    "stmt = stmt.where(census.columns.stat.startswith('New'))\n",
    "for result in connection.execute(stmt):\n",
    "    print(result.state, result.pop2000)"
   ]
  },
  {
   "cell_type": "markdown",
   "metadata": {},
   "source": [
    "## 2.3 Conjunctions\n",
    "- allows us to have multiple criteria in a where clause\n",
    "- examples\n",
    "    - and_()\n",
    "    - not_()\n",
    "    - or_()\n",
    "- can nest conjunctions to get more specific\n"
   ]
  },
  {
   "cell_type": "markdown",
   "metadata": {},
   "source": [
    "### 2.3.1 Example: conjunctions\n",
    "- get all records from California or New York"
   ]
  },
  {
   "cell_type": "code",
   "execution_count": null,
   "metadata": {},
   "outputs": [],
   "source": [
    "# conjunctions\n",
    "from sqlalchemy import or_\n",
    "stmt = select([census])\n",
    "stmt = stmt.where(or_(census.columns.state == 'California',\n",
    "                     census.columns.state == 'New York'\n",
    "                     )\n",
    "                 )\n",
    "for result in connection.execute(stmt):\n",
    "    print(result.state, result.sex)"
   ]
  },
  {
   "cell_type": "markdown",
   "metadata": {},
   "source": [
    "## 2.4 Connecting to a PostgreSQL Database on AWS\n",
    "In these exercises, you will be working with real databases hosted on the cloud via Amazon Web Services (AWS)!\n",
    "\n",
    "Let's begin by connecting to a PostgreSQL database. When connecting to a PostgreSQL database, many prefer to use the psycopg2 database driver as it supports practically all of PostgreSQL's features efficiently and is the standard dialect for PostgreSQL in SQLAlchemy.\n",
    "\n",
    "You might recall from Chapter 1 that we use the create_engine() function and a connection string to connect to a database.\n",
    "\n",
    "There are three components to the connection string in this exercise: the dialect and driver ('postgresql+psycopg2://'), followed by the username and password ('student:datacamp'), followed by the host and port ('@postgresql.csrrinzqubik.us-east-1.rds.amazonaws.com:5432/'), and finally, the database name ('census'). You will have to pass this string as an argument to create_engine() in order to connect to the database."
   ]
  },
  {
   "cell_type": "code",
   "execution_count": null,
   "metadata": {},
   "outputs": [],
   "source": [
    "# Import create_engine function\n",
    "from sqlalchemy import create_engine\n",
    "\n",
    "# Create an engine to the census database\n",
    "# Concatenate args: dialect and drive, username and password,\n",
    "#  host and port, database name\n",
    "engine = create_engine('postgresql+psycopg2://' +\n",
    "'student:datacamp' +\n",
    "'@postgresql.csrrinzqubik.us-east-1.rds.amazonaws.com:5432/' +\n",
    "'census')\n",
    "\n",
    "# Use the .table_names() method on the engine to print the table names\n",
    "print(engine.table_names())\n",
    "\n",
    "# output: 4 tables in the census database\n",
    "['census', 'state_fact', 'data', 'users']"
   ]
  },
  {
   "cell_type": "markdown",
   "metadata": {},
   "source": [
    "## 2.5 Filter data selected from a Table - Simple\n",
    "Having connected to the database, it's now time to practice filtering your queries!\n",
    "\n",
    "As mentioned in the video, a where() clause is used to filter the data that a statement returns. For example, to select all the records from the census table where the sex is Female (or 'F') we would do the following:\n",
    "\n",
    "select([census]).where(census.columns.sex == 'F')\n",
    "\n",
    "In addition to == we can use basically any python comparison operator (such as <=, !=, etc) in the where() clause. "
   ]
  },
  {
   "cell_type": "code",
   "execution_count": null,
   "metadata": {},
   "outputs": [],
   "source": [
    "# Create a select query: stmt\n",
    "stmt = select([census])\n",
    "\n",
    "# Add a where clause to filter the results to only those for New York\n",
    "stmt = stmt.where(census.columns.state == 'New York')\n",
    "\n",
    "# Execute the query to retrieve all the data returned: results\n",
    "results = connection.execute(stmt).fetchall()\n",
    "\n",
    "# Loop over the results and print the age, sex, and pop2008\n",
    "for result in results:\n",
    "    print(result.age, result.sex, result.pop2008)\n"
   ]
  },
  {
   "cell_type": "markdown",
   "metadata": {},
   "source": [
    "## 2.6 Filter data selected from a Table - Expressions\n",
    "In addition to standard Python comparators, we can also use methods such as in_() to create more powerful where() clauses. You can see a full list of expressions in the SQLAlchemy Documentation. https://docs.sqlalchemy.org/en/latest/core/sqlelement.html#module-sqlalchemy.sql.expression\n",
    "\n",
    "We've already created a list of some of the most densely populated states."
   ]
  },
  {
   "cell_type": "code",
   "execution_count": null,
   "metadata": {},
   "outputs": [],
   "source": [
    "# Create a query for the census table: stmt\n",
    "stmt = select([census])\n",
    "\n",
    "# Append a where clause to match all the states in_ the list states\n",
    "stmt = stmt.where(census.columns.state.in_(states))\n",
    "\n",
    "# Loop over the ResultProxy and print the state and its population \n",
    "# in 2000\n",
    "for i in connection.execute(stmt):\n",
    "    print(i.state, i.pop2000)\n"
   ]
  },
  {
   "cell_type": "markdown",
   "metadata": {},
   "source": [
    "## 2.7 Filter data selected from a Table - Advanced\n",
    "You're really getting the hang of this! SQLAlchemy also allows users to use conjunctions such as and_(), or_(), and not_() to build more complex filtering. For example, we can get a set of records for people in New York who are 21 or 37 years old with the following code:"
   ]
  },
  {
   "cell_type": "code",
   "execution_count": null,
   "metadata": {
    "ExecuteTime": {
     "end_time": "2018-09-29T01:55:18.823561Z",
     "start_time": "2018-09-29T01:55:18.769156Z"
    }
   },
   "outputs": [],
   "source": [
    "# example code noted above\n",
    "stmt([census]).where(\n",
    "  and_(census.columns.state == 'New York',\n",
    "       or_(census.columns.age == 21,\n",
    "          census.columns.age == 37\n",
    "         )\n",
    "      )\n",
    "  )"
   ]
  },
  {
   "cell_type": "code",
   "execution_count": null,
   "metadata": {},
   "outputs": [],
   "source": [
    "# Import and_\n",
    "from sqlalchemy import and_\n",
    "\n",
    "# Build a query for the census table: stmt\n",
    "stmt = select([census])\n",
    "\n",
    "# Append a where clause to select only non-male records from California using and_\n",
    "stmt = stmt.where(\n",
    "    # The state of California with a non-male sex\n",
    "    and_(census.columns.state == 'California',\n",
    "         census.columns.sex != 'M'\n",
    "         )\n",
    ")\n",
    "\n",
    "# Loop over the ResultProxy printing the age and sex\n",
    "for result in connection.execute(stmt):\n",
    "    print(result.age, result.sex)\n"
   ]
  },
  {
   "cell_type": "markdown",
   "metadata": {},
   "source": [
    "## 2.8 Overview of Ordering\n",
    "Order by Clauses\n",
    "- allows us to control the order in which records are returned in the query results\n",
    "- available as a method on statements order_by()\n"
   ]
  },
  {
   "cell_type": "markdown",
   "metadata": {},
   "source": [
    "### 2.8.1 Order by Ascending (low to high)"
   ]
  },
  {
   "cell_type": "code",
   "execution_count": null,
   "metadata": {
    "ExecuteTime": {
     "end_time": "2018-09-30T01:42:16.849090Z",
     "start_time": "2018-09-30T01:42:16.792704Z"
    }
   },
   "outputs": [],
   "source": [
    "# check contents\n",
    "print(results[:10])\n",
    "\n",
    "stmt = select([census.columns.state])\n",
    "stmt = stmt.order_by(census.columns.state)\n",
    "# execute the statement\n",
    "results = connection.execute(stmt).fetchall()\n",
    "print(results[:10])"
   ]
  },
  {
   "cell_type": "markdown",
   "metadata": {},
   "source": [
    "#### Example: Ordering by a Single Column\n",
    "To sort the result output by a field, we use the .order_by() method. By default, the .order_by() method sorts from lowest to highest on the supplied column. You just have to pass in the name of the column you want sorted to .order_by(). In the video, for example, Jason used stmt.order_by(census.columns.state) to sort the result output by the state column.\n"
   ]
  },
  {
   "cell_type": "code",
   "execution_count": null,
   "metadata": {},
   "outputs": [],
   "source": [
    "# Build a query to select the state column: stmt\n",
    "stmt = select([census.columns.state])\n",
    "\n",
    "# Order stmt by the state column\n",
    "stmt = stmt.order_by(census.columns.state)\n",
    "\n",
    "# Execute the query and store the results: results\n",
    "results = connection.execute(stmt).fetchall()\n",
    "\n",
    "# Print the first 10 results\n",
    "print(results[:10])\n"
   ]
  },
  {
   "cell_type": "markdown",
   "metadata": {},
   "source": [
    "### 2.8.2 Order by Descending (high to low)\n",
    "- wrap the column with desc() in the order_by() clause"
   ]
  },
  {
   "cell_type": "markdown",
   "metadata": {},
   "source": [
    "#### Example: Ordering in Descending Order by a Single Column\n",
    "You can also use .order_by() to sort from highest to lowest by wrapping a column in the desc() function. Although you haven't seen this function in action, it generalizes what you have already learned.\n",
    "\n",
    "Pass desc() (for \"descending\") inside an .order_by() with the name of the column you want to sort by. For instance, stmt.order_by(desc(table.columns.column_name)) sorts column_name in descending order.\n"
   ]
  },
  {
   "cell_type": "code",
   "execution_count": null,
   "metadata": {},
   "outputs": [],
   "source": [
    "# Import desc\n",
    "from sqlalchemy import desc\n",
    "\n",
    "# Build a query to select the state column: stmt\n",
    "stmt = select([census.columns.state])\n",
    "\n",
    "# Order stmt by state in descending order: rev_stmt\n",
    "rev_stmt = stmt.order_by(desc(census.columns.state))\n",
    "\n",
    "# Execute the query and store the results: rev_results\n",
    "rev_results = connection.execute(rev_stmt).fetchall()\n",
    "\n",
    "# Print the first 10 rev_results\n",
    "print(rev_results[:10])\n"
   ]
  },
  {
   "cell_type": "markdown",
   "metadata": {},
   "source": [
    "### 2.8.3 Order by Multiple\n",
    "- just separate multiple columns with a comma\n",
    "- orders completely by the first column\n",
    "- then if there are duplicates in the 1st column, orders by the 2nd column\n",
    "- repeat until all columns are ordered\n"
   ]
  },
  {
   "cell_type": "code",
   "execution_count": null,
   "metadata": {},
   "outputs": [],
   "source": [
    "# check contents\n",
    "print(results)\n",
    "\n",
    "stmt = select([census.columns.state, census.columns.sex])\n",
    "# order by state, then sex\n",
    "stmt = stmt.order_by(census.columns.state, census.columns.sex)\n",
    "results = connection.execute(stmt).first()\n",
    "print(results)"
   ]
  },
  {
   "cell_type": "markdown",
   "metadata": {},
   "source": [
    "#### Example: Ordering by Multiple Columns\n",
    "We can pass multiple arguments to the .order_by() method to order by multiple columns. In fact, we can also sort in ascending or descending order for each individual column. Each column in the .order_by() method is fully sorted from left to right. This means that the first column is completely sorted, and then within each matching group of values in the first column, it's sorted by the next column in the .order_by() method. This process is repeated until all the columns in the .order_by() are sorted.\n",
    "\n",
    "Use .order_by() to sort the output of the state column in ascending order and age in descending order. (NOTE: desc is already imported)."
   ]
  },
  {
   "cell_type": "code",
   "execution_count": null,
   "metadata": {},
   "outputs": [],
   "source": [
    "# Build a query to select state and age: stmt\n",
    "stmt = select([census.columns.state, census.columns.age])\n",
    "\n",
    "# Append order by to ascend by state and descend by age\n",
    "stmt = stmt.order_by(census.columns.state, desc(census.columns.age))\n",
    "\n",
    "# Execute the statement and store all the records: results\n",
    "results = connection.execute(stmt).fetchall()\n",
    "\n",
    "# Print the first 20 results\n",
    "print(results[:20])\n"
   ]
  },
  {
   "cell_type": "markdown",
   "metadata": {},
   "source": [
    "## 2.9 Counting, Summing and Grouping Data\n",
    "SQL functions\n",
    "- ie. Count, Sum\n",
    "- from sqlalchemy import func\n",
    "    - Note: don't import Sum since it will conflict with Python's Sum\n",
    "- more efficient than processing in Python\n",
    "- Aggregate data"
   ]
  },
  {
   "cell_type": "markdown",
   "metadata": {},
   "source": [
    "### 2.9.1 Counting Distinct Data - func.sum() or func.count()\n",
    "As mentioned in the video, SQLAlchemy's func module provides access to built-in SQL functions that can make operations like counting and summing faster and more efficient.\n",
    "\n",
    "In the video, Jason used func.sum() to get a sum of the pop2008 column of census as shown below:\n",
    "- select([func.sum(census.columns.pop2008)])\n",
    "\n",
    "If instead you want to count the number of values in pop2008, you could use func.count() like this:\n",
    "- select([func.count(census.columns.pop2008)])\n",
    "\n",
    "Furthermore, if you only want to count the distinct values of pop2008, you can use the .distinct() method:\n",
    "- select([func.count(census.columns.pop2008.distinct())])\n",
    "\n",
    "In this exercise, you will practice using func.count() and .distinct() to get a count of the distinct number of states in census.\n",
    "\n",
    "So far, you've seen .fetchall() and .first() used on a ResultProxy to get the results. The ResultProxy also has a method called .scalar() for getting just the value of a query that returns only one row and column.\n",
    "\n",
    "This can be very useful when you are querying for just a count or sum."
   ]
  },
  {
   "cell_type": "code",
   "execution_count": null,
   "metadata": {},
   "outputs": [],
   "source": [
    "# example: use func.count() and .distinct()\n",
    "# use .scalar() on ResultProxy to get a 1 row x 1 column value\n",
    "\n",
    "# Build a query to count the distinct states values: stmt\n",
    "stmt = select([func.count(census.columns.state.distinct())])\n",
    "\n",
    "# Execute the query and store the scalar result: distinct_state_count\n",
    "distinct_state_count = connection.execute(stmt).scalar()\n",
    "\n",
    "# Print the distinct_state_count\n",
    "print(distinct_state_count)\n",
    "\n",
    "# output\n",
    "51"
   ]
  },
  {
   "cell_type": "markdown",
   "metadata": {},
   "source": [
    "#### 2.9.1.a Example: Count of Records by State\n",
    "Often, we want to get a count for each record with a particular value in another column. The .group_by() method helps answer this type of query. You can pass a column to the .group_by() method and use in an aggregate function like sum() or count(). Much like the .order_by() method, .group_by() can take multiple columns as arguments."
   ]
  },
  {
   "cell_type": "code",
   "execution_count": null,
   "metadata": {},
   "outputs": [],
   "source": [
    "# Import func\n",
    "from sqlalchemy import func\n",
    "\n",
    "# Build a query to select the state and count of ages by state: stmt\n",
    "stmt = select([census.columns.state, func.count(census.columns.age)])\n",
    "\n",
    "# Group stmt by state\n",
    "stmt = stmt.group_by(census.columns.state)\n",
    "\n",
    "# Execute the statement and store all the records: results\n",
    "results = connection.execute(stmt).fetchall()\n",
    "\n",
    "# Print results\n",
    "print(results)\n",
    "\n",
    "# Print the keys/column names of the results returned\n",
    "print(results[0].keys())"
   ]
  },
  {
   "cell_type": "markdown",
   "metadata": {},
   "source": [
    "### 2.9.2 Sum"
   ]
  },
  {
   "cell_type": "code",
   "execution_count": null,
   "metadata": {},
   "outputs": [],
   "source": [
    "# example\n",
    "\n",
    "from sqlalchemy import func\n",
    "stmt = select([func.sum(census.columns.pop2008)])\n",
    "# use scaler() fetch method to get just the value\n",
    "results = connection.execute(stmt).scalar()\n",
    "print(results)"
   ]
  },
  {
   "cell_type": "markdown",
   "metadata": {},
   "source": [
    "### 2.9.3 Group by\n",
    "- allows us to group row by common values\n",
    "- supports multiple columns to group by with a pattern similar to order_by()\n",
    "- requires all selected columns to be grouped or aggregated by a function (like sum or count fxn)\n"
   ]
  },
  {
   "cell_type": "code",
   "execution_count": null,
   "metadata": {},
   "outputs": [],
   "source": [
    "# example\n",
    "stmt = select([census.columns.sex,\n",
    "              func.sum(census.columns.pop2008)])\n",
    "stmt = stmt.group_by(census.columns.sex)\n",
    "results = connection.execute(stmt).fetchall()\n",
    "print(results)"
   ]
  },
  {
   "cell_type": "markdown",
   "metadata": {},
   "source": [
    "#### 2.9.3.1 Group by Multiple    "
   ]
  },
  {
   "cell_type": "code",
   "execution_count": null,
   "metadata": {},
   "outputs": [],
   "source": [
    "stmt = select([census.columns.sex,\n",
    "               census.columns.age,\n",
    "               func.sum(census.columns.pop2008)])\n",
    "stmt = stmt.group_by(census.columns.sex, census.columns.age)\n",
    "results = connection.execute(stmt).fetchall()\n",
    "print(results)           "
   ]
  },
  {
   "cell_type": "markdown",
   "metadata": {},
   "source": [
    "### 2.9.4 Creating descriptive labels for ResultSets from Functions - using label() to label new column (ie. of a sum)\n",
    "- SQLAlchemy autogenerates \"column names\" for functions in the ResultSet\n",
    "- The column names are often func_# such as count_1\n",
    "- To make it easier, you can replace them with the label() method"
   ]
  },
  {
   "cell_type": "code",
   "execution_count": null,
   "metadata": {},
   "outputs": [],
   "source": [
    "# using label()\n",
    "print(results[0].keys())\n",
    "stmt = select([census.columns.sex,\n",
    "              func.sum(census.columns.pop2008).label(\n",
    "              'pop2008_sum')\n",
    "              ])\n",
    "stmt = stmt.group_by(census.columns.sex)\n",
    "results = connection.execute(stmt).fetchall()\n",
    "print(results[0].keys())\n",
    "# you should see the new column name here"
   ]
  },
  {
   "cell_type": "markdown",
   "metadata": {},
   "source": [
    "#### 2.9.4.1 Example: Determining the Population Sum by State\n",
    "To avoid confusion with query result column names like count_1, we can use the .label() method to provide a name for the resulting column. This gets appended to the function method we are using, and its argument is the name we want to use.\n",
    "\n",
    "We can pair func.sum() with .group_by() to get a sum of the population by State and use the label() method to name the output.\n",
    "\n",
    "We can also create the func.sum() expression before using it in the select statement. We do it the same way we would inside the select statement and store it in a variable. Then we use that variable in the select statement where the func.sum() would normally be."
   ]
  },
  {
   "cell_type": "code",
   "execution_count": null,
   "metadata": {},
   "outputs": [],
   "source": [
    "# Import func\n",
    "from sqlalchemy import func\n",
    "\n",
    "# Build an expression to calculate the sum of pop2008 labeled as \n",
    "# population\n",
    "pop2008_sum = func.sum(census.columns.pop2008).label('population')\n",
    "\n",
    "# Build a query to select the state and sum of pop2008: stmt\n",
    "stmt = select([census.columns.state, pop2008_sum])\n",
    "\n",
    "# Group stmt by state\n",
    "stmt = stmt.group_by(census.columns.state)\n",
    "\n",
    "# Execute the statement and store all the records: results\n",
    "results = connection.execute(stmt).fetchall()\n",
    "\n",
    "# Print results\n",
    "print(results)\n",
    "\n",
    "# Print the keys/column names of the results returned\n",
    "print(results[0].keys())\n"
   ]
  },
  {
   "cell_type": "markdown",
   "metadata": {},
   "source": [
    "## 2.10 Use Pandas and Matplotlib to visualize data\n",
    "SQLAlchemy and Pandas\n",
    "- DataFrame can take a SQLAlchemy ResultSet\n",
    "- Make sure to set the DataFrame columns to the ResultSet keys\n"
   ]
  },
  {
   "cell_type": "markdown",
   "metadata": {},
   "source": [
    "### 2.10.1 DataFrame Example - pd.DataFrame(ResultSet)"
   ]
  },
  {
   "cell_type": "code",
   "execution_count": null,
   "metadata": {},
   "outputs": [],
   "source": [
    "import pandas as pd\n",
    "# results is a SQLAlchemy ResultSet\n",
    "df = pd.DataFrame(results)\n",
    "df.columns = results[0].keys()\n",
    "# print df and check\n",
    "print(df)"
   ]
  },
  {
   "cell_type": "markdown",
   "metadata": {},
   "source": [
    "#### 2.10.1.a SQLAlchemy ResultsProxy and Pandas Dataframes\n",
    "We can feed a ResultProxy directly into a pandas DataFrame, which is the workhorse of many Data Scientists in PythonLand. Jason demonstrated this in the video. In this exercise, you'll follow exactly the same approach to convert a ResultProxy into a DataFrame.\n"
   ]
  },
  {
   "cell_type": "code",
   "execution_count": null,
   "metadata": {
    "code_folding": []
   },
   "outputs": [],
   "source": [
    "# example 2\n",
    "\n",
    "# import pandas\n",
    "import pandas as pd\n",
    "\n",
    "# Create a DataFrame from the results: df\n",
    "df = pd.DataFrame(results)\n",
    "\n",
    "# Set column names\n",
    "df.columns = results[0].keys()\n",
    "\n",
    "# Print the Dataframe\n",
    "print(df)"
   ]
  },
  {
   "cell_type": "markdown",
   "metadata": {},
   "source": [
    "### 2.10.2 Graphing\n",
    "- graph like normal"
   ]
  },
  {
   "cell_type": "code",
   "execution_count": null,
   "metadata": {},
   "outputs": [],
   "source": [
    "import matplotlib.pyplot as plt\n",
    "# horizontal bar chart of population count by age\n",
    "# limited to 10 rows\n",
    "df[10:20].plot.barh()\n",
    "plt.show()"
   ]
  },
  {
   "cell_type": "markdown",
   "metadata": {},
   "source": [
    "#### 2.10.2.a From SQLAlchemy results to a Graph\n",
    "We can also take advantage of pandas and Matplotlib to build figures of our data. Remember that data visualization is essential for both exploratory data analysis and communication of your data!\n",
    "\n",
    "- Use the plot.bar() method on df to create a bar plot of the results.\n",
    "- Display the plot with plt.show()."
   ]
  },
  {
   "cell_type": "code",
   "execution_count": null,
   "metadata": {},
   "outputs": [],
   "source": [
    "# Import Pyplot as plt from matplotlib\n",
    "import matplotlib.pyplot as plt\n",
    "\n",
    "# Create a DataFrame from the results: df\n",
    "df = pd.DataFrame(results)\n",
    "\n",
    "# Set Column names\n",
    "df.columns = results[0].keys()\n",
    "\n",
    "# Print the DataFrame\n",
    "print(df)\n",
    "\n",
    "# Plot the DataFrame\n",
    "df.plot.bar()\n",
    "plt.show()\n"
   ]
  },
  {
   "cell_type": "markdown",
   "metadata": {},
   "source": [
    "<img src=\"Images\\sqlalchemy1.png\" width=\"400\" />"
   ]
  },
  {
   "cell_type": "markdown",
   "metadata": {},
   "source": [
    "# 3. Advanced SQLAlchemy Queries\n",
    "Calculating Values in a Query\n",
    "\n",
    "Math Operators\n",
    "- addition + \n",
    "- subtraction - \n",
    "- multiplication *\n",
    "- division /\n",
    "- modulus %\n",
    "- Work differently on different data types"
   ]
  },
  {
   "cell_type": "markdown",
   "metadata": {},
   "source": [
    "## 3.1 Calculating Difference\n",
    "- notice wrapping expression with () and then labeling it"
   ]
  },
  {
   "cell_type": "code",
   "execution_count": null,
   "metadata": {},
   "outputs": [],
   "source": [
    "# difference\n",
    "stmt = select([census.columns.age,\n",
    "              (census.columns.pop2008-\n",
    "              census.columns.pop2000).label('pop_chage')\n",
    "              ])\n",
    "# group by age\n",
    "stmt = stmt.group_by(census.columns.age)\n",
    "# order by pop_change\n",
    "stmt = stmt.order_by(desc('pop_change'))\n",
    "# return top 5 results\n",
    "stmt = stmt.limit(5)\n",
    "# execute the statement\n",
    "results = connection.execute(stmt).fetchall()\n",
    "# print\n",
    "print(results)"
   ]
  },
  {
   "cell_type": "markdown",
   "metadata": {},
   "source": [
    "## 3.2 Case Statement\n",
    "- notice wrapping expression with () and then labeling it\n",
    "- used to treat data differently based on a condition\n",
    "- accepts a list of conditions to match and a column to return if the condition matches\n",
    "- the list of conditions ends with an else clause to determine what to do when a record doesn't match any prior conditions"
   ]
  },
  {
   "cell_type": "code",
   "execution_count": null,
   "metadata": {},
   "outputs": [],
   "source": [
    "# Case example\n",
    "from sqlalchemy import case\n",
    "\n",
    "stmt = select([\n",
    "    func.sum(\n",
    "        case([\n",
    "            (census.columns.state == 'New york',\n",
    "             census.columns.pop2008)\n",
    "    ], else_=0))\n",
    "])\n",
    "results = connection.execute(stmt).fetchall()\n",
    "print(results)"
   ]
  },
  {
   "cell_type": "markdown",
   "metadata": {},
   "source": [
    "## 3.3 Cast Statement\n",
    "- converts data to another type\n",
    "- usefor for converting\n",
    "    - intergers to floats for division\n",
    "    - strings to dates and times\n",
    "- accepts a column or expression and the target Type\n"
   ]
  },
  {
   "cell_type": "markdown",
   "metadata": {},
   "source": [
    "## 3.4 Percentage Example - Case and Cast"
   ]
  },
  {
   "cell_type": "code",
   "execution_count": null,
   "metadata": {},
   "outputs": [],
   "source": [
    "from sqlalchemy import case, cast, Float\n",
    "# calculate a percentage, note: convert to float type\n",
    "stmt = select([\n",
    "    (func.sum(\n",
    "        case([\n",
    "            (census.columns.state == 'New york',\n",
    "             census.columns.pop2008)\n",
    "        ], else_=0)) /\n",
    "     cast(func.sum(census.columns.pop2008),\n",
    "          Float) * 100).label('ny_percent')\n",
    "])\n",
    "results = connection.execute(stmt).fetchall()\n",
    "print(results)"
   ]
  },
  {
   "cell_type": "markdown",
   "metadata": {},
   "source": [
    "## "
   ]
  },
  {
   "cell_type": "code",
   "execution_count": null,
   "metadata": {},
   "outputs": [],
   "source": []
  },
  {
   "cell_type": "markdown",
   "metadata": {},
   "source": [
    "## "
   ]
  },
  {
   "cell_type": "code",
   "execution_count": null,
   "metadata": {},
   "outputs": [],
   "source": []
  },
  {
   "cell_type": "markdown",
   "metadata": {},
   "source": [
    "## "
   ]
  },
  {
   "cell_type": "code",
   "execution_count": null,
   "metadata": {},
   "outputs": [],
   "source": []
  },
  {
   "cell_type": "markdown",
   "metadata": {},
   "source": [
    "## "
   ]
  },
  {
   "cell_type": "code",
   "execution_count": null,
   "metadata": {},
   "outputs": [],
   "source": []
  },
  {
   "cell_type": "markdown",
   "metadata": {},
   "source": [
    "## "
   ]
  },
  {
   "cell_type": "code",
   "execution_count": null,
   "metadata": {},
   "outputs": [],
   "source": []
  },
  {
   "cell_type": "markdown",
   "metadata": {},
   "source": [
    "## "
   ]
  },
  {
   "cell_type": "code",
   "execution_count": null,
   "metadata": {},
   "outputs": [],
   "source": []
  },
  {
   "cell_type": "markdown",
   "metadata": {},
   "source": [
    "# 4. Creating and Manipulating your own Databases"
   ]
  },
  {
   "cell_type": "markdown",
   "metadata": {},
   "source": [
    "## "
   ]
  },
  {
   "cell_type": "code",
   "execution_count": null,
   "metadata": {},
   "outputs": [],
   "source": []
  },
  {
   "cell_type": "markdown",
   "metadata": {},
   "source": [
    "## "
   ]
  },
  {
   "cell_type": "code",
   "execution_count": null,
   "metadata": {},
   "outputs": [],
   "source": []
  },
  {
   "cell_type": "markdown",
   "metadata": {},
   "source": [
    "## "
   ]
  },
  {
   "cell_type": "code",
   "execution_count": null,
   "metadata": {},
   "outputs": [],
   "source": []
  },
  {
   "cell_type": "markdown",
   "metadata": {},
   "source": [
    "## "
   ]
  },
  {
   "cell_type": "code",
   "execution_count": null,
   "metadata": {},
   "outputs": [],
   "source": []
  },
  {
   "cell_type": "markdown",
   "metadata": {},
   "source": [
    "## "
   ]
  },
  {
   "cell_type": "code",
   "execution_count": null,
   "metadata": {},
   "outputs": [],
   "source": []
  },
  {
   "cell_type": "markdown",
   "metadata": {},
   "source": [
    "## "
   ]
  },
  {
   "cell_type": "code",
   "execution_count": null,
   "metadata": {},
   "outputs": [],
   "source": []
  },
  {
   "cell_type": "markdown",
   "metadata": {},
   "source": [
    "## "
   ]
  },
  {
   "cell_type": "code",
   "execution_count": null,
   "metadata": {},
   "outputs": [],
   "source": []
  },
  {
   "cell_type": "markdown",
   "metadata": {},
   "source": [
    "## "
   ]
  },
  {
   "cell_type": "code",
   "execution_count": null,
   "metadata": {},
   "outputs": [],
   "source": []
  },
  {
   "cell_type": "markdown",
   "metadata": {},
   "source": [
    "## "
   ]
  },
  {
   "cell_type": "code",
   "execution_count": null,
   "metadata": {},
   "outputs": [],
   "source": []
  },
  {
   "cell_type": "markdown",
   "metadata": {},
   "source": [
    "## "
   ]
  },
  {
   "cell_type": "code",
   "execution_count": null,
   "metadata": {},
   "outputs": [],
   "source": []
  },
  {
   "cell_type": "markdown",
   "metadata": {},
   "source": [
    "# 5. Project: Putting it all together"
   ]
  },
  {
   "cell_type": "markdown",
   "metadata": {},
   "source": [
    "## "
   ]
  },
  {
   "cell_type": "code",
   "execution_count": null,
   "metadata": {},
   "outputs": [],
   "source": []
  },
  {
   "cell_type": "markdown",
   "metadata": {},
   "source": [
    "## "
   ]
  },
  {
   "cell_type": "code",
   "execution_count": null,
   "metadata": {},
   "outputs": [],
   "source": []
  },
  {
   "cell_type": "markdown",
   "metadata": {},
   "source": [
    "## "
   ]
  },
  {
   "cell_type": "code",
   "execution_count": null,
   "metadata": {},
   "outputs": [],
   "source": []
  },
  {
   "cell_type": "markdown",
   "metadata": {},
   "source": [
    "## "
   ]
  },
  {
   "cell_type": "code",
   "execution_count": null,
   "metadata": {},
   "outputs": [],
   "source": []
  },
  {
   "cell_type": "markdown",
   "metadata": {},
   "source": [
    "## "
   ]
  },
  {
   "cell_type": "code",
   "execution_count": null,
   "metadata": {},
   "outputs": [],
   "source": []
  },
  {
   "cell_type": "markdown",
   "metadata": {},
   "source": [
    "## "
   ]
  },
  {
   "cell_type": "code",
   "execution_count": null,
   "metadata": {},
   "outputs": [],
   "source": []
  },
  {
   "cell_type": "markdown",
   "metadata": {},
   "source": [
    "## "
   ]
  },
  {
   "cell_type": "code",
   "execution_count": null,
   "metadata": {},
   "outputs": [],
   "source": []
  },
  {
   "cell_type": "markdown",
   "metadata": {},
   "source": [
    "## "
   ]
  },
  {
   "cell_type": "code",
   "execution_count": null,
   "metadata": {},
   "outputs": [],
   "source": []
  },
  {
   "cell_type": "markdown",
   "metadata": {},
   "source": [
    "## "
   ]
  },
  {
   "cell_type": "code",
   "execution_count": null,
   "metadata": {},
   "outputs": [],
   "source": []
  },
  {
   "cell_type": "markdown",
   "metadata": {},
   "source": [
    "## "
   ]
  },
  {
   "cell_type": "code",
   "execution_count": null,
   "metadata": {},
   "outputs": [],
   "source": []
  },
  {
   "cell_type": "code",
   "execution_count": null,
   "metadata": {},
   "outputs": [],
   "source": []
  },
  {
   "cell_type": "code",
   "execution_count": null,
   "metadata": {},
   "outputs": [],
   "source": []
  },
  {
   "cell_type": "code",
   "execution_count": null,
   "metadata": {},
   "outputs": [],
   "source": []
  },
  {
   "cell_type": "code",
   "execution_count": null,
   "metadata": {},
   "outputs": [],
   "source": []
  },
  {
   "cell_type": "code",
   "execution_count": null,
   "metadata": {},
   "outputs": [],
   "source": []
  }
 ],
 "metadata": {
  "kernelspec": {
   "display_name": "Python 3",
   "language": "python",
   "name": "python3"
  },
  "language_info": {
   "codemirror_mode": {
    "name": "ipython",
    "version": 3
   },
   "file_extension": ".py",
   "mimetype": "text/x-python",
   "name": "python",
   "nbconvert_exporter": "python",
   "pygments_lexer": "ipython3",
   "version": "3.6.6"
  }
 },
 "nbformat": 4,
 "nbformat_minor": 2
}
