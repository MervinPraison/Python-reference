{
 "cells": [
  {
   "cell_type": "markdown",
   "metadata": {},
   "source": [
    "# SQL notes"
   ]
  },
  {
   "cell_type": "markdown",
   "metadata": {},
   "source": [
    "# SELECT * and LIMIT"
   ]
  },
  {
   "cell_type": "code",
   "execution_count": null,
   "metadata": {},
   "outputs": [],
   "source": [
    "SELECT *\n",
    "FROM people\n",
    "LIMIT 10;"
   ]
  },
  {
   "cell_type": "code",
   "execution_count": null,
   "metadata": {},
   "outputs": [],
   "source": [
    "SELECT title, release_year, country\n",
    "FROM films;"
   ]
  },
  {
   "cell_type": "markdown",
   "metadata": {},
   "source": [
    "# SELECT COUNT(DISTINCT... \n",
    "- COUNT will not include NULL values"
   ]
  },
  {
   "cell_type": "code",
   "execution_count": null,
   "metadata": {},
   "outputs": [],
   "source": [
    "# SELECT DISTINCT - remove duplicates\n",
    "SELECT DISTINCT country \n",
    "FROM films"
   ]
  },
  {
   "cell_type": "code",
   "execution_count": null,
   "metadata": {
    "ExecuteTime": {
     "end_time": "2021-10-28T05:18:58.946027Z",
     "start_time": "2021-10-28T05:18:58.942261Z"
    }
   },
   "outputs": [],
   "source": [
    "# SELECT COUNT\n",
    "\n",
    "# number of rows\n",
    "SELECT COUNT(*)\n",
    "FROM people;\n",
    "\n",
    "# count but drop nan\n",
    "SELECT COUNT(birthdate)\n",
    "FROM people;\n",
    "\n",
    "# COUNT(DISTINCT...\n",
    "SELECT COUNT(DISTINCT birthdate)\n",
    "FROM people;\n",
    "\n"
   ]
  },
  {
   "cell_type": "markdown",
   "metadata": {},
   "source": [
    "# Filtering with WHERE\n",
    "- after the FROM statement\n",
    "- Important: in PostgreSQL (the version of SQL we're using), you must use single quotes with WHERE."
   ]
  },
  {
   "cell_type": "markdown",
   "metadata": {},
   "source": [
    "WHERE keyword allows you to filter based on both text and numeric values in a table. There are a few different comparison operators you can use:\n",
    "\n",
    "'=' equal\n",
    "\n",
    "'<>' not equal - Note that in this course we will use <> and not != for the not equal operator, as per the SQL standard.\n",
    "\n",
    "'<' less than\n",
    "\n",
    "'>' greater than\n",
    "\n",
    "'<=' less than or equal to\n",
    "\n",
    "'>=' greater than or equal to"
   ]
  },
  {
   "cell_type": "code",
   "execution_count": null,
   "metadata": {},
   "outputs": [],
   "source": [
    "SELECT title\n",
    "FROM films\n",
    "WHERE title = 'Metropolis';"
   ]
  },
  {
   "cell_type": "code",
   "execution_count": null,
   "metadata": {},
   "outputs": [],
   "source": [
    "SELECT title\n",
    "FROM films\n",
    "WHERE title = 'Metropolis';"
   ]
  },
  {
   "cell_type": "markdown",
   "metadata": {},
   "source": [
    "# WHERE AND"
   ]
  },
  {
   "cell_type": "code",
   "execution_count": null,
   "metadata": {},
   "outputs": [],
   "source": [
    "SELECT title\n",
    "FROM films\n",
    "WHERE release_year > 1994\n",
    "AND release_year < 2000;"
   ]
  },
  {
   "cell_type": "markdown",
   "metadata": {},
   "source": [
    "# WHERE OR, WHERE (x OR y) AND (a OR b)"
   ]
  },
  {
   "cell_type": "code",
   "execution_count": null,
   "metadata": {},
   "outputs": [],
   "source": [
    "SELECT title\n",
    "FROM films\n",
    "WHERE release_year = 1994\n",
    "OR release_year = 2000;"
   ]
  },
  {
   "cell_type": "code",
   "execution_count": null,
   "metadata": {},
   "outputs": [],
   "source": [
    "# using parentheses for individual clauses when using AND and OR\n",
    "SELECT title\n",
    "FROM films\n",
    "WHERE (release_year = 1994 OR release_year = 1995)\n",
    "AND (certification = 'PG' OR certification = 'R');"
   ]
  },
  {
   "cell_type": "code",
   "execution_count": null,
   "metadata": {},
   "outputs": [],
   "source": [
    "SELECT title, release_year\n",
    "FROM films\n",
    "WHERE (release_year > 1989 AND release_year < 2000) \n",
    "AND (language='French' OR language='Spanish')\n",
    "AND (gross >2000000)"
   ]
  },
  {
   "cell_type": "markdown",
   "metadata": {},
   "source": [
    "# BETWEEN\n",
    "- inclusive\n",
    "- Similar to the WHERE clause, the BETWEEN clause can be used with multiple AND and OR operators,"
   ]
  },
  {
   "cell_type": "code",
   "execution_count": null,
   "metadata": {},
   "outputs": [],
   "source": [
    "SELECT title\n",
    "FROM films\n",
    "WHERE release_year\n",
    "BETWEEN 1994 AND 2000;"
   ]
  },
  {
   "cell_type": "markdown",
   "metadata": {},
   "source": [
    "# WHERE IN\n",
    "- The IN operator allows you to specify multiple values in a WHERE clause, making it easier and quicker to specify multiple OR conditions!"
   ]
  },
  {
   "cell_type": "code",
   "execution_count": null,
   "metadata": {},
   "outputs": [],
   "source": [
    "SELECT name\n",
    "FROM kids\n",
    "WHERE age IN (2, 4, 6, 8, 10);"
   ]
  },
  {
   "cell_type": "code",
   "execution_count": null,
   "metadata": {},
   "outputs": [],
   "source": [
    "SELECT title, release_year\n",
    "FROM films\n",
    "WHERE release_year IN (1990, 2000)\n",
    "AND duration > 120"
   ]
  },
  {
   "cell_type": "markdown",
   "metadata": {},
   "source": [
    "# NULL and IS NULL, IS NOT NULL"
   ]
  },
  {
   "cell_type": "code",
   "execution_count": null,
   "metadata": {},
   "outputs": [],
   "source": [
    "# count NULL values\n",
    "SELECT COUNT(*)\n",
    "FROM people\n",
    "WHERE birthdate IS NULL;"
   ]
  },
  {
   "cell_type": "code",
   "execution_count": null,
   "metadata": {},
   "outputs": [],
   "source": [
    "SELECT name\n",
    "FROM people\n",
    "WHERE birthdate IS NOT NULL;"
   ]
  },
  {
   "cell_type": "markdown",
   "metadata": {},
   "source": [
    "# LIKE and NOT LIKE"
   ]
  },
  {
   "cell_type": "markdown",
   "metadata": {},
   "source": [
    "you'll want to search for a pattern rather than a specific text string.\n",
    "\n",
    "In SQL, the LIKE operator can be used in a WHERE clause to search for a pattern in a column. To accomplish this, you use something called a wildcard as a placeholder for some other values. There are two wildcards you can use with LIKE:\n",
    "\n",
    "The `%` wildcard will match zero, one, or many characters in text. For example, the following query matches companies like 'Data', 'DataC' 'DataCamp', 'DataMind', and so on:\n",
    "\n",
    "SELECT name\n",
    "FROM companies\n",
    "WHERE name LIKE 'Data%';\n",
    "\n",
    "The `_` wildcard will match a single character. For example, the following query matches companies like 'DataCamp', 'DataComp', and so on:\n",
    "\n",
    "SELECT name\n",
    "FROM companies\n",
    "WHERE name LIKE 'DataC_mp';\n",
    "You can also use the NOT LIKE operator to find records that don't match the pattern you specify."
   ]
  },
  {
   "cell_type": "code",
   "execution_count": null,
   "metadata": {},
   "outputs": [],
   "source": [
    "SELECT name\n",
    "FROM people\n",
    "WHERE name LIKE 'B%';"
   ]
  },
  {
   "cell_type": "markdown",
   "metadata": {},
   "source": [
    "# Aggregate functions"
   ]
  },
  {
   "cell_type": "code",
   "execution_count": null,
   "metadata": {},
   "outputs": [],
   "source": [
    "SELECT AVG(budget)\n",
    "FROM films;\n",
    "\n",
    "SELECT MAX(budget)\n",
    "FROM films;\n",
    "\n",
    "SELECT SUM(budget)\n",
    "FROM films;\n",
    "\n",
    "SELECT MIN(budget)\n",
    "FROM films;"
   ]
  },
  {
   "cell_type": "markdown",
   "metadata": {},
   "source": [
    "## Combine aggregate functions with WHERE"
   ]
  },
  {
   "cell_type": "code",
   "execution_count": null,
   "metadata": {},
   "outputs": [],
   "source": [
    "SELECT SUM(budget)\n",
    "FROM films\n",
    "WHERE release_year >= 2010;"
   ]
  },
  {
   "cell_type": "code",
   "execution_count": null,
   "metadata": {},
   "outputs": [],
   "source": [
    "# title starts with 'A'\n",
    "SELECT AVG(gross)\n",
    "FROM films\n",
    "WHERE title LIKE 'A%';"
   ]
  },
  {
   "cell_type": "code",
   "execution_count": null,
   "metadata": {},
   "outputs": [],
   "source": [
    "SELECT MAX(gross)\n",
    "FROM films\n",
    "WHERE release_year\n",
    "BETWEEN 2000 AND 2012;"
   ]
  },
  {
   "cell_type": "markdown",
   "metadata": {},
   "source": [
    "## Arithmetic\n",
    "- `+`, `-`, `*`, and `/`"
   ]
  },
  {
   "cell_type": "code",
   "execution_count": null,
   "metadata": {},
   "outputs": [],
   "source": [
    "SELECT (4 * 3);\n",
    "# 12\n",
    "\n",
    "# note division of integers, returns same type of integers\n",
    "SELECT (4 / 3);\n",
    "# 1\n",
    "\n",
    "SELECT (4.0 / 3.0) AS result;\n",
    "# 1.333"
   ]
  },
  {
   "cell_type": "markdown",
   "metadata": {},
   "source": [
    "### Make sure when dividing you use at least 1 float type"
   ]
  },
  {
   "cell_type": "code",
   "execution_count": null,
   "metadata": {},
   "outputs": [],
   "source": [
    "SELECT 45 * 100.0 / 10;"
   ]
  },
  {
   "cell_type": "markdown",
   "metadata": {},
   "source": [
    "# Aliasing with AS"
   ]
  },
  {
   "cell_type": "code",
   "execution_count": null,
   "metadata": {},
   "outputs": [],
   "source": [
    "SELECT MAX(budget) AS max_budget,\n",
    "       MAX(duration) AS max_duration\n",
    "FROM films;\n",
    "\n",
    "SELECT title,\n",
    "    (gross - budget) AS net_profit\n",
    "FROM films;\n",
    "\n",
    "SELECT AVG(duration)/60.0 AS avg_duration_hours\n",
    "FROM films;"
   ]
  },
  {
   "cell_type": "code",
   "execution_count": null,
   "metadata": {},
   "outputs": [],
   "source": [
    "# note COUNT will not include NULL values\n",
    "-- get the count(deathdate) and multiply by 100.0\n",
    "-- then divide by count(*)\n",
    "SELECT COUNT(deathdate)*100.0/COUNT(*) AS percentage_dead\n",
    "FROM people;\n",
    "\n",
    "SELECT MAX(release_year)-MIN(release_year) AS difference\n",
    "FROM films;\n",
    "\n",
    "# Use () for numerator of fraction\n",
    "SELECT (MAX(release_year)-MIN(release_year))/10.0 AS number_of_decades\n",
    "FROM films;"
   ]
  },
  {
   "cell_type": "markdown",
   "metadata": {},
   "source": [
    "# Commenting with --"
   ]
  },
  {
   "cell_type": "markdown",
   "metadata": {},
   "source": [
    "-- get the count(deathdate) and multiply by 100.0\n",
    "\n",
    "-- then divide by count(*)"
   ]
  },
  {
   "cell_type": "markdown",
   "metadata": {},
   "source": [
    "# ORDER BY\n",
    "- default ascending order\n",
    "- `DESC` for descending order\n",
    "- NOTE - ORDER BY sorts text column alphabetically A to Z by default"
   ]
  },
  {
   "cell_type": "code",
   "execution_count": null,
   "metadata": {},
   "outputs": [],
   "source": [
    "# DESC example\n",
    "SELECT title\n",
    "FROM films\n",
    "ORDER BY release_year DESC;\n",
    "\n",
    "SELECT name\n",
    "FROM people\n",
    "ORDER BY name;\n",
    "\n",
    "SELECT birthdate, name\n",
    "FROM people\n",
    "ORDER BY birthdate;\n",
    "\n",
    "SELECT title\n",
    "FROM films\n",
    "WHERE release_year IN (2000,2012)\n",
    "ORDER BY release_year;\n",
    "\n",
    "SELECT *\n",
    "FROM films\n",
    "WHERE release_year <> 2015\n",
    "ORDER BY duration;\n",
    "\n",
    "SELECT title, gross\n",
    "FROM films\n",
    "WHERE title LIKE 'M%'\n",
    "ORDER BY title;"
   ]
  },
  {
   "cell_type": "markdown",
   "metadata": {},
   "source": [
    "## ORDER BY for multiple columns"
   ]
  },
  {
   "cell_type": "code",
   "execution_count": null,
   "metadata": {
    "ExecuteTime": {
     "end_time": "2021-10-29T04:32:53.971974Z",
     "start_time": "2021-10-29T04:32:53.952327Z"
    }
   },
   "outputs": [],
   "source": [
    "SELECT birthdate, name\n",
    "FROM people\n",
    "ORDER BY birthdate, name;\n"
   ]
  },
  {
   "cell_type": "markdown",
   "metadata": {},
   "source": [
    "# GROUP BY\n",
    "- Commonly, `GROUP BY` is used with aggregate functions like `COUNT()` or `MAX()`. Note that `GROUP BY` always goes after the `FROM` clause!\n",
    "- Note also that `ORDER BY` always goes after `GROUP BY`. Let's try some exercises!"
   ]
  },
  {
   "cell_type": "code",
   "execution_count": null,
   "metadata": {},
   "outputs": [],
   "source": [
    "SELECT sex, count(*)\n",
    "FROM employees\n",
    "GROUP BY sex;"
   ]
  },
  {
   "cell_type": "code",
   "execution_count": null,
   "metadata": {},
   "outputs": [],
   "source": [
    "'''\n",
    "A word of warning: SQL will return an error if you try to SELECT \n",
    "a field that is not in your GROUP BY clause without using it to \n",
    "calculate some kind of value about the entire group.\n",
    "\n",
    "Note that you can combine GROUP BY with ORDER BY to group your \n",
    "results, calculate something about them, and then order your results. \n",
    "For example,\n",
    "'''\n",
    "\n",
    "SELECT sex, count(*)\n",
    "FROM employees\n",
    "GROUP BY sex\n",
    "ORDER BY count DESC;\n",
    "\n",
    "SELECT release_year, MIN(gross)\n",
    "FROM films\n",
    "GROUP BY release_year;\n",
    "\n",
    "SELECT language, SUM(gross)\n",
    "FROM films\n",
    "GROUP BY language;\n",
    "\n",
    "SELECT release_year, country, MAX(budget)\n",
    "FROM films\n",
    "GROUP BY release_year, country\n",
    "ORDER BY release_year, country;\n"
   ]
  },
  {
   "cell_type": "markdown",
   "metadata": {},
   "source": [
    "# HAVING\n",
    "- In SQL, aggregate functions can't be used in WHERE clauses.\n"
   ]
  },
  {
   "cell_type": "code",
   "execution_count": null,
   "metadata": {},
   "outputs": [],
   "source": [
    "# shows only those years in which more than 10 films were released\n",
    "SELECT release_year\n",
    "FROM films\n",
    "GROUP BY release_year\n",
    "HAVING COUNT(title) > 10;"
   ]
  },
  {
   "cell_type": "code",
   "execution_count": null,
   "metadata": {},
   "outputs": [],
   "source": [
    "SELECT COUNT(release_year)\n",
    "FROM films\n",
    "GROUP BY release_year\n",
    "HAVING COUNT(release_year) > 200;"
   ]
  },
  {
   "cell_type": "code",
   "execution_count": null,
   "metadata": {},
   "outputs": [],
   "source": [
    "# In how many different years were more than 200 movies released?\n",
    "SELECT release_year\n",
    "FROM films\n",
    "GROUP BY release_year\n",
    "HAVING COUNT(title) > 200;"
   ]
  },
  {
   "cell_type": "markdown",
   "metadata": {},
   "source": [
    "# Example - ORDER BY, GROUP BY, HAVING"
   ]
  },
  {
   "cell_type": "code",
   "execution_count": null,
   "metadata": {},
   "outputs": [],
   "source": [
    "SELECT release_year, AVG(budget) AS avg_budget, AVG(gross) AS avg_gross\n",
    "FROM films\n",
    "WHERE release_year > 1990\n",
    "GROUP BY release_year\n",
    "HAVING AVG(budget) > 60000000\n",
    "ORDER BY (avg_gross) DESC;"
   ]
  },
  {
   "cell_type": "code",
   "execution_count": null,
   "metadata": {},
   "outputs": [],
   "source": [
    "-- select country, average budget, SE\n",
    "SELECT country, AVG(budget) AS avg_budget,\n",
    "--     and average gross\n",
    "    AVG(gross) AS avg_gross\n",
    "-- from the films table\n",
    "FROM FILMS\n",
    "-- group by country \n",
    "GROUP BY country\n",
    "-- where the country has more than 10 titles\n",
    "HAVING COUNT(country) > 10\n",
    "-- order by country\n",
    "ORDER BY country\n",
    "-- limit to only show 5 results\n",
    "LIMIT 5;"
   ]
  },
  {
   "cell_type": "markdown",
   "metadata": {},
   "source": [
    "# JOIN\n",
    "- note jupyter notebook on SQL_joins"
   ]
  },
  {
   "cell_type": "code",
   "execution_count": null,
   "metadata": {},
   "outputs": [],
   "source": [
    "SELECT title, imdb_score\n",
    "FROM films\n",
    "JOIN reviews\n",
    "ON films.id = reviews.film_id\n",
    "WHERE title = 'To Kill a Mockingbird';"
   ]
  },
  {
   "cell_type": "code",
   "execution_count": null,
   "metadata": {},
   "outputs": [],
   "source": [
    "SELECT \tname\n",
    "FROM hit_tracks AS t\n",
    "INNER JOIN features AS f\n",
    "ON \n",
    "t.id = f.song_id\n",
    " AND \n",
    "t.dance = f.dance_level\n",
    " \n",
    "ORDER BY name\n",
    "LIMIT 5;"
   ]
  },
  {
   "cell_type": "markdown",
   "metadata": {},
   "source": [
    "# Intermediate SQL skills..."
   ]
  },
  {
   "cell_type": "markdown",
   "metadata": {},
   "source": [
    "# `CASE WHEN` statement\n",
    "Applications\n",
    "- create categorical variables\n",
    "- aggregate data into a single column with multiple filtering conditions\n",
    "- calculate counts and %\n",
    "\n",
    "`CASE` statements - create categories in a field\n",
    "- `WHEN`, `THEN`, `ELSE`, `END AS` alias"
   ]
  },
  {
   "cell_type": "code",
   "execution_count": null,
   "metadata": {},
   "outputs": [],
   "source": [
    "# identify matches played between FC Schalke 04 and FC Bayern Munich\n",
    "SELECT\n",
    "    -- Select the team long name and team API id\n",
    "    team_long_name,\n",
    "    team_api_id\n",
    "FROM teams_germany\n",
    "-- Only include FC Schalke 04 and FC Bayern Munich\n",
    "WHERE team_long_name IN ('FC Schalke 04', 'FC Bayern Munich');\n",
    "\n"
   ]
  },
  {
   "cell_type": "code",
   "execution_count": null,
   "metadata": {},
   "outputs": [],
   "source": [
    "# Create a CASE statement that identifies whether a match in \n",
    "# Germany included FC Bayern Munich, FC Schalke 04, \n",
    "# or neither as the home team\n",
    "-- Identify the home team as Bayern Munich, Schalke 04, or neither\n",
    "SELECT \n",
    "    CASE WHEN hometeam_id = 10189 THEN 'FC Schalke 04'\n",
    "         WHEN hometeam_id = 9823 THEN 'FC Bayern Munich'\n",
    "         ELSE 'Other' END AS home_team,\n",
    "    COUNT(id) AS total_matches\n",
    "FROM matches_germany\n",
    "-- Group by the CASE statement alias\n",
    "GROUP BY home_team;"
   ]
  },
  {
   "cell_type": "code",
   "execution_count": null,
   "metadata": {},
   "outputs": [],
   "source": []
  },
  {
   "cell_type": "code",
   "execution_count": null,
   "metadata": {},
   "outputs": [],
   "source": []
  },
  {
   "cell_type": "code",
   "execution_count": null,
   "metadata": {},
   "outputs": [],
   "source": []
  },
  {
   "cell_type": "code",
   "execution_count": null,
   "metadata": {},
   "outputs": [],
   "source": []
  },
  {
   "cell_type": "markdown",
   "metadata": {},
   "source": [
    "# Subqueries\n",
    "- also in SQL_joins notebook\n",
    "- subqueries find most commonly in `WHERE`, then `SELECT`, then `FROM`"
   ]
  },
  {
   "cell_type": "code",
   "execution_count": null,
   "metadata": {},
   "outputs": [],
   "source": []
  },
  {
   "cell_type": "markdown",
   "metadata": {},
   "source": [
    "# Correlated Queries, Nested Queries, and Common Table Expressions"
   ]
  },
  {
   "cell_type": "code",
   "execution_count": null,
   "metadata": {},
   "outputs": [],
   "source": []
  },
  {
   "cell_type": "markdown",
   "metadata": {},
   "source": [
    "# Window Functions\n",
    "- how to pass aggregate functions along a dataset\n",
    "- calculate running totals and partitioned averages"
   ]
  },
  {
   "cell_type": "code",
   "execution_count": null,
   "metadata": {},
   "outputs": [],
   "source": []
  },
  {
   "cell_type": "code",
   "execution_count": null,
   "metadata": {},
   "outputs": [],
   "source": []
  },
  {
   "cell_type": "code",
   "execution_count": null,
   "metadata": {},
   "outputs": [],
   "source": []
  },
  {
   "cell_type": "code",
   "execution_count": null,
   "metadata": {},
   "outputs": [],
   "source": []
  },
  {
   "cell_type": "code",
   "execution_count": null,
   "metadata": {},
   "outputs": [],
   "source": []
  },
  {
   "cell_type": "code",
   "execution_count": null,
   "metadata": {},
   "outputs": [],
   "source": []
  }
 ],
 "metadata": {
  "kernelspec": {
   "display_name": "Python 3",
   "language": "python",
   "name": "python3"
  },
  "language_info": {
   "codemirror_mode": {
    "name": "ipython",
    "version": 3
   },
   "file_extension": ".py",
   "mimetype": "text/x-python",
   "name": "python",
   "nbconvert_exporter": "python",
   "pygments_lexer": "ipython3",
   "version": "3.7.0"
  },
  "toc": {
   "base_numbering": 1,
   "nav_menu": {},
   "number_sections": true,
   "sideBar": true,
   "skip_h1_title": false,
   "title_cell": "Table of Contents",
   "title_sidebar": "Contents",
   "toc_cell": false,
   "toc_position": {},
   "toc_section_display": true,
   "toc_window_display": false
  },
  "varInspector": {
   "cols": {
    "lenName": 16,
    "lenType": 16,
    "lenVar": 40
   },
   "kernels_config": {
    "python": {
     "delete_cmd_postfix": "",
     "delete_cmd_prefix": "del ",
     "library": "var_list.py",
     "varRefreshCmd": "print(var_dic_list())"
    },
    "r": {
     "delete_cmd_postfix": ") ",
     "delete_cmd_prefix": "rm(",
     "library": "var_list.r",
     "varRefreshCmd": "cat(var_dic_list()) "
    }
   },
   "types_to_exclude": [
    "module",
    "function",
    "builtin_function_or_method",
    "instance",
    "_Feature"
   ],
   "window_display": false
  }
 },
 "nbformat": 4,
 "nbformat_minor": 2
}
