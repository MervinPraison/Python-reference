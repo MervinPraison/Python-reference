{
 "cells": [
  {
   "cell_type": "markdown",
   "metadata": {},
   "source": [
    "# Deep Learning in Python\n",
    "- neural networks\n",
    "- deep learning models\n",
    "- using Keras 2.0\n",
    "- with Dan Becker from Kaggle, Keras and TensorFlow libraries\n",
    "\n",
    "Applications: robotics, NLP, image recognition, AI"
   ]
  },
  {
   "cell_type": "markdown",
   "metadata": {},
   "source": []
  },
  {
   "cell_type": "markdown",
   "metadata": {},
   "source": [
    "# 1. Basics of Deep Learning and Neural Networks\n",
    "Interactions\n",
    "- Neural Networks account for interactions really well\n",
    "- Deep learning uses powerful neural networks\n",
    "    - text, images, videos, audio, source code\n",
    "- Deep learning models capture interactions\n",
    "    - can take 2 features and caculate this interaction to predict the outcome\n",
    "    - reality is that there are a lot of interactions\n",
    "- Structure\n",
    "    - Input Layer - features\n",
    "    - Output Layer - predicted\n",
    "    - Hidden Layer - everything in between input and output\n",
    "        - each component is a NODE\n",
    "        - we don't have data and can't observe this layer directly\n",
    "        - the more nodes, the more interactions we capture\n",
    "        "
   ]
  },
  {
   "cell_type": "markdown",
   "metadata": {},
   "source": [
    "### 1.1 Forward propagation = using data to make predictions\n",
    "Example: bank transactions\n",
    "- make predictions based on:\n",
    "    - number of children\n",
    "    - number of existing accounts\n",
    "- customer with 2 children, 3 accounts\n",
    "    - line from input to each node\n",
    "    - each line has a weight for how strongly the input affects the hidden node \n",
    "    - first set of weights - parameters we train/change when NN fit to data\n",
    "- Dot product\n",
    "    - hidden node prediction = sum(input*weight)\n",
    "    - output node - repeat the same multiply-add process (sum(node*weight))\n",
    "\n",
    "Forward propagation = input to hidden node to output\n",
    "- dot product (multiply-add process)\n",
    "- forward propagation for one data point at a time\n",
    "- output is the prediction for that data point\n"
   ]
  },
  {
   "cell_type": "code",
   "execution_count": 1,
   "metadata": {},
   "outputs": [],
   "source": [
    "# Forward propagation code\n",
    "\n",
    "import numpy as np\n",
    "# recall 2 children, 3 existing accounts\n",
    "input_data = np.array([2,3])\n",
    "# 2 hidden nodes\n",
    "weights = {'node_0': np.array([1,1]),\n",
    "           'node_1': np.array([-1,1]),\n",
    "           'output': np.array([2,-1])}\n",
    "node_0_value = (input_data * weights['node_0']).sum()\n",
    "node_1_value = (input_data * weights['node_1']).sum()\n",
    "\n",
    "hidden_layer_values = np.array([node_0_value, node_1_value])\n",
    "print(hidden_layer_values)\n",
    "# [5,1]\n",
    "\n",
    "# get output\n",
    "output = hidden_layer_values * weights['output']).sum()\n",
    "print(output)\n",
    "# 9\n"
   ]
  },
  {
   "cell_type": "markdown",
   "metadata": {},
   "source": [
    "### Example: Coding the forward propagation algorithm\n",
    "In this exercise, you'll write code to do forward propagation (prediction) for your first neural network:\n",
    "\n",
    "<img src=\"image1.png\" width=\"500\" />\n",
    "Reference: https://s3.amazonaws.com/assets.datacamp.com/production/course_3524/datasets/1_4.png)\n",
    "\n",
    "Each data point is a customer. The first input is how many accounts they have, and the second input is how many children they have. The model will predict how many transactions the user makes in the next year. You will use this data throughout the first 2 chapters of this course.\n",
    "\n",
    "The input data has been pre-loaded as input_data, and the weights are available in a dictionary called weights. The array of weights for the first node in the hidden layer are in weights['node_0'], and the array of weights for the second node in the hidden layer are in weights['node_1'].\n",
    "\n",
    "The weights feeding into the output node are available in weights['output'].\n",
    "\n",
    "NumPy will be pre-imported for you as np in all exercises."
   ]
  },
  {
   "cell_type": "code",
   "execution_count": null,
   "metadata": {},
   "outputs": [],
   "source": [
    "# Calculate node 0 value: node_0_value\n",
    "node_0_value = (input_data * weights['node_0']).sum()\n",
    "\n",
    "# Calculate node 1 value: node_1_value\n",
    "node_1_value = (input_data * weights['node_1']).sum()\n",
    "\n",
    "# Put node values into array: hidden_layer_outputs\n",
    "hidden_layer_outputs = np.array([node_0_value, node_1_value])\n",
    "\n",
    "# Calculate output: output\n",
    "output = (hidden_layer_outputs * weights['output']).sum()\n",
    "\n",
    "# Print output\n",
    "print(output)\n",
    "\n",
    "# -39"
   ]
  },
  {
   "cell_type": "markdown",
   "metadata": {},
   "source": [
    "### 1.2 Activation functions\n",
    "- to achieve max predictive power, we need activation function in hidden layer\n",
    "- allows model to capture non-linearities\n",
    "- applied to node inputs to produce node output\n",
    "\n",
    "Improving our neural network\n",
    "- used to use tanh\n",
    "- now ReLU is the standard\n",
    "\n",
    "ReLU (Rectified Linear Activation)\n"
   ]
  },
  {
   "cell_type": "code",
   "execution_count": null,
   "metadata": {},
   "outputs": [],
   "source": [
    "# activation functions with tanh\n",
    "\n",
    "import numpy as np\n",
    "input_data = np.array([-1, 2])\n",
    "weights = {'node_0': np.array([3,3]),\n",
    "           'node_1': np.array([1,5]),\n",
    "           'output': np.array([2,-1])}\n",
    "\n",
    "# note distinguishing input and output\n",
    "node_0_input = (input_data * weights['node_0']).sum()\n",
    "node_0_output = np.tanh(node_0_input)\n",
    "node_1_input = (input_data * weights['node_1']).sum()\n",
    "node_1_output = np.tanh(node_1_input)\n",
    "\n",
    "hidden_layer_outputs = np.array([node_0_output, node_1_output])\n",
    "output = hidden_layer_outputs * weights['output']).sum()\n",
    "print(output)"
   ]
  },
  {
   "cell_type": "markdown",
   "metadata": {},
   "source": [
    "### 1.2.a ReLU - The Rectified Linear Activation Function\n",
    "As Dan explained to you in the video, an \"activation function\" is a function applied at each node. It converts the node's input into some output.\n",
    "\n",
    "The rectified linear activation function (called ReLU) has been shown to lead to very high-performance networks. This function takes a single number as an input, returning 0 if the input is negative, and the input if the input is positive.\n",
    "\n",
    "Here are some examples:\n",
    "- relu(3) = 3 \n",
    "- relu(-3) = 0 "
   ]
  },
  {
   "cell_type": "code",
   "execution_count": null,
   "metadata": {},
   "outputs": [],
   "source": [
    "# ReLU\n",
    "\n",
    "def relu(input):\n",
    "    '''Define your relu activation function here'''\n",
    "    # Calculate the value for the output of the relu function: output\n",
    "    # return 0 if input is negative, else return input\n",
    "    output = max(input, 0)\n",
    "    \n",
    "    # Return the value just calculated\n",
    "    return(output)\n",
    "\n",
    "# Calculate node 0 value: node_0_output\n",
    "node_0_input = (input_data * weights['node_0']).sum()\n",
    "node_0_output = relu(node_0_input)\n",
    "\n",
    "# Calculate node 1 value: node_1_output\n",
    "node_1_input = (input_data * weights['node_1']).sum()\n",
    "node_1_output = relu(node_1_input)\n",
    "\n",
    "# Put node values into array: hidden_layer_outputs\n",
    "hidden_layer_outputs = np.array([node_0_output, node_1_output])\n",
    "\n",
    "# Calculate model output (do not apply relu)\n",
    "model_output = (hidden_layer_outputs * weights['output']).sum()\n",
    "\n",
    "# Print model output\n",
    "print(model_output)\n",
    "\n",
    "# 52\n",
    "# we predicted 52 transactions"
   ]
  },
  {
   "cell_type": "markdown",
   "metadata": {},
   "source": [
    "### 1.2.b Applying the network to many observations/rows of data\n",
    "You'll now define a function called predict_with_network() which will generate predictions for multiple data observations, which are pre-loaded as input_data. As before, weights are also pre-loaded. In addition, the relu() function you defined in the previous exercise has been pre-loaded."
   ]
  },
  {
   "cell_type": "code",
   "execution_count": null,
   "metadata": {},
   "outputs": [],
   "source": [
    "# Define predict_with_network()\n",
    "def predict_with_network(input_data_row, weights):\n",
    "    \"\"\"accepts two arguments - input_data_row and weights - and \n",
    "    returns a prediction from the network as the output.\"\"\"\n",
    "        # Calculate node 0 value\n",
    "    node_0_input = (input_data_row * weights['node_0']).sum()\n",
    "    node_0_output = relu(node_0_input)\n",
    "\n",
    "    # Calculate node 1 value\n",
    "    node_1_input = (input_data_row * weights['node_1']).sum()\n",
    "    node_1_output = relu(node_1_input)\n",
    "\n",
    "    # Put node values into array: hidden_layer_outputs\n",
    "    hidden_layer_outputs = np.array([node_0_output, node_1_output])\n",
    "    \n",
    "    # Calculate model output\n",
    "    input_to_final_layer = (hidden_layer_outputs * weights['output']).sum()\n",
    "    model_output = relu(input_to_final_layer)\n",
    "    \n",
    "    # Return model output\n",
    "    return(model_output)\n",
    "\n",
    "\n",
    "# Create empty list to store prediction results\n",
    "results = []\n",
    "for input_data_row in input_data:\n",
    "    # Append prediction to results\n",
    "    results.append(predict_with_network(input_data_row, weights))\n",
    "\n",
    "# Print results\n",
    "print(results)\n",
    "\n",
    "# [52, 63, 0, 148]"
   ]
  },
  {
   "cell_type": "markdown",
   "metadata": {},
   "source": [
    "### 1.3 Deeper networks\n",
    "Multiple hidden layers\n",
    "- can scale to even 1000 layers\n",
    "- same propogation process\n",
    "- assume all layers use ReLU activation function\n",
    "\n",
    "Representation learning (aka deep learning)\n",
    "- deep networks internally build representations of patterns in the data\n",
    "- partially replace the need for feature engineering\n",
    "- called representation learning b/c subsequent layers build increasingly sophisticated representations of raw data until we get to a stage to make predictions\n",
    "- example in images:\n",
    "    - early nodes: diagonal line\n",
    "    - later node: face node\n",
    "    - next node: cat node    \n",
    "- So, more complex or \"higher level\" interactions are in the last layers of the model\n",
    "\n",
    "Deep learning\n",
    "- pro: modeler doesn't need to specify the interactions\n",
    "- when you train the model, the neural network gets weights that find the relevant patterns to make better predictions\n"
   ]
  },
  {
   "cell_type": "markdown",
   "metadata": {},
   "source": [
    "### 1.3.a Multi-layer neural networks\n",
    "In this exercise, you'll write code to do forward propagation for a neural network with 2 hidden layers. Each hidden layer has two nodes. The input data has been preloaded as input_data. The nodes in the first hidden layer are called node_0_0 and node_0_1. Their weights are pre-loaded as weights['node_0_0'] and weights['node_0_1'] respectively.\n",
    "\n",
    "The nodes in the second hidden layer are called node_1_0 and node_1_1. Their weights are pre-loaded as weights['node_1_0'] and weights['node_1_1'] respectively.\n",
    "\n",
    "We then create a model output from the hidden nodes using weights pre-loaded as weights['output'].\n",
    "\n",
    "<img src=\"image2.png\" width=\"500\" />\n",
    "Reference: https://s3.amazonaws.com/assets.datacamp.com/production/course_3524/datasets/ch1ex10.png"
   ]
  },
  {
   "cell_type": "code",
   "execution_count": null,
   "metadata": {},
   "outputs": [],
   "source": [
    "# forward propagation with 2 hidden layers\n",
    "\n",
    "def predict_with_network(input_data):\n",
    "    # Calculate node 0 in the first hidden layer\n",
    "    node_0_0_input = (input_data * weights['node_0_0']).sum()\n",
    "    node_0_0_output = relu(node_0_0_input)\n",
    "\n",
    "    # Calculate node 1 in the first hidden layer\n",
    "    node_0_1_input = (input_data * weights['node_0_1']).sum()\n",
    "    node_0_1_output = relu(node_0_1_input)\n",
    "\n",
    "    # Put node values into array: hidden_0_outputs\n",
    "    hidden_0_outputs = np.array([node_0_0_output, node_0_1_output])\n",
    "    \n",
    "    # Calculate node 0 in the second hidden layer\n",
    "    node_1_0_input = (hidden_0_outputs * weights['node_1_0']).sum()\n",
    "    node_1_0_output = relu(node_1_0_input)\n",
    "\n",
    "    # Calculate node 1 in the second hidden layer\n",
    "    node_1_1_input = (hidden_0_outputs * weights['node_1_1']).sum()\n",
    "    node_1_1_output = relu(node_1_1_input)\n",
    "\n",
    "    # Put node values into array: hidden_1_outputs\n",
    "    hidden_1_outputs = np.array([node_1_0_output, node_1_1_output])\n",
    "\n",
    "    # Calculate model output: model_output\n",
    "    model_output = (hidden_1_outputs * weights['output']).sum()\n",
    "    \n",
    "    # Return model_output\n",
    "    return(model_output)\n",
    "\n",
    "output = predict_with_network(input_data)\n",
    "print(output)\n",
    "\n",
    "# 182\n"
   ]
  },
  {
   "cell_type": "markdown",
   "metadata": {},
   "source": [
    "# 2. Optimize a Neural Network with backward propagation\n",
    "Consider a baseline neural network\n",
    "- uses an identity function (returns the input)\n",
    "- given input and true value of target\n",
    "- use forward propagation to fill in values for hidden layer node values\n",
    "- use hidden layer node values to make a prediction on output, then compute error compared to actual value of target\n",
    "- changing the weights of the hidden layers improves accuracy of the predicted target\n",
    "\n",
    "Predictions with multiple points\n",
    "- making accurate predictions gets harder with more points\n",
    "- at any set of weights, there are many values of the error\n",
    "    - ...corresponding to the many points we make predictions for\n",
    "    \n",
    "Loss function\n",
    "- aggregates erros in predictions from many data points into single number\n",
    "- measure of model's predictive performance\n",
    "- example: column loss for regression - mean squared error loss function\n",
    "- Lower loss function value means a better model\n",
    "- Goal: Find the weights that give the lowest value for the loss function\n",
    "- How? use Gradient descent algorithm\n",
    "\n",
    "Gradient descent\n",
    "- analogy: imagine you are in a pitch dark field\n",
    "    - want to find the lowest point\n",
    "    - feel the ground to see how it slopes\n",
    "    - take a small step downhill\n",
    "    - repeat until it is uphill in every direction\n",
    "- steps:\n",
    "    - start at random point\n",
    "    - until you are somewhere flat:\n",
    "        - find the slope (the derivative)\n",
    "        - take a step downhill'\n",
    "\n",
    "Optimizing a model with a single weight\n",
    "- if slope is positive, to find the low point go in the opposite direction towards lower numbers\n",
    "- eventually get to the minimum value\n"
   ]
  },
  {
   "cell_type": "markdown",
   "metadata": {},
   "source": [
    "### Example 1: Calculating model errors\n",
    "For the exercises in this chapter, you'll continue working with the network to predict transactions for a bank.\n",
    "\n",
    "What is the error (predicted - actual) for the following network when the input data is [3, 2] and the actual value of the target (what you are trying to predict) is 5? It may be helpful to get out a pen and piece of paper to calculate these values.\n",
    "\n",
    "![example](https://s3.amazonaws.com/assets.datacamp.com/production/course_3524/datasets/ch2_ex2_3.png)\n",
    "\n",
    "Answer:\n",
    "output = 16\n",
    "actual value = 5\n",
    "error = 16 - 5 = 11"
   ]
  },
  {
   "cell_type": "markdown",
   "metadata": {},
   "source": [
    "### Example 2: Understanding how weights change model accuracy\n",
    "Imagine you have to make a prediction for a single data point. The actual value of the target is 7. The weight going from node_0 to the output is 2, as shown below. If you increased it slightly, changing it to 2.01, would the predictions become more accurate, less accurate, or stay the same?\n",
    "<img src=\"image3.png\" width=\"500\" />\n",
    "Reference: https://s3.amazonaws.com/assets.datacamp.com/production/course_3524/datasets/ch2_ex2_3.png\n",
    "\n",
    "Answer: less accurate\n",
    "Increasing weight from 2 to 2.01 would increase resulting error from 9 to 9.08. So less accurate"
   ]
  },
  {
   "cell_type": "markdown",
   "metadata": {},
   "source": [
    "### Example 3: Coding how weight changes affect accuracy\n",
    "Now you'll get to change weights in a real network and see how they affect model accuracy!\n",
    "\n",
    "Have a look at the following neural network: \n",
    "<img src=\"image4.png\" width=\"500\" />\n",
    "Reference: https://s3.amazonaws.com/assets.datacamp.com/production/course_3524/datasets/ch2ex4.png\n",
    "\n",
    "Its weights have been pre-loaded as weights_0. Your task in this exercise is to update a single weight in weights_0 to create weights_1, which gives a perfect prediction (in which the predicted value is equal to target_actual: 3).\n",
    "\n",
    "Use a pen and paper if necessary to experiment with different combinations. You'll use the predict_with_network() function, which takes an array of data as the first argument, and weights as the second argument."
   ]
  },
  {
   "cell_type": "code",
   "execution_count": null,
   "metadata": {},
   "outputs": [],
   "source": [
    "# The data point you will make a prediction for\n",
    "input_data = np.array([0, 3])\n",
    "\n",
    "# Sample weights\n",
    "weights_0 = {'node_0': [2, 1],\n",
    "             'node_1': [1, 2],\n",
    "             'output': [1, 1]\n",
    "            }\n",
    "\n",
    "# The actual target value, used to calculate the error\n",
    "target_actual = 3\n",
    "\n",
    "# Make prediction using original weights\n",
    "model_output_0 = predict_with_network(input_data, weights_0)\n",
    "\n",
    "# Calculate error: error_0\n",
    "error_0 = model_output_0 - target_actual\n",
    "\n",
    "# Create weights that cause the network to make \n",
    "#  perfect prediction (3): weights_1\n",
    "weights_1 = {'node_0': [2, 1],\n",
    "             'node_1': [1, 0], # changed 2nd weight to 0\n",
    "             'output': [1, 1]\n",
    "            }\n",
    "\n",
    "# Make prediction using new weights: model_output_1\n",
    "model_output_1 = predict_with_network(input_data, weights_1)\n",
    "\n",
    "# Calculate error: error_1\n",
    "error_1 = model_output_1 - target_actual\n",
    "\n",
    "# Print error_0 and error_1\n",
    "print(error_0)\n",
    "print(error_1)\n"
   ]
  },
  {
   "cell_type": "markdown",
   "metadata": {},
   "source": [
    "### Example 4: Scaling up to multiple data points\n",
    "You've seen how different weights will have different accuracies on a single prediction. But usually, you'll want to measure model accuracy on many points. You'll now write code to compare model accuracies for two different sets of weights, which have been stored as weights_0 and weights_1.\n",
    "\n",
    "input_data is a list of arrays. Each item in that list contains the data to make a single prediction. target_actuals is a list of numbers. Each item in that list is the actual value we are trying to predict.\n",
    "\n",
    "In this exercise, you'll use the mean_squared_error() function from sklearn.metrics. It takes the true values and the predicted values as arguments.\n",
    "\n",
    "You'll also use the preloaded predict_with_network() function, which takes an array of data as the first argument, and weights as the second argument."
   ]
  },
  {
   "cell_type": "code",
   "execution_count": null,
   "metadata": {},
   "outputs": [],
   "source": [
    "from sklearn.metrics import mean_squared_error\n",
    "\n",
    "# Create model_output_0 \n",
    "model_output_0 = []\n",
    "# Create model_output_1\n",
    "model_output_1 = []\n",
    "\n",
    "# Loop over input_data\n",
    "for row in input_data:\n",
    "    # Append prediction to model_output_0\n",
    "    model_output_0.append(predict_with_network(row, weights_0))\n",
    "    \n",
    "    # Append prediction to model_output_1\n",
    "    model_output_1.append(predict_with_network(row, weights_1))\n",
    "\n",
    "# Calculate the mean squared error for model_output_0: mse_0\n",
    "mse_0 = mean_squared_error(target_actuals, model_output_0)\n",
    "\n",
    "# Calculate the mean squared error for model_output_1: mse_1\n",
    "mse_1 = mean_squared_error(target_actuals, model_output_1)\n",
    "\n",
    "# Print mse_0 and mse_1\n",
    "print(\"Mean squared error with weights_0: %f\" %mse_0)\n",
    "print(\"Mean squared error with weights_1: %f\" %mse_1)\n",
    "\n",
    "# Mean squared error with weights_0: 294.000000\n",
    "# Mean squared error with weights_1: 395.062500\n",
    "\n",
    "# model_output_1 has a higher mean squared error"
   ]
  },
  {
   "cell_type": "markdown",
   "metadata": {},
   "source": [
    "### 2.1 Gradient descent\n",
    "- if slope is positive:\n",
    "    - going opposite the slope means moving to lower numbers\n",
    "    - subtract the slope from the current value\n",
    "    - problem: too big a step might lead us astray\n",
    "- Solution: learning rate\n",
    "    - update each weight by subtracting (learning rate * slope)\n",
    "    - learning rates frequently around 0.01\n",
    "    - this ensures small steps toward optimal rate\n",
    "\n",
    "Slope calculation example\n",
    "- to calculate the slope of a weight, need to multiply:\n",
    "    - slope of the loss function w.r.t. prediction (value at the node we feed into)\n",
    "        - = 2 * (Predicted value - Actual value) = 2* Error\n",
    "        - example: 2 * (6-10) = -8\n",
    "    - the value of the node that feeds into our weight\n",
    "        - input = 3\n",
    "    - slope of the activation function w.r.t. value we feed into\n",
    "        - this example does not have activation function, so skip\n",
    "    - slope of mean squared loss function = 2 * -4 * 3 = -24\n",
    "- if learning rate = 0.01, new weight updated to 2-0.01(-24) = 2.24\n",
    "- for multiple weights, repeat process for each weight separately, then update both weights simultaneously using their derivative\n"
   ]
  },
  {
   "cell_type": "markdown",
   "metadata": {},
   "source": [
    "#### Code to calculate slope and update weights"
   ]
  },
  {
   "cell_type": "code",
   "execution_count": null,
   "metadata": {},
   "outputs": [],
   "source": [
    "import numpy as np\n",
    "weights = np.array([1,2])\n",
    "input_data = np.array([3, 4])\n",
    "target = 6\n",
    "learning_rate = 0.01\n",
    "preds = (weights * input_data).sum()\n",
    "error = preds - target\n",
    "print(error)\n",
    "# 5\n",
    "\n",
    "# slope calculation\n",
    "gradient = 2 * input_data * error\n",
    "gradient\n",
    "# array([30, 40])\n",
    "\n",
    "# update weights by small step in that direction\n",
    "weights_updated = weights - learning_rate * gradient\n",
    "preds_updated = (weights_updated * input_data).sum()\n",
    "error_updated = preds_updated - target\n",
    "print(error_updated)\n",
    "# -2.5\n",
    "# improvement in error, repeating this would result in more improvements"
   ]
  },
  {
   "cell_type": "markdown",
   "metadata": {},
   "source": [
    "### Example 1: Calculating slopes\n",
    "You're now going to practice calculating slopes. \n",
    "When plotting the mean-squared error loss function against predictions,\n",
    "- the slope is 2*x*(y-xb),\n",
    "- or 2*(input_data)*(error)\n",
    "\n",
    "Note that x and b may have multiple numbers (x is a vector for each data point, and b is a vector). In this case, the output will also be a vector, which is exactly what you want.\n",
    "\n",
    "You're ready to write the code to calculate this slope while using a single data point. You'll use pre-defined weights called weights as well as data for a single point called input_data. The actual value of the target you want to predict is stored in target."
   ]
  },
  {
   "cell_type": "code",
   "execution_count": null,
   "metadata": {},
   "outputs": [],
   "source": [
    "# Calculate the predictions: preds\n",
    "preds = (input_data * weights).sum()\n",
    "\n",
    "# Calculate the error: error\n",
    "# This error corresponds to y-xb in the gradient expression\n",
    "error = target - preds\n",
    "\n",
    "# Calculate the slope: slope\n",
    "slope = 2 * input_data * error\n",
    "\n",
    "# Print the slope\n",
    "print(slope)\n",
    "\n",
    "# [-14 -28 -42]"
   ]
  },
  {
   "cell_type": "markdown",
   "metadata": {},
   "source": [
    "### Example 2: Improving model weights (using the slope)\n",
    "Hurray! You've just calculated the slopes you need. Now it's time to use those slopes to improve your model. If you add the slopes to your weights, you will move in the right direction. However, it's possible to move too far in that direction. So you will want to take a small step in that direction first, using a lower learning rate, and verify that the model is improving.\n",
    "\n",
    "The weights have been pre-loaded as weights, the actual value of the target as target, and the input data as input_data. The predictions from the initial weights are stored as preds."
   ]
  },
  {
   "cell_type": "code",
   "execution_count": null,
   "metadata": {},
   "outputs": [],
   "source": [
    "# Set the learning rate: learning_rate\n",
    "learning_rate = 0.01\n",
    "\n",
    "# Calculate the predictions: preds\n",
    "preds = (weights * input_data).sum()\n",
    "\n",
    "# Calculate the error: error\n",
    "error = preds - target\n",
    "\n",
    "# Calculate the slope: slope\n",
    "slope = 2 * input_data * error\n",
    "\n",
    "# Update the weights: weights_updated\n",
    "weights_updated = weights - (learning_rate * slope)\n",
    "\n",
    "# Get updated predictions: preds_updated\n",
    "preds_updated = (weights_updated * input_data).sum()\n",
    "\n",
    "# Calculate updated error: error_updated\n",
    "error_updated = preds_updated - target\n",
    "\n",
    "# Print the original error\n",
    "print(error)\n",
    "\n",
    "# Print the updated error\n",
    "print(error_updated)\n",
    "\n",
    "# 7\n",
    "# 5.04\n",
    "\n",
    "# Updating the model weights decreased the error."
   ]
  },
  {
   "cell_type": "markdown",
   "metadata": {},
   "source": [
    "### Example 3: Making multiple updates to weights\n",
    "You're now going to make multiple updates so you can dramatically improve your model weights, and see how the predictions improve with each update.\n",
    "\n",
    "To keep your code clean, there is a pre-loaded get_slope() function that takes input_data, target, and weights as arguments. There is also a get_mse() function that takes the same arguments. The input_data, target, and weights have been pre-loaded.\n",
    "\n",
    "This network does not have any hidden layers, and it goes directly from the input (with 3 nodes) to an output node. Note that weights is a single array.\n",
    "\n",
    "We have also pre-loaded matplotlib.pyplot, and the error history will be plotted after you have done your gradient descent steps."
   ]
  },
  {
   "cell_type": "code",
   "execution_count": null,
   "metadata": {},
   "outputs": [],
   "source": [
    "n_updates = 20\n",
    "mse_hist = []\n",
    "\n",
    "# Iterate over the number of updates\n",
    "for i in range(n_updates):\n",
    "    # Calculate the slope: slope\n",
    "    # get_slope() is a pre-defined function\n",
    "    slope = get_slope(input_data, target, weights)\n",
    "    \n",
    "    # Update the weights: weights\n",
    "    # Learning rate = 0.01\n",
    "    weights = weights - 0.01 * slope\n",
    "    \n",
    "    # Calculate mse with new weights: mse\n",
    "    mse = get_mse(input_data, target, weights)\n",
    "    \n",
    "    # Append the mse to mse_hist\n",
    "    mse_hist.append(mse)\n",
    "\n",
    "# Plot the mse history\n",
    "plt.plot(mse_hist)\n",
    "plt.xlabel('Iterations')\n",
    "plt.ylabel('Mean Squared Error')\n",
    "plt.show()\n",
    "\n",
    "# In the plot, you can see the mean squared error decreases as the \n",
    "# number of iterations go up."
   ]
  },
  {
   "cell_type": "markdown",
   "metadata": {},
   "source": [
    "<img src=\"image5.png\" width=\"500\" />"
   ]
  },
  {
   "cell_type": "markdown",
   "metadata": {},
   "source": [
    "### 2.2 Backpropagation\n",
    "- use backpropagation to calculate the slopes you need to optimize more complex deep learning models\n",
    "- Backpropagation - takes error from output layer and propates through hidden layers to input\n",
    "- Allows gradient descent to update all weights in neural network (by getting gradients for all weights)\n",
    "- Important to understand the process, but you will generally use a library that implements this.\n",
    "\n",
    "Backpropoagation process\n",
    "- trying to estimate the slope of the loss function w.r.t. each weight\n",
    "- Do forward propagation to calculate predictions and errors, before you do backpropagation\n",
    "- Go back one layer at a time\n",
    "- Gradients for weight (to get slope) is product of:\n",
    "    1. Input node value - Node value feeding into that weight\n",
    "        - input node is given from data\n",
    "        - hidden nodes are calculated from forward propagation\n",
    "    2. Slope of loss function w.r.t. output node it feeds into\n",
    "    3. Slope of activation function at the node it feeds into\n",
    "- Need to also keep track of the slopes of the loss function w.r.t. node values\n",
    "- Slope of node values are the sum of the slopes for all weights that come out of them.\n",
    "\n",
    "ReLU activation function\n",
    "- slope = 0 if value is negatie\n",
    "- slope = 1 if value positive\n"
   ]
  },
  {
   "cell_type": "markdown",
   "metadata": {},
   "source": [
    "### 2.2.a The relationship b/n forward and backward propagation\n",
    "If you have gone through 4 iterations of calculating slopes (using backward propagation) and then updated weights, how many times must you have done forward propagation?\n",
    "\n",
    "4\n",
    "\n",
    "Each time you generate predictions using forward propagation, you update the weights using backward propagation."
   ]
  },
  {
   "cell_type": "markdown",
   "metadata": {},
   "source": [
    "### 2.2.b Thinking about backward propagation\n",
    "If your predictions were all exactly right, and your errors were all exactly 0, the slope of the loss function with respect to your predictions would also be 0. In that circumstance, which of the following statements would be correct?\n",
    "\n",
    "The updates to all weights in the network would also be 0."
   ]
  },
  {
   "cell_type": "markdown",
   "metadata": {},
   "source": [
    "### 2.3 Backpropagation in practice\n",
    "Example:\n",
    "- node 0 value = 1\n",
    "- node 1 value = 3\n",
    "- weight 0 = 1\n",
    "- weight 1 = 2\n",
    "- output = 7, actual target value = 4\n",
    "    - error = 3\n",
    "    - relevant slope of output node = 2x error, 2*3 = 6\n",
    "- Top weight slope = 1*6 = 6\n",
    "- Bottom weight slope = 3*6 = 18\n",
    "- Calculate one layer back\n",
    "    - top node = 6\n",
    "    - bottom mode = 18\n",
    "    - \n",
    "Recall: Calculating slopes associated with any weight\n",
    "- Recall Gradients for weight is product of:\n",
    "    1. Input node value - Node value feeding into that weight\n",
    "        - input node is given from data\n",
    "        - hidden nodes are calculated from forward propagation\n",
    "    2. Slope of loss function w.r.t. output node it feeds into\n",
    "    3. Slope of activation function at the node it feeds into\n",
    "\n",
    "Backpropagation \n",
    "- Current weight value, Gradient\n",
    "    - 0, 0\n",
    "    - 1, 6\n",
    "    - 2, 0\n",
    "    - 3, 18\n",
    "    \n",
    "Backpropagation recap:\n",
    "- start at some random set of weights\n",
    "- use forward propagation to calculate the slope of the loss function w.r.t. each weight\n",
    "- multiply that slope by the learning rate, and subtract from the current weights\n",
    "- Repeat cycle until we get to a flat part\n",
    "\n",
    "Stochastic gradient descent\n",
    "- it's common to calculate slopes on only a subset of the data ('batch')\n",
    "- use a different batch of data to calculate the next update\n",
    "- once you've used all data, start over from the beginning\n",
    "- each time through the training data is called an epoch\n",
    "- when slopes are calculated on one batch at a time = stochastic gradient descent\n"
   ]
  },
  {
   "cell_type": "markdown",
   "metadata": {},
   "source": [
    "### A round of backpropagation\n",
    "In the network shown below, we have done forward propagation, and node values calculated as part of forward propagation are shown in white. The weights are shown in black. Layers after the question mark show the slopes calculated as part of back-prop, rather than the forward-prop values. Those slope values are shown in purple.\n",
    "\n",
    "This network again uses the ReLU activation function, so the slope of the activation function is 1 for any node receiving a positive value as input. Assume the node being examined had a positive value (so the activation function's slope is 1).\n",
    "\n",
    "<img src=\"image6.png\" width=\"500\" />\n",
    "Reference: https://s3.amazonaws.com/assets.datacamp.com/production/course_3524/datasets/ch2ex14_1.png\n",
    "\n",
    "Recall: Gradients for weight (to get slope) is product of:\n",
    "- Input node value\n",
    "    - 2\n",
    "- Slope of loss function w.r.t. output node it feeds into\n",
    "    - 3\n",
    "- Slope of activation function at the node it feeds into\n",
    "    - ReLU slope = 1\n",
    "\n",
    "What is the slope needed to update the weight with the question mark?\n",
    "\n",
    "<img src=\"image7.png\" width=\"500\" />\n",
    "Reference: https://s3.amazonaws.com/assets.datacamp.com/production/course_3524/datasets/ch2ex14_2.png\n",
    "\n",
    "Answer: 2x3 = 6, which is the weight"
   ]
  },
  {
   "cell_type": "markdown",
   "metadata": {},
   "source": [
    "# 3. Building Deep Learning models with keras\n",
    "Model building steps\n",
    "1. specify architecture\n",
    "    - how many layers\n",
    "    - how many nodes in each layer\n",
    "    - what activation function at each layer\n",
    "2. compile model\n",
    "    - specify loss functions\n",
    "    - details on optimization\n",
    "3. Fit\n",
    "    - cycle of backpropagation and optimization of model weights\n",
    "4. Predict\n"
   ]
  },
  {
   "cell_type": "markdown",
   "metadata": {},
   "source": [
    "### 3.1 Step 1: Model specification"
   ]
  },
  {
   "cell_type": "code",
   "execution_count": null,
   "metadata": {},
   "outputs": [],
   "source": [
    "import numpy as np\n",
    "from keras.layers import Dense\n",
    "from keras.models import Sequential\n",
    "\n",
    "# read data\n",
    "# n_cols = number of nodes in input layer\n",
    "predictors = np.loadtext('predictors_data.csv', delimiter=',')\n",
    "n_cols = predictors.shape[1]\n",
    "\n",
    "# build model - Sequential is the easier of 2 ways to build a model\n",
    "# Sequential specifies weights only to 1 layer directly after it\n",
    "model = Sequential()\n",
    "# .add method adds layers\n",
    "# Called Dense b/c all nodes from previous layer connect to current layer\n",
    "# You may use layers that are not Dense\n",
    "# .Dense(number of layers, activation=activation function)\n",
    "# In first layer, you need to specify input_shape\n",
    "# Input_shape(n_cols columns, nothing here specifies any number of rows)\n",
    "# The last layer has 1 node b/c it's the output layer\n",
    "# This model has 2 hidden layers\n",
    "# Common to use 100s or 1000s of nodes in a layer\n",
    "model.add(Dense(100, activation='relu', input_shape = (n_cols,)))\n",
    "model.add(Dense(100, activation='relu'))\n",
    "model.add(Dense(1))"
   ]
  },
  {
   "cell_type": "code",
   "execution_count": null,
   "metadata": {},
   "outputs": [],
   "source": [
    "# Model specification - code without notes\n",
    "import numpy as np\n",
    "from keras.layers import Dense\n",
    "from keras.models import Sequential\n",
    "\n",
    "# read data\n",
    "predictors = np.loadtext('predictors_data.csv', delimiter=',')\n",
    "n_cols = predictors.shape[1]\n",
    "\n",
    "# build model\n",
    "model = Sequential()\n",
    "# add layers\n",
    "model.add(Dense(100, activation='relu', input_shape = (n_cols,)))\n",
    "model.add(Dense(100, activation='relu'))\n",
    "model.add(Dense(1))"
   ]
  },
  {
   "cell_type": "markdown",
   "metadata": {},
   "source": [
    "#### Example: Understanding your data\n",
    "You will soon start building models in Keras to predict wages based on various professional and demographic factors. Before you start building a model, it's good to understand your data by performing some exploratory analysis.\n",
    "\n",
    "The data is pre-loaded into a pandas DataFrame called df. Use the .head() and .describe() methods in the IPython Shell for a quick overview of the DataFrame.\n",
    "\n",
    "The target variable you'll be predicting is wage_per_hour. Some of the predictor variables are binary indicators, where a value of 1 represents True, and 0 represents False.\n",
    "\n",
    "Of the 9 predictor variables in the DataFrame, how many are binary indicators? The min and max values as shown by .describe() will be informative here. How many binary indicator predictors are there?\n",
    "\n",
    "Answer: 6"
   ]
  },
  {
   "cell_type": "code",
   "execution_count": null,
   "metadata": {},
   "outputs": [],
   "source": [
    "In [1]: df.head()\n",
    "Out[1]: \n",
    "   wage_per_hour  union  education_yrs  experience_yrs  age  female  marr  \\\n",
    "0           5.10      0              8              21   35       1     1   \n",
    "1           4.95      0              9              42   57       1     1   \n",
    "2           6.67      0             12               1   19       0     0   \n",
    "3           4.00      0             12               4   22       0     0   \n",
    "4           7.50      0             12              17   35       0     1   \n",
    "\n",
    "   south  manufacturing  construction  \n",
    "0      0              1             0  \n",
    "1      0              1             0  \n",
    "2      0              1             0  \n",
    "3      0              0             0  \n",
    "4      0              0             0\n",
    "\n",
    "In [2]: df.describe()\n",
    "Out[2]: \n",
    "       wage_per_hour       union  education_yrs  experience_yrs         age  \\\n",
    "count     534.000000  534.000000     534.000000      534.000000  534.000000   \n",
    "mean        9.024064    0.179775      13.018727       17.822097   36.833333   \n",
    "std         5.139097    0.384360       2.615373       12.379710   11.726573   \n",
    "min         1.000000    0.000000       2.000000        0.000000   18.000000   \n",
    "25%         5.250000    0.000000      12.000000        8.000000   28.000000   \n",
    "50%         7.780000    0.000000      12.000000       15.000000   35.000000   \n",
    "75%        11.250000    0.000000      15.000000       26.000000   44.000000   \n",
    "max        44.500000    1.000000      18.000000       55.000000   64.000000   \n",
    "\n",
    "           female        marr       south  manufacturing  construction  \n",
    "count  534.000000  534.000000  534.000000     534.000000    534.000000  \n",
    "mean     0.458801    0.655431    0.292135       0.185393      0.044944  \n",
    "std      0.498767    0.475673    0.455170       0.388981      0.207375  \n",
    "min      0.000000    0.000000    0.000000       0.000000      0.000000  \n",
    "25%      0.000000    0.000000    0.000000       0.000000      0.000000  \n",
    "50%      0.000000    1.000000    0.000000       0.000000      0.000000  \n",
    "75%      1.000000    1.000000    1.000000       0.000000      0.000000  \n",
    "max      1.000000    1.000000    1.000000       1.000000      1.000000"
   ]
  },
  {
   "cell_type": "markdown",
   "metadata": {},
   "source": [
    "#### Example: Specifying a model\n",
    "Now you'll get to work with your first model in Keras, and will immediately be able to run more complex neural network models on larger datasets compared to the first two chapters.\n",
    "\n",
    "To start, you'll take the skeleton of a neural network and add a hidden layer and an output layer. You'll then fit that model and see Keras do the optimization so your model continually gets better.\n",
    "\n",
    "As a start, you'll predict workers wages based on characteristics like their industry, education and level of experience. You can find the dataset in a pandas dataframe called df. For convenience, everything in df except for the target has been converted to a NumPy matrix called predictors. The target, wage_per_hour, is available as a NumPy matrix called target.\n",
    "\n",
    "For all exercises in this chapter, we've imported the Sequential model constructor, the Dense layer constructor, and pandas."
   ]
  },
  {
   "cell_type": "code",
   "execution_count": null,
   "metadata": {},
   "outputs": [],
   "source": [
    "# Import necessary modules\n",
    "import keras\n",
    "from keras.layers import Dense\n",
    "from keras.models import Sequential\n",
    "\n",
    "# Save the number of columns in predictors: n_cols\n",
    "n_cols = predictors.shape[1]\n",
    "\n",
    "# Set up the model: model\n",
    "model = Sequential()\n",
    "\n",
    "# Add the first layer\n",
    "# input_shape parameter to be the tuple (n_cols,) which means it has \n",
    "# n_cols items in each row of data, and any number of rows of data \n",
    "# are acceptable as inputs\n",
    "model.add(Dense(50, activation='relu', input_shape=(n_cols,)))\n",
    "\n",
    "# Add the second layer\n",
    "model.add(Dense(32, activation='relu'))\n",
    "\n",
    "# Add the output layer\n",
    "model.add(Dense(1))\n"
   ]
  },
  {
   "cell_type": "markdown",
   "metadata": {},
   "source": [
    "### 3.2 Step 2 and 3: Compiling and fitting a model\n",
    "Why you need to compile a model - 2 args\n",
    "- Specify the optimizer\n",
    "    - Controls the learning rate\n",
    "    - many options and mathematically complex\n",
    "        - pragmatic solution: use a versatile algorithm for most problems\n",
    "        - \"Adam\" is usually a good choice as go-to optimizer\n",
    "            - adjusts learning rate as it does gradient descent to ensure reasonable values throughout weight optimization process\n",
    "- Loss function\n",
    "    - \"mean_squared_error\" common for regression\n",
    "    - use a different method for classification (see below)\n",
    "    \n",
    "Compiling a model - after specifying layers\n",
    "- model.compile(optimizer='adam', loss='mean_squared_error')\n",
    "\n",
    "Fitting a model\n",
    "- applying backpropagation and gradient descent with your data to update the weights\n",
    "- similar to .fit() in sklearn but has more options\n",
    "- Note: Scaling data before fitting can ease optimization\n",
    "    - common approach: subtract each feature by feature mean and divide by std dev\n",
    "- model.fit(predictors, target)"
   ]
  },
  {
   "cell_type": "code",
   "execution_count": null,
   "metadata": {},
   "outputs": [],
   "source": [
    "# compile the model\n",
    "model.compile(optimizer='adam', loss='mean_squared_error')\n",
    "\n",
    "# fit the model\n",
    "model.fit(predictors, target)"
   ]
  },
  {
   "cell_type": "markdown",
   "metadata": {},
   "source": [
    "#### Example: Compiling the model\n",
    "You're now going to compile the model you specified earlier. To compile the model, you need to specify the optimizer and loss function to use. In the video, Dan mentioned that the Adam optimizer is an excellent choice. You can read more about it as well as other keras optimizers here (https://keras.io/optimizers/#adam), and if you are really curious to learn more, you can read the original paper that introduced the Adam optimizer (https://arxiv.org/abs/1412.6980v8).\n",
    "\n",
    "In this exercise, you'll use the Adam optimizer and the mean squared error loss function. Go for it! "
   ]
  },
  {
   "cell_type": "code",
   "execution_count": null,
   "metadata": {},
   "outputs": [],
   "source": [
    "# Import necessary modules\n",
    "import keras\n",
    "from keras.layers import Dense\n",
    "from keras.models import Sequential\n",
    "\n",
    "# Specify the model\n",
    "n_cols = predictors.shape[1]\n",
    "model = Sequential()\n",
    "model.add(Dense(50, activation='relu', input_shape = (n_cols,)))\n",
    "model.add(Dense(32, activation='relu'))\n",
    "model.add(Dense(1))\n",
    "\n",
    "# Compile the model\n",
    "model.compile(optimizer='adam', loss='mean_squared_error')\n",
    "\n",
    "# Verify that model contains information from compiling\n",
    "print(\"Loss function: \" + model.loss)\n",
    "# Loss function: mean_squared_error"
   ]
  },
  {
   "cell_type": "markdown",
   "metadata": {},
   "source": [
    "#### Example: Fitting the model\n",
    "You're at the most fun part. You'll now fit the model. Recall that the data to be used as predictive features is loaded in a NumPy matrix called predictors and the data to be predicted is stored in a NumPy matrix called target. Your model is pre-written and it has been compiled with the code from the previous exercise."
   ]
  },
  {
   "cell_type": "code",
   "execution_count": null,
   "metadata": {},
   "outputs": [],
   "source": [
    "# Import necessary modules\n",
    "import keras\n",
    "from keras.layers import Dense\n",
    "from keras.models import Sequential\n",
    "\n",
    "# Specify the model\n",
    "n_cols = predictors.shape[1]\n",
    "model = Sequential()\n",
    "model.add(Dense(50, activation='relu', input_shape = (n_cols,)))\n",
    "model.add(Dense(32, activation='relu'))\n",
    "model.add(Dense(1))\n",
    "\n",
    "# Compile the model\n",
    "model.compile(optimizer='adam', loss='mean_squared_error')\n",
    "\n",
    "# Fit the model\n",
    "model.fit(predictors, target)\n"
   ]
  },
  {
   "cell_type": "markdown",
   "metadata": {},
   "source": [
    "### 3.3 Classification models - with Deep Learning\n",
    "Classification - note biggest changes\n",
    "- loss function: 'categorical_crossentropy'\n",
    "    - instead of 'mean_squared_error' in above example\n",
    "    - there are other options, but it's the most common\n",
    "    - similar to log loss: Lower score is better\n",
    "    - add metrics=['accuracy'] to compile step for easy to understand diagnostics\n",
    "- Output layer has separate node for each possible outcomes and uses 'softmax' activation function\n",
    "    - 'softmax' ensures predictions sum to 1 so they can be interpreted as probabilities\n",
    "    \n",
    "Quick look at the data - binary classification problem\n",
    "- target (0 or 1): shot_result\n",
    "    - normally use separate column for each output - use keras function\n",
    "- Transforming to categorical using one-hot encoding\n"
   ]
  },
  {
   "cell_type": "code",
   "execution_count": null,
   "metadata": {},
   "outputs": [],
   "source": [
    "# keras Classification\n",
    "from keras.utils import to_categorical\n",
    "data = pd.read_csv('basketball_shot_log.csv')\n",
    "predictors = data.drop(['shot_result'], axis=1).as_matrix()\n",
    "# one-hot encoding of target variables\n",
    "target = to_categorical(data.shot_results)\n",
    "\n",
    "model = Sequential()\n",
    "model.add(Dense(100, activation='relu', input_shape = (n_cols,)))\n",
    "model.add(Dense(100, activation='relu'))\n",
    "# note: 2 nodes for 2 outcomes, and 'softmax' activation function\n",
    "model.add(Dense(2), activation = 'softmax')\n",
    "\n",
    "# Compile the model using categorical_crossentropy loss function\n",
    "model.compile(optimizer='adam', loss='categorical_crossentropy',\n",
    "              metrics=['accuracy'])\n",
    "\n",
    "# Fit the model\n",
    "model.fit(predictors, target)"
   ]
  },
  {
   "cell_type": "markdown",
   "metadata": {},
   "source": [
    "#### 3.3.a  Understanding your classification data\n",
    "Now you will start modeling with a new dataset for a classification problem. This data includes information about passengers on the Titanic. You will use predictors such as age, fare and where each passenger embarked from to predict who will survive. This data is from a tutorial on data science competitions (https://www.kaggle.com/c/titanic). Look here (https://www.kaggle.com/c/titanic/data) for descriptions of the features.\n",
    "\n",
    "The data is pre-loaded in a pandas DataFrame called df.\n",
    "\n",
    "It's smart to review the maximum and minimum values of each variable to ensure the data isn't misformatted or corrupted. \n",
    "\n",
    "What was the maximum age of passengers on the Titanic? \n",
    "- Use the .describe() method in the IPython Shell to answer this question."
   ]
  },
  {
   "cell_type": "code",
   "execution_count": null,
   "metadata": {},
   "outputs": [],
   "source": [
    "In [1]: df.describe()\n",
    "Out[1]: \n",
    "         survived      pclass         age       sibsp       parch        fare  \\\n",
    "count  891.000000  891.000000  891.000000  891.000000  891.000000  891.000000   \n",
    "mean     0.383838    2.308642   29.699118    0.523008    0.381594   32.204208   \n",
    "std      0.486592    0.836071   13.002015    1.102743    0.806057   49.693429   \n",
    "min      0.000000    1.000000    0.420000    0.000000    0.000000    0.000000   \n",
    "25%      0.000000    2.000000   22.000000    0.000000    0.000000    7.910400   \n",
    "50%      0.000000    3.000000   29.699118    0.000000    0.000000   14.454200   \n",
    "75%      1.000000    3.000000   35.000000    1.000000    0.000000   31.000000   \n",
    "max      1.000000    3.000000   80.000000    8.000000    6.000000  512.329200   \n",
    "\n",
    "             male  embarked_from_cherbourg  embarked_from_queenstown  \\\n",
    "count  891.000000               891.000000                891.000000   \n",
    "mean     0.647587                 0.188552                  0.086420   \n",
    "std      0.477990                 0.391372                  0.281141   \n",
    "min      0.000000                 0.000000                  0.000000   \n",
    "25%      0.000000                 0.000000                  0.000000   \n",
    "50%      1.000000                 0.000000                  0.000000   \n",
    "75%      1.000000                 0.000000                  0.000000   \n",
    "max      1.000000                 1.000000                  1.000000   \n",
    "\n",
    "       embarked_from_southampton  \n",
    "count                 891.000000  \n",
    "mean                    0.722783  \n",
    "std                     0.447876  \n",
    "min                     0.000000  \n",
    "25%                     0.000000  \n",
    "50%                     1.000000  \n",
    "75%                     1.000000  \n",
    "max                     1.000000"
   ]
  },
  {
   "cell_type": "markdown",
   "metadata": {},
   "source": [
    "Answer: 80"
   ]
  },
  {
   "cell_type": "markdown",
   "metadata": {},
   "source": [
    "#### 3.3.b  Last steps in classification models\n",
    "You'll now create a classification model using the titanic dataset, which has been pre-loaded into a DataFrame called df. You'll take information about the passengers and predict which ones survived.\n",
    "\n",
    "The predictive variables are stored in a NumPy array predictors. The target to predict is in df.survived, though you'll have to manipulate it for keras. The number of predictive features is stored in n_cols.\n",
    "\n",
    "Here, you'll use the 'sgd' optimizer, which stands for Stochastic Gradient Descent (https://en.wikipedia.org/wiki/Stochastic_gradient_descent). You'll learn more about this in the next chapter!"
   ]
  },
  {
   "cell_type": "code",
   "execution_count": null,
   "metadata": {},
   "outputs": [],
   "source": [
    "# Import necessary modules\n",
    "import keras\n",
    "from keras.layers import Dense\n",
    "from keras.models import Sequential\n",
    "from keras.utils import to_categorical\n",
    "\n",
    "# Convert the target to categorical: target\n",
    "target = to_categorical(df.survived)\n",
    "\n",
    "# Set up the model\n",
    "model = Sequential()\n",
    "\n",
    "# Add the first layer\n",
    "model.add(Dense(32,activation='relu', input_shape=(n_cols,)))\n",
    "\n",
    "# Add the output layer\n",
    "model.add(Dense(2,activation='softmax'))\n",
    "\n",
    "# Compile the model\n",
    "model.compile(optimizer='sgd',loss='categorical_crossentropy',\n",
    "metrics=['accuracy'])\n",
    "\n",
    "# Fit the model\n",
    "model.fit(predictors, target)\n"
   ]
  },
  {
   "cell_type": "code",
   "execution_count": null,
   "metadata": {},
   "outputs": [],
   "source": [
    "# output\n",
    "Epoch 1/10\n",
    "\n",
    " 32/891 [>.............................] - ETA: 0s - loss: 8.3484 - acc: 0.4062\b\b\b\b\b\b\b\b\b\b\b\b\b\b\b\b\b\b\b\b\b\b\b\b\b\b\b\b\b\b\b\b\b\b\b\b\b\b\b\b\b\b\b\b\b\b\b\b\b\b\b\b\b\b\b\b\b\b\b\b\b\b\b\b\b\b\b\b\b\b\b\b\b\b\b\b\b\b\b\n",
    "736/891 [=======================>......] - ETA: 0s - loss: 2.5633 - acc: 0.5516\b\b\b\b\b\b\b\b\b\b\b\b\b\b\b\b\b\b\b\b\b\b\b\b\b\b\b\b\b\b\b\b\b\b\b\b\b\b\b\b\b\b\b\b\b\b\b\b\b\b\b\b\b\b\b\b\b\b\b\b\b\b\b\b\b\b\b\b\b\b\b\b\b\b\b\b\b\b\b\n",
    "891/891 [==============================] - 0s - loss: 2.2398 - acc: 0.5859     \n",
    "Epoch 2/10\n",
    "\n",
    " 32/891 [>.............................] - ETA: 0s - loss: 1.3865 - acc: 0.6250\b\b\b\b\b\b\b\b\b\b\b\b\b\b\b\b\b\b\b\b\b\b\b\b\b\b\b\b\b\b\b\b\b\b\b\b\b\b\b\b\b\b\b\b\b\b\b\b\b\b\b\b\b\b\b\b\b\b\b\b\b\b\b\b\b\b\b\b\b\b\b\b\b\b\b\b\b\b\b\n",
    "736/891 [=======================>......] - ETA: 0s - loss: 0.9423 - acc: 0.6196\b\b\b\b\b\b\b\b\b\b\b\b\b\b\b\b\b\b\b\b\b\b\b\b\b\b\b\b\b\b\b\b\b\b\b\b\b\b\b\b\b\b\b\b\b\b\b\b\b\b\b\b\b\b\b\b\b\b\b\b\b\b\b\b\b\b\b\b\b\b\b\b\b\b\b\b\b\b\b\n",
    "891/891 [==============================] - 0s - loss: 0.9276 - acc: 0.6150     \n",
    "Epoch 3/10\n",
    "\n",
    " 32/891 [>.............................] - ETA: 0s - loss: 0.9685 - acc: 0.6562\b\b\b\b\b\b\b\b\b\b\b\b\b\b\b\b\b\b\b\b\b\b\b\b\b\b\b\b\b\b\b\b\b\b\b\b\b\b\b\b\b\b\b\b\b\b\b\b\b\b\b\b\b\b\b\b\b\b\b\b\b\b\b\b\b\b\b\b\b\b\b\b\b\b\b\b\b\b\b\n",
    "736/891 [=======================>......] - ETA: 0s - loss: 0.6606 - acc: 0.6658\b\b\b\b\b\b\b\b\b\b\b\b\b\b\b\b\b\b\b\b\b\b\b\b\b\b\b\b\b\b\b\b\b\b\b\b\b\b\b\b\b\b\b\b\b\b\b\b\b\b\b\b\b\b\b\b\b\b\b\b\b\b\b\b\b\b\b\b\b\b\b\b\b\b\b\b\b\b\b\n",
    "891/891 [==============================] - 0s - loss: 0.6770 - acc: 0.6465     \n",
    "Epoch 4/10\n",
    "\n",
    " 32/891 [>.............................] - ETA: 0s - loss: 0.6190 - acc: 0.5938\b\b\b\b\b\b\b\b\b\b\b\b\b\b\b\b\b\b\b\b\b\b\b\b\b\b\b\b\b\b\b\b\b\b\b\b\b\b\b\b\b\b\b\b\b\b\b\b\b\b\b\b\b\b\b\b\b\b\b\b\b\b\b\b\b\b\b\b\b\b\b\b\b\b\b\b\b\b\b\n",
    "736/891 [=======================>......] - ETA: 0s - loss: 0.6970 - acc: 0.6549\b\b\b\b\b\b\b\b\b\b\b\b\b\b\b\b\b\b\b\b\b\b\b\b\b\b\b\b\b\b\b\b\b\b\b\b\b\b\b\b\b\b\b\b\b\b\b\b\b\b\b\b\b\b\b\b\b\b\b\b\b\b\b\b\b\b\b\b\b\b\b\b\b\b\b\b\b\b\b\n",
    "891/891 [==============================] - 0s - loss: 0.6720 - acc: 0.6712     \n",
    "Epoch 5/10\n",
    "\n",
    " 32/891 [>.............................] - ETA: 0s - loss: 0.8023 - acc: 0.5625\b\b\b\b\b\b\b\b\b\b\b\b\b\b\b\b\b\b\b\b\b\b\b\b\b\b\b\b\b\b\b\b\b\b\b\b\b\b\b\b\b\b\b\b\b\b\b\b\b\b\b\b\b\b\b\b\b\b\b\b\b\b\b\b\b\b\b\b\b\b\b\b\b\b\b\b\b\b\b\n",
    "736/891 [=======================>......] - ETA: 0s - loss: 0.6204 - acc: 0.6739\b\b\b\b\b\b\b\b\b\b\b\b\b\b\b\b\b\b\b\b\b\b\b\b\b\b\b\b\b\b\b\b\b\b\b\b\b\b\b\b\b\b\b\b\b\b\b\b\b\b\b\b\b\b\b\b\b\b\b\b\b\b\b\b\b\b\b\b\b\b\b\b\b\b\b\b\b\b\b\n",
    "891/891 [==============================] - 0s - loss: 0.6173 - acc: 0.6756     \n",
    "Epoch 6/10\n",
    "\n",
    " 32/891 [>.............................] - ETA: 0s - loss: 0.6783 - acc: 0.5625\b\b\b\b\b\b\b\b\b\b\b\b\b\b\b\b\b\b\b\b\b\b\b\b\b\b\b\b\b\b\b\b\b\b\b\b\b\b\b\b\b\b\b\b\b\b\b\b\b\b\b\b\b\b\b\b\b\b\b\b\b\b\b\b\b\b\b\b\b\b\b\b\b\b\b\b\b\b\b\n",
    "736/891 [=======================>......] - ETA: 0s - loss: 0.6219 - acc: 0.6766\b\b\b\b\b\b\b\b\b\b\b\b\b\b\b\b\b\b\b\b\b\b\b\b\b\b\b\b\b\b\b\b\b\b\b\b\b\b\b\b\b\b\b\b\b\b\b\b\b\b\b\b\b\b\b\b\b\b\b\b\b\b\b\b\b\b\b\b\b\b\b\b\b\b\b\b\b\b\b\n",
    "891/891 [==============================] - 0s - loss: 0.6169 - acc: 0.6902     \n",
    "Epoch 7/10\n",
    "\n",
    " 32/891 [>.............................] - ETA: 0s - loss: 0.4871 - acc: 0.8125\b\b\b\b\b\b\b\b\b\b\b\b\b\b\b\b\b\b\b\b\b\b\b\b\b\b\b\b\b\b\b\b\b\b\b\b\b\b\b\b\b\b\b\b\b\b\b\b\b\b\b\b\b\b\b\b\b\b\b\b\b\b\b\b\b\b\b\b\b\b\b\b\b\b\b\b\b\b\b\n",
    "736/891 [=======================>......] - ETA: 0s - loss: 0.6215 - acc: 0.6590\b\b\b\b\b\b\b\b\b\b\b\b\b\b\b\b\b\b\b\b\b\b\b\b\b\b\b\b\b\b\b\b\b\b\b\b\b\b\b\b\b\b\b\b\b\b\b\b\b\b\b\b\b\b\b\b\b\b\b\b\b\b\b\b\b\b\b\b\b\b\b\b\b\b\b\b\b\b\b\n",
    "891/891 [==============================] - 0s - loss: 0.6146 - acc: 0.6712     \n",
    "Epoch 8/10\n",
    "\n",
    " 32/891 [>.............................] - ETA: 0s - loss: 0.6327 - acc: 0.6250\b\b\b\b\b\b\b\b\b\b\b\b\b\b\b\b\b\b\b\b\b\b\b\b\b\b\b\b\b\b\b\b\b\b\b\b\b\b\b\b\b\b\b\b\b\b\b\b\b\b\b\b\b\b\b\b\b\b\b\b\b\b\b\b\b\b\b\b\b\b\b\b\b\b\b\b\b\b\b\n",
    "736/891 [=======================>......] - ETA: 0s - loss: 0.5996 - acc: 0.6970\b\b\b\b\b\b\b\b\b\b\b\b\b\b\b\b\b\b\b\b\b\b\b\b\b\b\b\b\b\b\b\b\b\b\b\b\b\b\b\b\b\b\b\b\b\b\b\b\b\b\b\b\b\b\b\b\b\b\b\b\b\b\b\b\b\b\b\b\b\b\b\b\b\b\b\b\b\b\b\n",
    "891/891 [==============================] - 0s - loss: 0.6023 - acc: 0.6902     \n",
    "Epoch 9/10\n",
    "\n",
    " 32/891 [>.............................] - ETA: 0s - loss: 0.4249 - acc: 0.8438\b\b\b\b\b\b\b\b\b\b\b\b\b\b\b\b\b\b\b\b\b\b\b\b\b\b\b\b\b\b\b\b\b\b\b\b\b\b\b\b\b\b\b\b\b\b\b\b\b\b\b\b\b\b\b\b\b\b\b\b\b\b\b\b\b\b\b\b\b\b\b\b\b\b\b\b\b\b\b\n",
    "736/891 [=======================>......] - ETA: 0s - loss: 0.6173 - acc: 0.6861\b\b\b\b\b\b\b\b\b\b\b\b\b\b\b\b\b\b\b\b\b\b\b\b\b\b\b\b\b\b\b\b\b\b\b\b\b\b\b\b\b\b\b\b\b\b\b\b\b\b\b\b\b\b\b\b\b\b\b\b\b\b\b\b\b\b\b\b\b\b\b\b\b\b\b\b\b\b\b\n",
    "891/891 [==============================] - 0s - loss: 0.6157 - acc: 0.6835     \n",
    "Epoch 10/10\n",
    "\n",
    " 32/891 [>.............................] - ETA: 0s - loss: 0.5451 - acc: 0.6875\b\b\b\b\b\b\b\b\b\b\b\b\b\b\b\b\b\b\b\b\b\b\b\b\b\b\b\b\b\b\b\b\b\b\b\b\b\b\b\b\b\b\b\b\b\b\b\b\b\b\b\b\b\b\b\b\b\b\b\b\b\b\b\b\b\b\b\b\b\b\b\b\b\b\b\b\b\b\b\n",
    "736/891 [=======================>......] - ETA: 0s - loss: 0.6051 - acc: 0.6902\b\b\b\b\b\b\b\b\b\b\b\b\b\b\b\b\b\b\b\b\b\b\b\b\b\b\b\b\b\b\b\b\b\b\b\b\b\b\b\b\b\b\b\b\b\b\b\b\b\b\b\b\b\b\b\b\b\b\b\b\b\b\b\b\b\b\b\b\b\b\b\b\b\b\b\b\b\b\b\n",
    "891/891 [==============================] - 0s - loss: 0.6069 - acc: 0.6925\n",
    "Out[1]: <keras.callbacks.History at 0x7f88fc07f0f0>\n",
    "\n",
    "\n",
    "# This simple model is generating an accuracy of 68!"
   ]
  },
  {
   "cell_type": "markdown",
   "metadata": {},
   "source": [
    "### 3.4 Using models\n",
    "- SAVE model after you train it\n",
    "- RELOAD model\n",
    "- Make PREDICTIONS with model\n"
   ]
  },
  {
   "cell_type": "code",
   "execution_count": null,
   "metadata": {},
   "outputs": [],
   "source": [
    "# saving, reloading, and using your model\n",
    "from keras.models import load_model\n",
    "model.save('model_file.h5')\n",
    "my_model = load_model('my_model.h5')\n",
    "predictions = my_model.predict(data_to_predict_with)\n",
    "# using NumPy indexing, only get probability that the show was made\n",
    "probability_true = predictions[:,1]"
   ]
  },
  {
   "cell_type": "markdown",
   "metadata": {},
   "source": [
    "### 3.5 Verifying model structure"
   ]
  },
  {
   "cell_type": "code",
   "execution_count": null,
   "metadata": {},
   "outputs": [],
   "source": [
    "my_model.summary()"
   ]
  },
  {
   "cell_type": "markdown",
   "metadata": {},
   "source": [
    "### 3.6 Making predictions\n",
    "The trained network from your previous coding exercise is now stored as model. New data to make predictions is stored in a NumPy array as pred_data. Use model to make predictions on your new data.\n",
    "\n",
    "In this exercise, your predictions will be probabilities, which is the most common way for data scientists to communicate their predictions to colleagues."
   ]
  },
  {
   "cell_type": "code",
   "execution_count": null,
   "metadata": {},
   "outputs": [],
   "source": [
    "# Specify, compile, and fit the model\n",
    "model = Sequential()\n",
    "model.add(Dense(32, activation='relu', input_shape = (n_cols,)))\n",
    "model.add(Dense(2, activation='softmax'))\n",
    "model.compile(optimizer='sgd', \n",
    "              loss='categorical_crossentropy', \n",
    "              metrics=['accuracy'])\n",
    "model.fit(predictors, target)\n",
    "\n",
    "# Calculate predictions: predictions\n",
    "predictions = model.predict(pred_data)\n",
    "\n",
    "# Calculate predicted probability of survival: predicted_prob_true\n",
    "predicted_prob_true = predictions[:,1]\n",
    "\n",
    "# print predicted_prob_true\n",
    "print(predicted_prob_true)\n"
   ]
  },
  {
   "cell_type": "code",
   "execution_count": null,
   "metadata": {},
   "outputs": [],
   "source": [
    "# output\n",
    "\n",
    "Epoch 1/10\n",
    "\n",
    " 32/800 [>.............................] - ETA: 0s - loss: 9.4068 - acc: 0.3438\b\b\b\b\b\b\b\b\b\b\b\b\b\b\b\b\b\b\b\b\b\b\b\b\b\b\b\b\b\b\b\b\b\b\b\b\b\b\b\b\b\b\b\b\b\b\b\b\b\b\b\b\b\b\b\b\b\b\b\b\b\b\b\b\b\b\b\b\b\b\b\b\b\b\b\b\b\b\b\n",
    "736/800 [==========================>...] - ETA: 0s - loss: 2.1078 - acc: 0.5924\b\b\b\b\b\b\b\b\b\b\b\b\b\b\b\b\b\b\b\b\b\b\b\b\b\b\b\b\b\b\b\b\b\b\b\b\b\b\b\b\b\b\b\b\b\b\b\b\b\b\b\b\b\b\b\b\b\b\b\b\b\b\b\b\b\b\b\b\b\b\b\b\b\b\b\b\b\b\b\n",
    "800/800 [==============================] - 0s - loss: 2.0548 - acc: 0.6013     \n",
    "Epoch 2/10\n",
    "\n",
    " 32/800 [>.............................] - ETA: 0s - loss: 0.9343 - acc: 0.5938\b\b\b\b\b\b\b\b\b\b\b\b\b\b\b\b\b\b\b\b\b\b\b\b\b\b\b\b\b\b\b\b\b\b\b\b\b\b\b\b\b\b\b\b\b\b\b\b\b\b\b\b\b\b\b\b\b\b\b\b\b\b\b\b\b\b\b\b\b\b\b\b\b\b\b\b\b\b\b\n",
    "736/800 [==========================>...] - ETA: 0s - loss: 0.9755 - acc: 0.6372\b\b\b\b\b\b\b\b\b\b\b\b\b\b\b\b\b\b\b\b\b\b\b\b\b\b\b\b\b\b\b\b\b\b\b\b\b\b\b\b\b\b\b\b\b\b\b\b\b\b\b\b\b\b\b\b\b\b\b\b\b\b\b\b\b\b\b\b\b\b\b\b\b\b\b\b\b\b\b\n",
    "800/800 [==============================] - 0s - loss: 0.9881 - acc: 0.6362     \n",
    "Epoch 3/10\n",
    "\n",
    " 32/800 [>.............................] - ETA: 0s - loss: 3.1622 - acc: 0.2812\b\b\b\b\b\b\b\b\b\b\b\b\b\b\b\b\b\b\b\b\b\b\b\b\b\b\b\b\b\b\b\b\b\b\b\b\b\b\b\b\b\b\b\b\b\b\b\b\b\b\b\b\b\b\b\b\b\b\b\b\b\b\b\b\b\b\b\b\b\b\b\b\b\b\b\b\b\b\b\n",
    "736/800 [==========================>...] - ETA: 0s - loss: 0.9660 - acc: 0.6576\b\b\b\b\b\b\b\b\b\b\b\b\b\b\b\b\b\b\b\b\b\b\b\b\b\b\b\b\b\b\b\b\b\b\b\b\b\b\b\b\b\b\b\b\b\b\b\b\b\b\b\b\b\b\b\b\b\b\b\b\b\b\b\b\b\b\b\b\b\b\b\b\b\b\b\b\b\b\b\n",
    "800/800 [==============================] - 0s - loss: 0.9560 - acc: 0.6475     \n",
    "Epoch 4/10\n",
    "\n",
    " 32/800 [>.............................] - ETA: 0s - loss: 0.7433 - acc: 0.7812\b\b\b\b\b\b\b\b\b\b\b\b\b\b\b\b\b\b\b\b\b\b\b\b\b\b\b\b\b\b\b\b\b\b\b\b\b\b\b\b\b\b\b\b\b\b\b\b\b\b\b\b\b\b\b\b\b\b\b\b\b\b\b\b\b\b\b\b\b\b\b\b\b\b\b\b\b\b\b\n",
    "736/800 [==========================>...] - ETA: 0s - loss: 0.7070 - acc: 0.6739\b\b\b\b\b\b\b\b\b\b\b\b\b\b\b\b\b\b\b\b\b\b\b\b\b\b\b\b\b\b\b\b\b\b\b\b\b\b\b\b\b\b\b\b\b\b\b\b\b\b\b\b\b\b\b\b\b\b\b\b\b\b\b\b\b\b\b\b\b\b\b\b\b\b\b\b\b\b\b\n",
    "800/800 [==============================] - 0s - loss: 0.7000 - acc: 0.6737     \n",
    "Epoch 5/10\n",
    "\n",
    " 32/800 [>.............................] - ETA: 0s - loss: 0.7013 - acc: 0.7188\b\b\b\b\b\b\b\b\b\b\b\b\b\b\b\b\b\b\b\b\b\b\b\b\b\b\b\b\b\b\b\b\b\b\b\b\b\b\b\b\b\b\b\b\b\b\b\b\b\b\b\b\b\b\b\b\b\b\b\b\b\b\b\b\b\b\b\b\b\b\b\b\b\b\b\b\b\b\b\n",
    "736/800 [==========================>...] - ETA: 0s - loss: 0.6351 - acc: 0.6522\b\b\b\b\b\b\b\b\b\b\b\b\b\b\b\b\b\b\b\b\b\b\b\b\b\b\b\b\b\b\b\b\b\b\b\b\b\b\b\b\b\b\b\b\b\b\b\b\b\b\b\b\b\b\b\b\b\b\b\b\b\b\b\b\b\b\b\b\b\b\b\b\b\b\b\b\b\b\b\n",
    "800/800 [==============================] - 0s - loss: 0.6370 - acc: 0.6562     \n",
    "Epoch 6/10\n",
    "\n",
    " 32/800 [>.............................] - ETA: 0s - loss: 0.7438 - acc: 0.5938\b\b\b\b\b\b\b\b\b\b\b\b\b\b\b\b\b\b\b\b\b\b\b\b\b\b\b\b\b\b\b\b\b\b\b\b\b\b\b\b\b\b\b\b\b\b\b\b\b\b\b\b\b\b\b\b\b\b\b\b\b\b\b\b\b\b\b\b\b\b\b\b\b\b\b\b\b\b\b\n",
    "736/800 [==========================>...] - ETA: 0s - loss: 0.6490 - acc: 0.6332\b\b\b\b\b\b\b\b\b\b\b\b\b\b\b\b\b\b\b\b\b\b\b\b\b\b\b\b\b\b\b\b\b\b\b\b\b\b\b\b\b\b\b\b\b\b\b\b\b\b\b\b\b\b\b\b\b\b\b\b\b\b\b\b\b\b\b\b\b\b\b\b\b\b\b\b\b\b\b\n",
    "800/800 [==============================] - 0s - loss: 0.6406 - acc: 0.6475     \n",
    "Epoch 7/10\n",
    "\n",
    " 32/800 [>.............................] - ETA: 0s - loss: 0.5850 - acc: 0.6562\b\b\b\b\b\b\b\b\b\b\b\b\b\b\b\b\b\b\b\b\b\b\b\b\b\b\b\b\b\b\b\b\b\b\b\b\b\b\b\b\b\b\b\b\b\b\b\b\b\b\b\b\b\b\b\b\b\b\b\b\b\b\b\b\b\b\b\b\b\b\b\b\b\b\b\b\b\b\b\n",
    "736/800 [==========================>...] - ETA: 0s - loss: 0.6513 - acc: 0.6454\b\b\b\b\b\b\b\b\b\b\b\b\b\b\b\b\b\b\b\b\b\b\b\b\b\b\b\b\b\b\b\b\b\b\b\b\b\b\b\b\b\b\b\b\b\b\b\b\b\b\b\b\b\b\b\b\b\b\b\b\b\b\b\b\b\b\b\b\b\b\b\b\b\b\b\b\b\b\b\n",
    "800/800 [==============================] - 0s - loss: 0.6484 - acc: 0.6450     \n",
    "Epoch 8/10\n",
    "\n",
    " 32/800 [>.............................] - ETA: 0s - loss: 0.6137 - acc: 0.6562\b\b\b\b\b\b\b\b\b\b\b\b\b\b\b\b\b\b\b\b\b\b\b\b\b\b\b\b\b\b\b\b\b\b\b\b\b\b\b\b\b\b\b\b\b\b\b\b\b\b\b\b\b\b\b\b\b\b\b\b\b\b\b\b\b\b\b\b\b\b\b\b\b\b\b\b\b\b\b\n",
    "736/800 [==========================>...] - ETA: 0s - loss: 0.6187 - acc: 0.6658\b\b\b\b\b\b\b\b\b\b\b\b\b\b\b\b\b\b\b\b\b\b\b\b\b\b\b\b\b\b\b\b\b\b\b\b\b\b\b\b\b\b\b\b\b\b\b\b\b\b\b\b\b\b\b\b\b\b\b\b\b\b\b\b\b\b\b\b\b\b\b\b\b\b\b\b\b\b\b\n",
    "800/800 [==============================] - 0s - loss: 0.6316 - acc: 0.6487     \n",
    "Epoch 9/10\n",
    "\n",
    " 32/800 [>.............................] - ETA: 0s - loss: 0.6688 - acc: 0.6250\b\b\b\b\b\b\b\b\b\b\b\b\b\b\b\b\b\b\b\b\b\b\b\b\b\b\b\b\b\b\b\b\b\b\b\b\b\b\b\b\b\b\b\b\b\b\b\b\b\b\b\b\b\b\b\b\b\b\b\b\b\b\b\b\b\b\b\b\b\b\b\b\b\b\b\b\b\b\b\n",
    "736/800 [==========================>...] - ETA: 0s - loss: 0.6231 - acc: 0.6576\b\b\b\b\b\b\b\b\b\b\b\b\b\b\b\b\b\b\b\b\b\b\b\b\b\b\b\b\b\b\b\b\b\b\b\b\b\b\b\b\b\b\b\b\b\b\b\b\b\b\b\b\b\b\b\b\b\b\b\b\b\b\b\b\b\b\b\b\b\b\b\b\b\b\b\b\b\b\b\n",
    "800/800 [==============================] - 0s - loss: 0.6204 - acc: 0.6588     \n",
    "Epoch 10/10\n",
    "\n",
    " 32/800 [>.............................] - ETA: 0s - loss: 0.6003 - acc: 0.6875\b\b\b\b\b\b\b\b\b\b\b\b\b\b\b\b\b\b\b\b\b\b\b\b\b\b\b\b\b\b\b\b\b\b\b\b\b\b\b\b\b\b\b\b\b\b\b\b\b\b\b\b\b\b\b\b\b\b\b\b\b\b\b\b\b\b\b\b\b\b\b\b\b\b\b\b\b\b\b\n",
    "736/800 [==========================>...] - ETA: 0s - loss: 0.6177 - acc: 0.6753\b\b\b\b\b\b\b\b\b\b\b\b\b\b\b\b\b\b\b\b\b\b\b\b\b\b\b\b\b\b\b\b\b\b\b\b\b\b\b\b\b\b\b\b\b\b\b\b\b\b\b\b\b\b\b\b\b\b\b\b\b\b\b\b\b\b\b\b\b\b\b\b\b\b\b\b\b\b\b\n",
    "800/800 [==============================] - 0s - loss: 0.6136 - acc: 0.6812     \n",
    "[0.21993461 0.3318482  0.24766211 0.51462483 0.16771315 0.14743942\n",
    " 0.07266742 0.2729067  0.17536648 0.4474381  0.18807179 0.25605577\n",
    " 0.1751357  0.34066525 0.15425213 0.11837941 0.22323096 0.4354514\n",
    " 0.07228678 0.42617893 0.42058256 0.19022378 0.07656103 0.2302739\n",
    " 0.2898574  0.17831704 0.4497322  0.39488176 0.18922023 0.44863054\n",
    " 0.4136607  0.39599928 0.15403347 0.21477048 0.27403453 0.44038844\n",
    " 0.2478449  0.16212454 0.44724074 0.4080968  0.2458698  0.36913165\n",
    " 0.41874805 0.11317883 0.29375517 0.08350059 0.40117604 0.12408093\n",
    " 0.4339563  0.5006711  0.318091   0.01506576 0.47888747 0.46149215\n",
    " 0.25830168 0.27560487 0.40160352 0.22523038 0.34403372 0.15403347\n",
    " 0.17595078 0.33919814 0.24056132 0.40442795 0.31600302 0.15790847\n",
    " 0.3180895  0.4518196  0.18083148 0.45688182 0.18818697 0.3890984\n",
    " 0.14759547 0.07269966 0.36255804 0.29960537 0.28081793 0.25597137\n",
    " 0.16022985 0.4513318  0.40332136 0.13509353 0.2791521  0.23960653\n",
    " 0.18508025 0.26095796 0.2958366  0.46594405 0.30380365 0.4570568\n",
    " 0.16814701]"
   ]
  },
  {
   "cell_type": "markdown",
   "metadata": {},
   "source": [
    "# 4. Fine-tuning keras models\n",
    "Understanding model optimization\n"
   ]
  },
  {
   "cell_type": "code",
   "execution_count": null,
   "metadata": {},
   "outputs": [],
   "source": []
  },
  {
   "cell_type": "markdown",
   "metadata": {},
   "source": [
    "### "
   ]
  },
  {
   "cell_type": "code",
   "execution_count": null,
   "metadata": {},
   "outputs": [],
   "source": []
  },
  {
   "cell_type": "markdown",
   "metadata": {},
   "source": [
    "### "
   ]
  },
  {
   "cell_type": "code",
   "execution_count": null,
   "metadata": {},
   "outputs": [],
   "source": []
  },
  {
   "cell_type": "markdown",
   "metadata": {},
   "source": [
    "### "
   ]
  },
  {
   "cell_type": "code",
   "execution_count": null,
   "metadata": {},
   "outputs": [],
   "source": []
  },
  {
   "cell_type": "markdown",
   "metadata": {},
   "source": [
    "### "
   ]
  },
  {
   "cell_type": "code",
   "execution_count": null,
   "metadata": {},
   "outputs": [],
   "source": []
  },
  {
   "cell_type": "markdown",
   "metadata": {},
   "source": [
    "### "
   ]
  },
  {
   "cell_type": "code",
   "execution_count": null,
   "metadata": {},
   "outputs": [],
   "source": []
  },
  {
   "cell_type": "markdown",
   "metadata": {},
   "source": [
    "### "
   ]
  },
  {
   "cell_type": "code",
   "execution_count": null,
   "metadata": {},
   "outputs": [],
   "source": []
  },
  {
   "cell_type": "markdown",
   "metadata": {},
   "source": [
    "### "
   ]
  },
  {
   "cell_type": "code",
   "execution_count": null,
   "metadata": {},
   "outputs": [],
   "source": []
  },
  {
   "cell_type": "markdown",
   "metadata": {},
   "source": [
    "### "
   ]
  },
  {
   "cell_type": "code",
   "execution_count": null,
   "metadata": {},
   "outputs": [],
   "source": []
  },
  {
   "cell_type": "markdown",
   "metadata": {},
   "source": [
    "### "
   ]
  },
  {
   "cell_type": "code",
   "execution_count": null,
   "metadata": {},
   "outputs": [],
   "source": []
  },
  {
   "cell_type": "markdown",
   "metadata": {},
   "source": [
    "### "
   ]
  },
  {
   "cell_type": "code",
   "execution_count": null,
   "metadata": {},
   "outputs": [],
   "source": []
  },
  {
   "cell_type": "code",
   "execution_count": null,
   "metadata": {},
   "outputs": [],
   "source": []
  },
  {
   "cell_type": "code",
   "execution_count": null,
   "metadata": {},
   "outputs": [],
   "source": []
  },
  {
   "cell_type": "code",
   "execution_count": null,
   "metadata": {},
   "outputs": [],
   "source": []
  },
  {
   "cell_type": "markdown",
   "metadata": {},
   "source": [
    "Adding image in Jupyter notebook\n",
    "\n",
    "For web image:\n",
    "![Image of something](web_address)\n",
    "\n",
    "Local image:\n",
    "![Image of something](folder/picture.png)"
   ]
  }
 ],
 "metadata": {
  "kernelspec": {
   "display_name": "Python 3",
   "language": "python",
   "name": "python3"
  },
  "language_info": {
   "codemirror_mode": {
    "name": "ipython",
    "version": 3
   },
   "file_extension": ".py",
   "mimetype": "text/x-python",
   "name": "python",
   "nbconvert_exporter": "python",
   "pygments_lexer": "ipython3",
   "version": "3.6.4"
  }
 },
 "nbformat": 4,
 "nbformat_minor": 2
}
