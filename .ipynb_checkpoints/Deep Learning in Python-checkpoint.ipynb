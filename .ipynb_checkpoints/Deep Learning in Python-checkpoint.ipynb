{
 "cells": [
  {
   "cell_type": "markdown",
   "metadata": {},
   "source": [
    "# Deep Learning in Python\n",
    "- neural networks\n",
    "- deep learning models\n",
    "- using Keras 2.0\n",
    "- with Dan Becker from Kaggle, Keras and TensorFlow libraries\n",
    "\n",
    "Applications: robotics, NLP, image recognition, AI"
   ]
  },
  {
   "cell_type": "markdown",
   "metadata": {},
   "source": []
  },
  {
   "cell_type": "markdown",
   "metadata": {},
   "source": [
    "# 1. Basics of Deep Learning and Neural Networks\n",
    "Interactions\n",
    "- Neural Networks account for interactions really well\n",
    "- Deep learning uses powerful neural networks\n",
    "    - text, images, videos, audio, source code\n",
    "- Deep learning models capture interactions\n",
    "    - can take 2 features and caculate this interaction to predict the outcome\n",
    "    - reality is that there are a lot of interactions\n",
    "- Structure\n",
    "    - Input Layer - features\n",
    "    - Output Layer - predicted\n",
    "    - Hidden Layer - everything in between input and output\n",
    "        - each component is a NODE\n",
    "        - we don't have data and can't observe this layer directly\n",
    "        - the more nodes, the more interactions we capture\n",
    "        "
   ]
  },
  {
   "cell_type": "markdown",
   "metadata": {},
   "source": [
    "### 1.1 Forward propagation = using data to make predictions\n",
    "Example: bank transactions\n",
    "- make predictions based on:\n",
    "    - number of children\n",
    "    - number of existing accounts\n",
    "- customer with 2 children, 3 accounts\n",
    "    - line from input to each node\n",
    "    - each line has a weight for how strongly the input affects the hidden node \n",
    "    - first set of weights - parameters we train/change when NN fit to data\n",
    "- Dot product\n",
    "    - hidden node prediction = sum(input*weight)\n",
    "    - output node - repeat the same multiply-add process (sum(node*weight))\n",
    "\n",
    "Forward propagation = input to hidden node to output\n",
    "- dot product (multiply-add process)\n",
    "- forward propagation for one data point at a time\n",
    "- output is the prediction for that data point\n"
   ]
  },
  {
   "cell_type": "code",
   "execution_count": 1,
   "metadata": {},
   "outputs": [],
   "source": [
    "# Forward propagation code\n",
    "\n",
    "import numpy as np\n",
    "# recall 2 children, 3 existing accounts\n",
    "input_data = np.array([2,3])\n",
    "# 2 hidden nodes\n",
    "weights = {'node_0': np.array([1,1]),\n",
    "           'node_1': np.array([-1,1]),\n",
    "           'output': np.array([2,-1])}\n",
    "node_0_value = (input_data * weights['node_0']).sum()\n",
    "node_1_value = (input_data * weights['node_1']).sum()\n",
    "\n",
    "hidden_layer_values = np.array([node_0_value, node_1_value])\n",
    "print(hidden_layer_values)\n",
    "# [5,1]\n",
    "\n",
    "# get output\n",
    "output = hidden_layer_values * weights['output']).sum()\n",
    "print(output)\n",
    "# 9\n"
   ]
  },
  {
   "cell_type": "markdown",
   "metadata": {},
   "source": [
    "### Example: Coding the forward propagation algorithm\n",
    "In this exercise, you'll write code to do forward propagation (prediction) for your first neural network:\n",
    "\n",
    "![Image of neural net](https://s3.amazonaws.com/assets.datacamp.com/production/course_3524/datasets/1_4.png)\n",
    "\n",
    "Each data point is a customer. The first input is how many accounts they have, and the second input is how many children they have. The model will predict how many transactions the user makes in the next year. You will use this data throughout the first 2 chapters of this course.\n",
    "\n",
    "The input data has been pre-loaded as input_data, and the weights are available in a dictionary called weights. The array of weights for the first node in the hidden layer are in weights['node_0'], and the array of weights for the second node in the hidden layer are in weights['node_1'].\n",
    "\n",
    "The weights feeding into the output node are available in weights['output'].\n",
    "\n",
    "NumPy will be pre-imported for you as np in all exercises."
   ]
  },
  {
   "cell_type": "code",
   "execution_count": null,
   "metadata": {},
   "outputs": [],
   "source": [
    "# Calculate node 0 value: node_0_value\n",
    "node_0_value = (input_data * weights['node_0']).sum()\n",
    "\n",
    "# Calculate node 1 value: node_1_value\n",
    "node_1_value = (input_data * weights['node_1']).sum()\n",
    "\n",
    "# Put node values into array: hidden_layer_outputs\n",
    "hidden_layer_outputs = np.array([node_0_value, node_1_value])\n",
    "\n",
    "# Calculate output: output\n",
    "output = (hidden_layer_outputs * weights['output']).sum()\n",
    "\n",
    "# Print output\n",
    "print(output)\n",
    "\n",
    "# -39"
   ]
  },
  {
   "cell_type": "markdown",
   "metadata": {},
   "source": [
    "### 1.2 Activation functions\n",
    "- to achieve max predictive power, we need activation function in hidden layer\n",
    "- allows model to capture non-linearities\n",
    "- applied to node inputs to produce node output\n",
    "\n",
    "Improving our neural network\n",
    "- used to use tanh\n",
    "- now ReLU is the standard\n",
    "\n",
    "ReLU (Rectified Linear Activation)\n"
   ]
  },
  {
   "cell_type": "code",
   "execution_count": null,
   "metadata": {},
   "outputs": [],
   "source": [
    "# activation functions with tanh\n",
    "\n",
    "import numpy as np\n",
    "input_data = np.array([-1, 2])\n",
    "weights = {'node_0': np.array([3,3]),\n",
    "           'node_1': np.array([1,5]),\n",
    "           'output': np.array([2,-1])}\n",
    "\n",
    "# note distinguishing input and output\n",
    "node_0_input = (input_data * weights['node_0']).sum()\n",
    "node_0_output = np.tanh(node_0_input)\n",
    "node_1_input = (input_data * weights['node_1']).sum()\n",
    "node_1_output = np.tanh(node_1_input)\n",
    "\n",
    "hidden_layer_outputs = np.array([node_0_output, node_1_output])\n",
    "output = hidden_layer_outputs * weights['output']).sum()\n",
    "print(output)"
   ]
  },
  {
   "cell_type": "markdown",
   "metadata": {},
   "source": [
    "### 1.2.a ReLU - The Rectified Linear Activation Function\n",
    "As Dan explained to you in the video, an \"activation function\" is a function applied at each node. It converts the node's input into some output.\n",
    "\n",
    "The rectified linear activation function (called ReLU) has been shown to lead to very high-performance networks. This function takes a single number as an input, returning 0 if the input is negative, and the input if the input is positive.\n",
    "\n",
    "Here are some examples:\n",
    "- relu(3) = 3 \n",
    "- relu(-3) = 0 "
   ]
  },
  {
   "cell_type": "code",
   "execution_count": null,
   "metadata": {},
   "outputs": [],
   "source": [
    "# ReLU\n",
    "\n",
    "def relu(input):\n",
    "    '''Define your relu activation function here'''\n",
    "    # Calculate the value for the output of the relu function: output\n",
    "    # return 0 if input is negative, else return input\n",
    "    output = max(input, 0)\n",
    "    \n",
    "    # Return the value just calculated\n",
    "    return(output)\n",
    "\n",
    "# Calculate node 0 value: node_0_output\n",
    "node_0_input = (input_data * weights['node_0']).sum()\n",
    "node_0_output = relu(node_0_input)\n",
    "\n",
    "# Calculate node 1 value: node_1_output\n",
    "node_1_input = (input_data * weights['node_1']).sum()\n",
    "node_1_output = relu(node_1_input)\n",
    "\n",
    "# Put node values into array: hidden_layer_outputs\n",
    "hidden_layer_outputs = np.array([node_0_output, node_1_output])\n",
    "\n",
    "# Calculate model output (do not apply relu)\n",
    "model_output = (hidden_layer_outputs * weights['output']).sum()\n",
    "\n",
    "# Print model output\n",
    "print(model_output)\n",
    "\n",
    "# 52\n",
    "# we predicted 52 transactions"
   ]
  },
  {
   "cell_type": "markdown",
   "metadata": {},
   "source": [
    "### 1.2.b Applying the network to many observations/rows of data\n",
    "You'll now define a function called predict_with_network() which will generate predictions for multiple data observations, which are pre-loaded as input_data. As before, weights are also pre-loaded. In addition, the relu() function you defined in the previous exercise has been pre-loaded."
   ]
  },
  {
   "cell_type": "code",
   "execution_count": null,
   "metadata": {},
   "outputs": [],
   "source": [
    "# Define predict_with_network()\n",
    "def predict_with_network(input_data_row, weights):\n",
    "    \"\"\"accepts two arguments - input_data_row and weights - and \n",
    "    returns a prediction from the network as the output.\"\"\"\n",
    "        # Calculate node 0 value\n",
    "    node_0_input = (input_data_row * weights['node_0']).sum()\n",
    "    node_0_output = relu(node_0_input)\n",
    "\n",
    "    # Calculate node 1 value\n",
    "    node_1_input = (input_data_row * weights['node_1']).sum()\n",
    "    node_1_output = relu(node_1_input)\n",
    "\n",
    "    # Put node values into array: hidden_layer_outputs\n",
    "    hidden_layer_outputs = np.array([node_0_output, node_1_output])\n",
    "    \n",
    "    # Calculate model output\n",
    "    input_to_final_layer = (hidden_layer_outputs * weights['output']).sum()\n",
    "    model_output = relu(input_to_final_layer)\n",
    "    \n",
    "    # Return model output\n",
    "    return(model_output)\n",
    "\n",
    "\n",
    "# Create empty list to store prediction results\n",
    "results = []\n",
    "for input_data_row in input_data:\n",
    "    # Append prediction to results\n",
    "    results.append(predict_with_network(input_data_row, weights))\n",
    "\n",
    "# Print results\n",
    "print(results)\n",
    "\n",
    "# [52, 63, 0, 148]"
   ]
  },
  {
   "cell_type": "markdown",
   "metadata": {},
   "source": [
    "### 1.3 Deeper networks\n",
    "Multiple hidden layers\n",
    "- can scale to even 1000 layers\n",
    "- same propogation process\n",
    "- assume all layers use ReLU activation function\n",
    "\n",
    "Representation learning (aka deep learning)\n",
    "- deep networks internally build representations of patterns in the data\n",
    "- partially replace the need for feature engineering\n",
    "- called representation learning b/c subsequent layers build increasingly sophisticated representations of raw data until we get to a stage to make predictions\n",
    "- example in images:\n",
    "    - early nodes: diagonal line\n",
    "    - later node: face node\n",
    "    - next node: cat node    \n",
    "- So, more complex or \"higher level\" interactions are in the last layers of the model\n",
    "\n",
    "Deep learning\n",
    "- pro: modeler doesn't need to specify the interactions\n",
    "- when you train the model, the neural network gets weights that find the relevant patterns to make better predictions\n"
   ]
  },
  {
   "cell_type": "markdown",
   "metadata": {},
   "source": [
    "### 1.3.a Multi-layer neural networks\n",
    "In this exercise, you'll write code to do forward propagation for a neural network with 2 hidden layers. Each hidden layer has two nodes. The input data has been preloaded as input_data. The nodes in the first hidden layer are called node_0_0 and node_0_1. Their weights are pre-loaded as weights['node_0_0'] and weights['node_0_1'] respectively.\n",
    "\n",
    "The nodes in the second hidden layer are called node_1_0 and node_1_1. Their weights are pre-loaded as weights['node_1_0'] and weights['node_1_1'] respectively.\n",
    "\n",
    "We then create a model output from the hidden nodes using weights pre-loaded as weights['output'].\n",
    "\n",
    "![Image of neural network](https://s3.amazonaws.com/assets.datacamp.com/production/course_3524/datasets/ch1ex10.png)"
   ]
  },
  {
   "cell_type": "code",
   "execution_count": null,
   "metadata": {},
   "outputs": [],
   "source": [
    "# forward propagation with 2 hidden layers\n",
    "\n",
    "def predict_with_network(input_data):\n",
    "    # Calculate node 0 in the first hidden layer\n",
    "    node_0_0_input = (input_data * weights['node_0_0']).sum()\n",
    "    node_0_0_output = relu(node_0_0_input)\n",
    "\n",
    "    # Calculate node 1 in the first hidden layer\n",
    "    node_0_1_input = (input_data * weights['node_0_1']).sum()\n",
    "    node_0_1_output = relu(node_0_1_input)\n",
    "\n",
    "    # Put node values into array: hidden_0_outputs\n",
    "    hidden_0_outputs = np.array([node_0_0_output, node_0_1_output])\n",
    "    \n",
    "    # Calculate node 0 in the second hidden layer\n",
    "    node_1_0_input = (hidden_0_outputs * weights['node_1_0']).sum()\n",
    "    node_1_0_output = relu(node_1_0_input)\n",
    "\n",
    "    # Calculate node 1 in the second hidden layer\n",
    "    node_1_1_input = (hidden_0_outputs * weights['node_1_1']).sum()\n",
    "    node_1_1_output = relu(node_1_1_input)\n",
    "\n",
    "    # Put node values into array: hidden_1_outputs\n",
    "    hidden_1_outputs = np.array([node_1_0_output, node_1_1_output])\n",
    "\n",
    "    # Calculate model output: model_output\n",
    "    model_output = (hidden_1_outputs * weights['output']).sum()\n",
    "    \n",
    "    # Return model_output\n",
    "    return(model_output)\n",
    "\n",
    "output = predict_with_network(input_data)\n",
    "print(output)\n",
    "\n",
    "# 182\n"
   ]
  },
  {
   "cell_type": "markdown",
   "metadata": {},
   "source": [
    "# 2. Optimize a Neural Network with backward propagation\n",
    "Consider a baseline neural network\n",
    "- uses an identity function (returns the input)\n",
    "- given input and true value of target\n",
    "- use forward propagation to fill in values for hidden layer node values\n",
    "- use hidden layer node values to make a prediction on output, then compute error compared to actual value of target\n",
    "- changing the weights of the hidden layers improves accuracy of the predicted target\n",
    "\n",
    "Predictions with multiple points\n",
    "- making accurate predictions gets harder with more points\n",
    "- at any set of weights, there are many values of the error\n",
    "    - ...corresponding to the many points we make predictions for\n",
    "    \n",
    "Loss function\n",
    "- aggregates erros in predictions from many data points into single number\n",
    "- measure of model's predictive performance\n",
    "- example: column loss for regression - mean squared error loss function\n",
    "- Lower loss function value means a better model\n",
    "- Goal: Find the weights that give the lowest value for the loss function\n",
    "- How? use Gradient descent algorithm\n",
    "\n",
    "Gradient descent\n",
    "- analogy: imagine you are in a pitch dark field\n",
    "    - want to find the lowest point\n",
    "    - feel the ground to see how it slopes\n",
    "    - take a small step downhill\n",
    "    - repeat until it is uphill in every direction\n",
    "- steps:\n",
    "    - start at random point\n",
    "    - until you are somewhere flat:\n",
    "        - find the slope (the derivative)\n",
    "        - take a step downhill'\n",
    "\n",
    "Optimizing a model with a single weight\n",
    "- if slope is positive, to find the low point go in the opposite direction towards lower numbers\n",
    "- eventually get to the minimum value\n"
   ]
  },
  {
   "cell_type": "markdown",
   "metadata": {},
   "source": [
    "### Example 1: Calculating model errors\n",
    "For the exercises in this chapter, you'll continue working with the network to predict transactions for a bank.\n",
    "\n",
    "What is the error (predicted - actual) for the following network when the input data is [3, 2] and the actual value of the target (what you are trying to predict) is 5? It may be helpful to get out a pen and piece of paper to calculate these values.\n",
    "\n",
    "![example](https://s3.amazonaws.com/assets.datacamp.com/production/course_3524/datasets/ch2_ex2_3.png)\n",
    "\n",
    "Answer:\n",
    "output = 16\n",
    "actual value = 5\n",
    "error = 16 - 5 = 11"
   ]
  },
  {
   "cell_type": "markdown",
   "metadata": {},
   "source": [
    "### Example 2: Understanding how weights change model accuracy\n",
    "Imagine you have to make a prediction for a single data point. The actual value of the target is 7. The weight going from node_0 to the output is 2, as shown below. If you increased it slightly, changing it to 2.01, would the predictions become more accurate, less accurate, or stay the same?\n",
    "![example](https://s3.amazonaws.com/assets.datacamp.com/production/course_3524/datasets/ch2_ex2_3.png)\n",
    "\n",
    "Answer: less accurate\n",
    "Increasing weight from 2 to 2.01 would increase resulting error from 9 to 9.08. So less accurate"
   ]
  },
  {
   "cell_type": "markdown",
   "metadata": {},
   "source": [
    "### Example 3: Coding how weight changes affect accuracy\n",
    "Now you'll get to change weights in a real network and see how they affect model accuracy!\n",
    "\n",
    "Have a look at the following neural network: \n",
    "![example](https://s3.amazonaws.com/assets.datacamp.com/production/course_3524/datasets/ch2ex4.png)\n",
    "\n",
    "Its weights have been pre-loaded as weights_0. Your task in this exercise is to update a single weight in weights_0 to create weights_1, which gives a perfect prediction (in which the predicted value is equal to target_actual: 3).\n",
    "\n",
    "Use a pen and paper if necessary to experiment with different combinations. You'll use the predict_with_network() function, which takes an array of data as the first argument, and weights as the second argument."
   ]
  },
  {
   "cell_type": "code",
   "execution_count": null,
   "metadata": {},
   "outputs": [],
   "source": [
    "# The data point you will make a prediction for\n",
    "input_data = np.array([0, 3])\n",
    "\n",
    "# Sample weights\n",
    "weights_0 = {'node_0': [2, 1],\n",
    "             'node_1': [1, 2],\n",
    "             'output': [1, 1]\n",
    "            }\n",
    "\n",
    "# The actual target value, used to calculate the error\n",
    "target_actual = 3\n",
    "\n",
    "# Make prediction using original weights\n",
    "model_output_0 = predict_with_network(input_data, weights_0)\n",
    "\n",
    "# Calculate error: error_0\n",
    "error_0 = model_output_0 - target_actual\n",
    "\n",
    "# Create weights that cause the network to make perfect prediction (3): weights_1\n",
    "weights_1 = {'node_0': [2, 1],\n",
    "             'node_1': [1, 0], # changed 2nd weight to 0\n",
    "             'output': [1, 1]\n",
    "            }\n",
    "\n",
    "# Make prediction using new weights: model_output_1\n",
    "model_output_1 = predict_with_network(input_data, weights_1)\n",
    "\n",
    "# Calculate error: error_1\n",
    "error_1 = model_output_1 - target_actual\n",
    "\n",
    "# Print error_0 and error_1\n",
    "print(error_0)\n",
    "print(error_1)\n"
   ]
  },
  {
   "cell_type": "markdown",
   "metadata": {},
   "source": [
    "### Example 4: Scaling up to multiple data points\n",
    "You've seen how different weights will have different accuracies on a single prediction. But usually, you'll want to measure model accuracy on many points. You'll now write code to compare model accuracies for two different sets of weights, which have been stored as weights_0 and weights_1.\n",
    "\n",
    "input_data is a list of arrays. Each item in that list contains the data to make a single prediction. target_actuals is a list of numbers. Each item in that list is the actual value we are trying to predict.\n",
    "\n",
    "In this exercise, you'll use the mean_squared_error() function from sklearn.metrics. It takes the true values and the predicted values as arguments.\n",
    "\n",
    "You'll also use the preloaded predict_with_network() function, which takes an array of data as the first argument, and weights as the second argument."
   ]
  },
  {
   "cell_type": "code",
   "execution_count": null,
   "metadata": {},
   "outputs": [],
   "source": [
    "from sklearn.metrics import mean_squared_error\n",
    "\n",
    "# Create model_output_0 \n",
    "model_output_0 = []\n",
    "# Create model_output_1\n",
    "model_output_1 = []\n",
    "\n",
    "# Loop over input_data\n",
    "for row in input_data:\n",
    "    # Append prediction to model_output_0\n",
    "    model_output_0.append(predict_with_network(row, weights_0))\n",
    "    \n",
    "    # Append prediction to model_output_1\n",
    "    model_output_1.append(predict_with_network(row, weights_1))\n",
    "\n",
    "# Calculate the mean squared error for model_output_0: mse_0\n",
    "mse_0 = mean_squared_error(target_actuals, model_output_0)\n",
    "\n",
    "# Calculate the mean squared error for model_output_1: mse_1\n",
    "mse_1 = mean_squared_error(target_actuals, model_output_1)\n",
    "\n",
    "# Print mse_0 and mse_1\n",
    "print(\"Mean squared error with weights_0: %f\" %mse_0)\n",
    "print(\"Mean squared error with weights_1: %f\" %mse_1)\n",
    "\n",
    "# Mean squared error with weights_0: 294.000000\n",
    "# Mean squared error with weights_1: 395.062500\n",
    "\n",
    "# model_output_1 has a higher mean squared error"
   ]
  },
  {
   "cell_type": "markdown",
   "metadata": {},
   "source": [
    "### 2.1 Gradient descent\n",
    "- if slope is positive:\n",
    "    - going opposite the slope means moving to lower numbers\n",
    "    - subtract the slope from the current value\n",
    "    - problem: too big a step might lead us astray\n",
    "- Solution: learning rate\n",
    "    - update each weight by subtracting (learning rate * slope)\n",
    "    - learning rates frequently around 0.01\n",
    "    - this ensures small steps toward optimal rate\n",
    "\n",
    "Slope calculation example\n",
    "- to calculate the slope of a weight, need to multiply:\n",
    "    - slope of the loss function w.r.t. prediction (value at the node we feed into)\n",
    "        - = 2 * (Predicted value - Actual value) = 2* Error\n",
    "        - example: 2 * (6-10) = -8\n",
    "    - the value of the node that feeds into our weight\n",
    "        - input = 3\n",
    "    - slope of the activation function w.r.t. value we feed into\n",
    "        - this example does not have activation function, so skip\n",
    "    - slope of mean squared loss function = 2 * -4 * 3 = -24\n",
    "- if learning rate = 0.01, new weight updated to 2-0.01(-24) = 2.24\n",
    "- for multiple weights, repeat process for each weight separately, then update both weights simultaneously using their derivative\n"
   ]
  },
  {
   "cell_type": "markdown",
   "metadata": {},
   "source": [
    "#### Code to calculate slope and update weights"
   ]
  },
  {
   "cell_type": "code",
   "execution_count": null,
   "metadata": {},
   "outputs": [],
   "source": [
    "import numpy as np\n",
    "weights = np.array([1,2])\n",
    "input_data = np.array([3, 4])\n",
    "target = 6\n",
    "learning_rate = 0.01\n",
    "preds = (weights * input_data).sum()\n",
    "error = preds - target\n",
    "print(error)\n",
    "# 5\n",
    "\n",
    "# slope calculation\n",
    "gradient = 2 * input_data * error\n",
    "gradient\n",
    "# array([30, 40])\n",
    "\n",
    "# update weights by small step in that direction\n",
    "weights_updated = weights - learning_rate * gradient\n",
    "preds_updated = (weights_updated * input_data).sum()\n",
    "error_updated = preds_updated - target\n",
    "print(error_updated)\n",
    "# -2.5\n",
    "# improvement in error, repeating this would result in more improvements"
   ]
  },
  {
   "cell_type": "markdown",
   "metadata": {},
   "source": [
    "### Example 1: Calculating slopes\n",
    "You're now going to practice calculating slopes. \n",
    "When plotting the mean-squared error loss function against predictions,\n",
    "- the slope is 2*x*(y-xb),\n",
    "- or 2*(input_data)*(error)\n",
    "\n",
    "Note that x and b may have multiple numbers (x is a vector for each data point, and b is a vector). In this case, the output will also be a vector, which is exactly what you want.\n",
    "\n",
    "You're ready to write the code to calculate this slope while using a single data point. You'll use pre-defined weights called weights as well as data for a single point called input_data. The actual value of the target you want to predict is stored in target."
   ]
  },
  {
   "cell_type": "code",
   "execution_count": null,
   "metadata": {},
   "outputs": [],
   "source": [
    "# Calculate the predictions: preds\n",
    "preds = (input_data * weights).sum()\n",
    "\n",
    "# Calculate the error: error\n",
    "# This error corresponds to y-xb in the gradient expression\n",
    "error = target - preds\n",
    "\n",
    "# Calculate the slope: slope\n",
    "slope = 2 * input_data * error\n",
    "\n",
    "# Print the slope\n",
    "print(slope)\n",
    "\n",
    "# [-14 -28 -42]"
   ]
  },
  {
   "cell_type": "markdown",
   "metadata": {},
   "source": [
    "### Example 2: Improving model weights (using the slope)\n",
    "Hurray! You've just calculated the slopes you need. Now it's time to use those slopes to improve your model. If you add the slopes to your weights, you will move in the right direction. However, it's possible to move too far in that direction. So you will want to take a small step in that direction first, using a lower learning rate, and verify that the model is improving.\n",
    "\n",
    "The weights have been pre-loaded as weights, the actual value of the target as target, and the input data as input_data. The predictions from the initial weights are stored as preds."
   ]
  },
  {
   "cell_type": "code",
   "execution_count": null,
   "metadata": {},
   "outputs": [],
   "source": [
    "# Set the learning rate: learning_rate\n",
    "learning_rate = 0.01\n",
    "\n",
    "# Calculate the predictions: preds\n",
    "preds = (weights * input_data).sum()\n",
    "\n",
    "# Calculate the error: error\n",
    "error = preds - target\n",
    "\n",
    "# Calculate the slope: slope\n",
    "slope = 2 * input_data * error\n",
    "\n",
    "# Update the weights: weights_updated\n",
    "weights_updated = weights - (learning_rate * slope)\n",
    "\n",
    "# Get updated predictions: preds_updated\n",
    "preds_updated = (weights_updated * input_data).sum()\n",
    "\n",
    "# Calculate updated error: error_updated\n",
    "error_updated = preds_updated - target\n",
    "\n",
    "# Print the original error\n",
    "print(error)\n",
    "\n",
    "# Print the updated error\n",
    "print(error_updated)\n",
    "\n",
    "# 7\n",
    "# 5.04\n",
    "\n",
    "# Updating the model weights decreased the error."
   ]
  },
  {
   "cell_type": "markdown",
   "metadata": {},
   "source": [
    "### Example 3: Making multiple updates to weights\n",
    "You're now going to make multiple updates so you can dramatically improve your model weights, and see how the predictions improve with each update.\n",
    "\n",
    "To keep your code clean, there is a pre-loaded get_slope() function that takes input_data, target, and weights as arguments. There is also a get_mse() function that takes the same arguments. The input_data, target, and weights have been pre-loaded.\n",
    "\n",
    "This network does not have any hidden layers, and it goes directly from the input (with 3 nodes) to an output node. Note that weights is a single array.\n",
    "\n",
    "We have also pre-loaded matplotlib.pyplot, and the error history will be plotted after you have done your gradient descent steps."
   ]
  },
  {
   "cell_type": "code",
   "execution_count": null,
   "metadata": {},
   "outputs": [],
   "source": [
    "n_updates = 20\n",
    "mse_hist = []\n",
    "\n",
    "# Iterate over the number of updates\n",
    "for i in range(n_updates):\n",
    "    # Calculate the slope: slope\n",
    "    # get_slope() is a pre-defined function\n",
    "    slope = get_slope(input_data, target, weights)\n",
    "    \n",
    "    # Update the weights: weights\n",
    "    # Learning rate = 0.01\n",
    "    weights = weights - 0.01 * slope\n",
    "    \n",
    "    # Calculate mse with new weights: mse\n",
    "    mse = get_mse(input_data, target, weights)\n",
    "    \n",
    "    # Append the mse to mse_hist\n",
    "    mse_hist.append(mse)\n",
    "\n",
    "# Plot the mse history\n",
    "plt.plot(mse_hist)\n",
    "plt.xlabel('Iterations')\n",
    "plt.ylabel('Mean Squared Error')\n",
    "plt.show()\n",
    "\n",
    "# In the plot, you can see the mean squared error decreases as the \n",
    "# number of iterations go up."
   ]
  },
  {
   "cell_type": "markdown",
   "metadata": {},
   "source": [
    "![result plot](data:image/svg+xml;base64,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)"
   ]
  },
  {
   "cell_type": "markdown",
   "metadata": {},
   "source": [
    "### 2.2 Backpropagation\n",
    "- use backpropagation to calculate the slopes you need to optimize more complex deep learning models\n",
    "- Backpropagation - takes error from output layer and propates through hidden layers to input\n",
    "- Allows gradient descent to update all weights in neural network (by getting gradients for all weights)\n",
    "- Important to understand the process, but you will generally use a library that implements this.\n",
    "\n",
    "Backpropoagation process\n",
    "- trying to estimate the slope of the loss function w.r.t. each weight\n",
    "- Do forward propagation to calculate predictions and errors, before you do backpropagation\n",
    "- Go back one layer at a time\n",
    "- Gradients for weight (to get slope) is product of:\n",
    "    1. Input node value - Node value feeding into that weight\n",
    "        - input node is given from data\n",
    "        - hidden nodes are calculated from forward propagation\n",
    "    2. Slope of loss function w.r.t. output node it feeds into\n",
    "    3. Slope of activation function at the node it feeds into\n",
    "- Need to also keep track of the slopes of the loss function w.r.t. node values\n",
    "- Slope of node values are the sum of the slopes for all weights that come out of them.\n",
    "\n",
    "ReLU activation function\n",
    "- slope = 0 if value is negatie\n",
    "- slope = 1 if value positive\n"
   ]
  },
  {
   "cell_type": "markdown",
   "metadata": {},
   "source": [
    "### 2.2.a The relationship b/n forward and backward propagation\n",
    "If you have gone through 4 iterations of calculating slopes (using backward propagation) and then updated weights, how many times must you have done forward propagation?\n",
    "\n",
    "4\n",
    "\n",
    "Each time you generate predictions using forward propagation, you update the weights using backward propagation."
   ]
  },
  {
   "cell_type": "markdown",
   "metadata": {},
   "source": [
    "### 2.2.b Thinking about backward propagation\n",
    "If your predictions were all exactly right, and your errors were all exactly 0, the slope of the loss function with respect to your predictions would also be 0. In that circumstance, which of the following statements would be correct?\n",
    "\n",
    "The updates to all weights in the network would also be 0."
   ]
  },
  {
   "cell_type": "markdown",
   "metadata": {},
   "source": [
    "### 2.3 Backpropagation in practice\n",
    "Example:\n",
    "- node 0 value = 1\n",
    "- node 1 value = 3\n",
    "- weight 0 = 1\n",
    "- weight 1 = 2\n",
    "- output = 7, actual target value = 4\n",
    "    - error = 3\n",
    "    - relevant slope of output node = 2x error, 2*3 = 6\n",
    "- Top weight slope = 1*6 = 6\n",
    "- Bottom weight slope = 3*6 = 18\n",
    "- Calculate one layer back\n",
    "    - top node = 6\n",
    "    - bottom mode = 18\n",
    "    - \n",
    "Recall: Calculating slopes associated with any weight\n",
    "- Recall Gradients for weight is product of:\n",
    "    1. Input node value - Node value feeding into that weight\n",
    "        - input node is given from data\n",
    "        - hidden nodes are calculated from forward propagation\n",
    "    2. Slope of loss function w.r.t. output node it feeds into\n",
    "    3. Slope of activation function at the node it feeds into\n",
    "\n",
    "Backpropagation \n",
    "- Current weight value, Gradient\n",
    "    - 0, 0\n",
    "    - 1, 6\n",
    "    - 2, 0\n",
    "    - 3, 18\n",
    "    \n",
    "Backpropagation recap:\n",
    "- start at some random set of weights\n",
    "- use forward propagation to calculate the slope of the loss function w.r.t. each weight\n",
    "- multiply that slope by the learning rate, and subtract from the current weights\n",
    "- Repeat cycle until we get to a flat part\n",
    "\n",
    "Stochastic gradient descent\n",
    "- it's common to calculate slopes on only a subset of the data ('batch')\n",
    "- use a different batch of data to calculate the next update\n",
    "- once you've used all data, start over from the beginning\n",
    "- each time through the training data is called an epoch\n",
    "- when slopes are calculated on one batch at a time = stochastic gradient descent\n"
   ]
  },
  {
   "cell_type": "markdown",
   "metadata": {},
   "source": [
    "### A round of backpropagation\n",
    "In the network shown below, we have done forward propagation, and node values calculated as part of forward propagation are shown in white. The weights are shown in black. Layers after the question mark show the slopes calculated as part of back-prop, rather than the forward-prop values. Those slope values are shown in purple.\n",
    "\n",
    "This network again uses the ReLU activation function, so the slope of the activation function is 1 for any node receiving a positive value as input. Assume the node being examined had a positive value (so the activation function's slope is 1).\n",
    "\n",
    "![example](https://s3.amazonaws.com/assets.datacamp.com/production/course_3524/datasets/ch2ex14_1.png)\n",
    "\n",
    "Recall: Gradients for weight (to get slope) is product of:\n",
    "- Input node value\n",
    "    - 2\n",
    "- Slope of loss function w.r.t. output node it feeds into\n",
    "    - 3\n",
    "- Slope of activation function at the node it feeds into\n",
    "    - ReLU slope = 1\n",
    "\n",
    "What is the slope needed to update the weight with the question mark?\n",
    "\n",
    "![example2](https://s3.amazonaws.com/assets.datacamp.com/production/course_3524/datasets/ch2ex14_2.png)\n",
    "\n",
    "Answer: 2x3 = 6, which is the weight"
   ]
  },
  {
   "cell_type": "markdown",
   "metadata": {},
   "source": [
    "# 3. Building Deep Learning models with keras\n",
    "Model building steps\n",
    "1. specify architecture\n",
    "    - how many layers\n",
    "    - how many nodes in each layer\n",
    "    - what activation function at each layer\n",
    "2. compile model\n",
    "    - specify loss functions\n",
    "    - details on optimization\n",
    "3. Fit\n",
    "    - cycle of backpropagation and optimization of model weights\n",
    "4. Predict\n"
   ]
  },
  {
   "cell_type": "markdown",
   "metadata": {},
   "source": [
    "### 3.1 Step 1: Model specification"
   ]
  },
  {
   "cell_type": "code",
   "execution_count": null,
   "metadata": {},
   "outputs": [],
   "source": [
    "import numpy as np\n",
    "from keras.layers import Dense\n",
    "from keras.models import Sequential\n",
    "\n",
    "# read data\n",
    "# n_cols = number of nodes in input layer\n",
    "predictors = np.loadtext('predictors_data.csv', delimiter=',')\n",
    "n_cols = predictors.shape[1]\n",
    "\n",
    "# build model - Sequential is the easier of 2 ways to build a model\n",
    "# Sequential specifies weights only to 1 layer directly after it\n",
    "model = Sequential()\n",
    "# .add method adds layers\n",
    "# Called Dense b/c all nodes from previous layer connect to current layer\n",
    "# You may use layers that are not Dense\n",
    "# .Dense(number of layers, activation=activation function)\n",
    "# In first layer, you need to specify input_shape\n",
    "# Input_shape(n_cols columns, nothing here specifies any number of rows)\n",
    "# The last layer has 1 node b/c it's the output layer\n",
    "# This model has 2 hidden layers\n",
    "# Common to use 100s or 1000s of nodes in a layer\n",
    "model.add(Dense(100, activation='relu', input_shape = (n_cols,)))\n",
    "model.add(Dense(100, activation='relu'))\n",
    "model.add(Dense(1))"
   ]
  },
  {
   "cell_type": "code",
   "execution_count": null,
   "metadata": {},
   "outputs": [],
   "source": [
    "# Model specification - code without notes\n",
    "import numpy as np\n",
    "from keras.layers import Dense\n",
    "from keras.models import Sequential\n",
    "\n",
    "# read data\n",
    "predictors = np.loadtext('predictors_data.csv', delimiter=',')\n",
    "n_cols = predictors.shape[1]\n",
    "\n",
    "# build model\n",
    "model = Sequential()\n",
    "# add layers\n",
    "model.add(Dense(100, activation='relu', input_shape = (n_cols,)))\n",
    "model.add(Dense(100, activation='relu'))\n",
    "model.add(Dense(1))"
   ]
  },
  {
   "cell_type": "markdown",
   "metadata": {},
   "source": [
    "#### Example: Understanding your data\n",
    "You will soon start building models in Keras to predict wages based on various professional and demographic factors. Before you start building a model, it's good to understand your data by performing some exploratory analysis.\n",
    "\n",
    "The data is pre-loaded into a pandas DataFrame called df. Use the .head() and .describe() methods in the IPython Shell for a quick overview of the DataFrame.\n",
    "\n",
    "The target variable you'll be predicting is wage_per_hour. Some of the predictor variables are binary indicators, where a value of 1 represents True, and 0 represents False.\n",
    "\n",
    "Of the 9 predictor variables in the DataFrame, how many are binary indicators? The min and max values as shown by .describe() will be informative here. How many binary indicator predictors are there?"
   ]
  },
  {
   "cell_type": "code",
   "execution_count": null,
   "metadata": {},
   "outputs": [],
   "source": []
  },
  {
   "cell_type": "markdown",
   "metadata": {},
   "source": [
    "#### Example: Specifying a model\n",
    "Now you'll get to work with your first model in Keras, and will immediately be able to run more complex neural network models on larger datasets compared to the first two chapters.\n",
    "\n",
    "To start, you'll take the skeleton of a neural network and add a hidden layer and an output layer. You'll then fit that model and see Keras do the optimization so your model continually gets better.\n",
    "\n",
    "As a start, you'll predict workers wages based on characteristics like their industry, education and level of experience. You can find the dataset in a pandas dataframe called df. For convenience, everything in df except for the target has been converted to a NumPy matrix called predictors. The target, wage_per_hour, is available as a NumPy matrix called target.\n",
    "\n",
    "For all exercises in this chapter, we've imported the Sequential model constructor, the Dense layer constructor, and pandas."
   ]
  },
  {
   "cell_type": "code",
   "execution_count": null,
   "metadata": {},
   "outputs": [],
   "source": []
  },
  {
   "cell_type": "markdown",
   "metadata": {},
   "source": [
    "### 3.2 Step 2 and 3: Compiling and fitting a model\n",
    "Why you need to compile a model\n"
   ]
  },
  {
   "cell_type": "code",
   "execution_count": null,
   "metadata": {},
   "outputs": [],
   "source": []
  },
  {
   "cell_type": "markdown",
   "metadata": {},
   "source": [
    "#### Example: Compiling the model\n",
    "You're now going to compile the model you specified earlier. To compile the model, you need to specify the optimizer and loss function to use. In the video, Dan mentioned that the Adam optimizer is an excellent choice. You can read more about it as well as other keras optimizers here, and if you are really curious to learn more, you can read the original paper that introduced the Adam optimizer.\n",
    "\n",
    "In this exercise, you'll use the Adam optimizer and the mean squared error loss function. Go for it! "
   ]
  },
  {
   "cell_type": "code",
   "execution_count": null,
   "metadata": {},
   "outputs": [],
   "source": []
  },
  {
   "cell_type": "markdown",
   "metadata": {},
   "source": [
    "#### Example: Fitting the model\n",
    "You're at the most fun part. You'll now fit the model. Recall that the data to be used as predictive features is loaded in a NumPy matrix called predictors and the data to be predicted is stored in a NumPy matrix called target. Your model is pre-written and it has been compiled with the code from the previous exercise."
   ]
  },
  {
   "cell_type": "code",
   "execution_count": null,
   "metadata": {},
   "outputs": [],
   "source": []
  },
  {
   "cell_type": "markdown",
   "metadata": {},
   "source": [
    "### 3.3 Classification models - with Deep Learning"
   ]
  },
  {
   "cell_type": "code",
   "execution_count": null,
   "metadata": {},
   "outputs": [],
   "source": []
  },
  {
   "cell_type": "markdown",
   "metadata": {},
   "source": [
    "#### 3.3.a  Understanding your classification data\n",
    "Now you will start modeling with a new dataset for a classification problem. This data includes information about passengers on the Titanic. You will use predictors such as age, fare and where each passenger embarked from to predict who will survive. This data is from a tutorial on data science competitions. Look here for descriptions of the features.\n",
    "\n",
    "The data is pre-loaded in a pandas DataFrame called df.\n",
    "\n",
    "It's smart to review the maximum and minimum values of each variable to ensure the data isn't misformatted or corrupted. What was the maximum age of passengers on the Titanic? Use the .describe() method in the IPython Shell to answer this question."
   ]
  },
  {
   "cell_type": "code",
   "execution_count": null,
   "metadata": {},
   "outputs": [],
   "source": []
  },
  {
   "cell_type": "markdown",
   "metadata": {},
   "source": [
    "#### 3.3.b  Last steps in classification models\n",
    "You'll now create a classification model using the titanic dataset, which has been pre-loaded into a DataFrame called df. You'll take information about the passengers and predict which ones survived.\n",
    "\n",
    "The predictive variables are stored in a NumPy array predictors. The target to predict is in df.survived, though you'll have to manipulate it for keras. The number of predictive features is stored in n_cols.\n",
    "\n",
    "Here, you'll use the 'sgd' optimizer, which stands for Stochastic Gradient Descent (https://en.wikipedia.org/wiki/Stochastic_gradient_descent). You'll learn more about this in the next chapter!"
   ]
  },
  {
   "cell_type": "code",
   "execution_count": null,
   "metadata": {},
   "outputs": [],
   "source": []
  },
  {
   "cell_type": "markdown",
   "metadata": {},
   "source": [
    "### 3.4 Using models\n"
   ]
  },
  {
   "cell_type": "code",
   "execution_count": null,
   "metadata": {},
   "outputs": [],
   "source": []
  },
  {
   "cell_type": "markdown",
   "metadata": {},
   "source": [
    "### 3.5 Making predictions\n",
    "The trained network from your previous coding exercise is now stored as model. New data to make predictions is stored in a NumPy array as pred_data. Use model to make predictions on your new data.\n",
    "\n",
    "In this exercise, your predictions will be probabilities, which is the most common way for data scientists to communicate their predictions to colleagues."
   ]
  },
  {
   "cell_type": "code",
   "execution_count": null,
   "metadata": {},
   "outputs": [],
   "source": []
  },
  {
   "cell_type": "markdown",
   "metadata": {},
   "source": [
    "### "
   ]
  },
  {
   "cell_type": "code",
   "execution_count": null,
   "metadata": {},
   "outputs": [],
   "source": []
  },
  {
   "cell_type": "markdown",
   "metadata": {},
   "source": [
    "Adding image in Jupyter notebook\n",
    "\n",
    "For web image:\n",
    "![Image of something](web_address)\n",
    "\n",
    "Local image:\n",
    "![Image of something](folder/picture.png)"
   ]
  },
  {
   "cell_type": "markdown",
   "metadata": {},
   "source": [
    "# 4. Fine-tuning keras models"
   ]
  },
  {
   "cell_type": "code",
   "execution_count": null,
   "metadata": {},
   "outputs": [],
   "source": []
  },
  {
   "cell_type": "markdown",
   "metadata": {},
   "source": [
    "### "
   ]
  },
  {
   "cell_type": "code",
   "execution_count": null,
   "metadata": {},
   "outputs": [],
   "source": []
  },
  {
   "cell_type": "markdown",
   "metadata": {},
   "source": [
    "### "
   ]
  },
  {
   "cell_type": "code",
   "execution_count": null,
   "metadata": {},
   "outputs": [],
   "source": []
  },
  {
   "cell_type": "markdown",
   "metadata": {},
   "source": [
    "### "
   ]
  },
  {
   "cell_type": "code",
   "execution_count": null,
   "metadata": {},
   "outputs": [],
   "source": []
  },
  {
   "cell_type": "markdown",
   "metadata": {},
   "source": [
    "### "
   ]
  },
  {
   "cell_type": "code",
   "execution_count": null,
   "metadata": {},
   "outputs": [],
   "source": []
  },
  {
   "cell_type": "markdown",
   "metadata": {},
   "source": [
    "### "
   ]
  },
  {
   "cell_type": "code",
   "execution_count": null,
   "metadata": {},
   "outputs": [],
   "source": []
  },
  {
   "cell_type": "markdown",
   "metadata": {},
   "source": [
    "### "
   ]
  },
  {
   "cell_type": "code",
   "execution_count": null,
   "metadata": {},
   "outputs": [],
   "source": []
  },
  {
   "cell_type": "markdown",
   "metadata": {},
   "source": [
    "### "
   ]
  },
  {
   "cell_type": "code",
   "execution_count": null,
   "metadata": {},
   "outputs": [],
   "source": []
  },
  {
   "cell_type": "markdown",
   "metadata": {},
   "source": [
    "### "
   ]
  },
  {
   "cell_type": "code",
   "execution_count": null,
   "metadata": {},
   "outputs": [],
   "source": []
  },
  {
   "cell_type": "markdown",
   "metadata": {},
   "source": [
    "### "
   ]
  },
  {
   "cell_type": "code",
   "execution_count": null,
   "metadata": {},
   "outputs": [],
   "source": []
  },
  {
   "cell_type": "markdown",
   "metadata": {},
   "source": [
    "### "
   ]
  },
  {
   "cell_type": "code",
   "execution_count": null,
   "metadata": {},
   "outputs": [],
   "source": []
  },
  {
   "cell_type": "code",
   "execution_count": null,
   "metadata": {},
   "outputs": [],
   "source": []
  },
  {
   "cell_type": "code",
   "execution_count": null,
   "metadata": {},
   "outputs": [],
   "source": []
  },
  {
   "cell_type": "code",
   "execution_count": null,
   "metadata": {},
   "outputs": [],
   "source": []
  }
 ],
 "metadata": {
  "kernelspec": {
   "display_name": "Python 3",
   "language": "python",
   "name": "python3"
  },
  "language_info": {
   "codemirror_mode": {
    "name": "ipython",
    "version": 3
   },
   "file_extension": ".py",
   "mimetype": "text/x-python",
   "name": "python",
   "nbconvert_exporter": "python",
   "pygments_lexer": "ipython3",
   "version": "3.6.4"
  }
 },
 "nbformat": 4,
 "nbformat_minor": 2
}
